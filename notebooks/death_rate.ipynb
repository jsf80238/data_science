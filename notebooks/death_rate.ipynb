{
 "cells": [
  {
   "cell_type": "code",
   "execution_count": 13,
   "id": "e67f818c-dbcd-43f0-aa9e-66ec933b29e3",
   "metadata": {},
   "outputs": [],
   "source": [
    "import csv\n",
    "import datetime\n",
    "import os\n",
    "import pickle\n",
    "import subprocess\n",
    "# Imports above are standard library\n",
    "# Imports below are 3rd-party\n",
    "import numpy as np\n",
    "import pandas as pd\n",
    "import requests\n",
    "import seaborn as sns\n",
    "from matplotlib import pyplot as plt\n",
    "from sklearn.datasets import make_blobs\n",
    "from sklearn.ensemble import RandomForestClassifier\n",
    "from sklearn.linear_model import LinearRegression, LogisticRegression\n",
    "from sklearn.metrics import RocCurveDisplay, ConfusionMatrixDisplay, recall_score, precision_score, silhouette_score, f1_score, accuracy_score, roc_auc_score, confusion_matrix, ConfusionMatrixDisplay\n",
    "from sklearn.model_selection import train_test_split, PredefinedSplit, GridSearchCV\n",
    "from sklearn.naive_bayes import GaussianNB, BernoulliNB, CategoricalNB, ComplementNB, MultinomialNB\n",
    "from sklearn.preprocessing import StandardScaler, MinMaxScaler\n",
    "from sklearn.tree import DecisionTreeClassifier, plot_tree\n",
    "from statsmodels.api import qqplot\n",
    "from statsmodels.formula.api import ols\n",
    "from statsmodels.stats.multicomp import pairwise_tukeyhsd\n",
    "from statsmodels.stats.outliers_influence import variance_inflation_factor\n",
    "import scipy.stats as stats\n",
    "import statsmodels.api as sm\n",
    "from xgboost import XGBClassifier, plot_importance"
   ]
  },
  {
   "cell_type": "markdown",
   "id": "def83ef6-4c79-4407-a0f9-8dc00943c27d",
   "metadata": {},
   "source": [
    "## Kaggle API\n",
    "You will need your own API key, which you can get by following instructions at https://github.com/Kaggle/kaggle-api/blob/main/docs/README.md"
   ]
  },
  {
   "cell_type": "code",
   "execution_count": 3,
   "id": "f591ff6f-5abc-4e54-bed5-2eebb3490f58",
   "metadata": {},
   "outputs": [
    {
     "data": {
      "text/plain": [
       "'ref,title,size,lastUpdated,downloadCount,voteCount,usabilityRating\\r\\ncdc/nchs-death-rates-and-causes-'"
      ]
     },
     "execution_count": 3,
     "metadata": {},
     "output_type": "execute_result"
    }
   ],
   "source": [
    "os.environ[\"KAGGLE_USERNAME\"] = \"jsf80238\"\n",
    "os.environ[\"KAGGLE_KEY\"] = \"4036359324650e1c13adfc7ba87ff90e\"\n",
    "import kaggle  # The import itself uses your KAGGLE_KEY, that's why the import is not at the top. Really.\n",
    "\n",
    "dataset_name = \"NCHS - Death Rates and Causes of Death\"\n",
    "command = \"kaggle datasets list --csv --search\".split()\n",
    "#command.append(\"NCHS - Death Rates and Causes of Death\")\n",
    "result = subprocess.run(command + [dataset_name], capture_output=True)\n",
    "data = result.stdout.decode(encoding=\"utf-8\")\n",
    "data[:100]"
   ]
  },
  {
   "cell_type": "code",
   "execution_count": 4,
   "id": "a0a577a2-ab05-43d5-9812-bab0d41f1c20",
   "metadata": {},
   "outputs": [
    {
     "name": "stdout",
     "output_type": "stream",
     "text": [
      "{'ref': 'cdc/nchs-death-rates-and-causes-of-death', 'title': 'NCHS - Death Rates and Causes of Death', 'size': '3MB', 'lastUpdated': '2019-12-28 01:24:17', 'downloadCount': '1540', 'voteCount': '14', 'usabilityRating': '0.7647059'}\n"
     ]
    },
    {
     "data": {
      "text/plain": [
       "'cdc/nchs-death-rates-and-causes-of-death'"
      ]
     },
     "execution_count": 4,
     "metadata": {},
     "output_type": "execute_result"
    }
   ],
   "source": [
    "csvreader = csv.DictReader(data.splitlines())\n",
    "for row in csvreader:\n",
    "    if row[\"title\"] == dataset_name:\n",
    "        print(row)\n",
    "        dataset_ref = row['ref']\n",
    "        break\n",
    "dataset_ref"
   ]
  },
  {
   "cell_type": "code",
   "execution_count": 5,
   "id": "ac93e08b-fdc3-4938-9f13-2692e9741789",
   "metadata": {},
   "outputs": [
    {
     "name": "stdout",
     "output_type": "stream",
     "text": [
      "Downloading nchs-leading-causes-of-death-united-states.csv to /home/jason/PycharmProjects/data_science/notebooks\n",
      "\n",
      "\n",
      "100%|██████████| 834k/834k [00:00<00:00, 3.18MB/s]\n",
      "\n",
      ".ipynb_checkpoints\n",
      "death_rate.ipynb\n",
      "nchs-age-adjusted-death-rates-for-selected-major-causes-of-death.csv\n",
      "nchs-leading-causes-of-death-united-states.csv\n",
      "socrata_metadata_nchs-age-adjusted-death-rates-for-selected-major-causes-of-death.json\n",
      "socrata_metadata_nchs-death-rates-and-life-expectancy-at-birth.json\n",
      "socrata_metadata_nchs-leading-causes-of-death-united-states.json\n",
      "socrata_metadata_nchs-potentially-excess-deaths-from-the-five-leading-causes-of-death.json\n",
      "socrata_metadata_nchs-top-five-leading-causes-of-death-united-states-1990-1950-2000.json\n"
     ]
    }
   ],
   "source": [
    "dataset_ref = \"cdc/nchs-death-rates-and-causes-of-death\"\n",
    "file_name = \"nchs-leading-causes-of-death-united-states.csv\"\n",
    "command = f\"kaggle datasets download --unzip --force --file {file_name} {dataset_ref}\".split()\n",
    "result = subprocess.run(command, capture_output=True)\n",
    "stdout = result.stdout.decode(encoding=\"utf-8\")\n",
    "stderr = result.stderr.decode(encoding=\"utf-8\")\n",
    "print(stdout)\n",
    "print(stderr)\n",
    "print(os.linesep.join(sorted(os.listdir(\".\"))))"
   ]
  },
  {
   "cell_type": "markdown",
   "id": "facde2e7-3d33-4fbb-a894-9046d484816f",
   "metadata": {},
   "source": [
    "## Kaggle workaround\n",
    "If you were unable to download the cause-of-death file you can also grab it from my GitHub repo:\n"
   ]
  },
  {
   "cell_type": "code",
   "execution_count": 6,
   "id": "416561e6-d646-4647-aec4-e4928df4972d",
   "metadata": {},
   "outputs": [
    {
     "name": "stdout",
     "output_type": "stream",
     "text": [
      "<class 'pandas.core.frame.DataFrame'>\n",
      "RangeIndex: 10868 entries, 0 to 10867\n",
      "Data columns (total 6 columns):\n",
      " #   Column                   Non-Null Count  Dtype  \n",
      "---  ------                   --------------  -----  \n",
      " 0   Year                     10868 non-null  int64  \n",
      " 1   113 Cause Name           10868 non-null  object \n",
      " 2   Cause Name               10868 non-null  object \n",
      " 3   State                    10868 non-null  object \n",
      " 4   Deaths                   10868 non-null  int64  \n",
      " 5   Age-adjusted Death Rate  10868 non-null  float64\n",
      "dtypes: float64(1), int64(2), object(3)\n",
      "memory usage: 509.6+ KB\n"
     ]
    }
   ],
   "source": [
    "df = pd.read_csv(file_name)\n",
    "df.info()"
   ]
  },
  {
   "cell_type": "code",
   "execution_count": 7,
   "id": "aec5f724-c58a-4e57-8d25-bb6d3862298f",
   "metadata": {},
   "outputs": [
    {
     "name": "stdout",
     "output_type": "stream",
     "text": [
      "<class 'pandas.core.frame.DataFrame'>\n",
      "RangeIndex: 10868 entries, 0 to 10867\n",
      "Data columns (total 4 columns):\n",
      " #   Column      Non-Null Count  Dtype  \n",
      "---  ------      --------------  -----  \n",
      " 0   year        10868 non-null  int64  \n",
      " 1   cause_name  10868 non-null  object \n",
      " 2   state_name  10868 non-null  object \n",
      " 3   death_rate  10868 non-null  float64\n",
      "dtypes: float64(1), int64(1), object(2)\n",
      "memory usage: 339.8+ KB\n"
     ]
    }
   ],
   "source": [
    "YEAR = \"year\"\n",
    "CAUSE = \"cause_name\"\n",
    "STATE_NAME = \"state_name\"\n",
    "DEATH_RATE = \"death_rate\"\n",
    "df.drop(columns=[\"113 Cause Name\", \"Deaths\"], inplace=True)\n",
    "name_dict = {\n",
    "    \"Year\": YEAR,\n",
    "    \"Cause Name\": CAUSE,\n",
    "    \"State\": STATE_NAME,\n",
    "    \"Age-adjusted Death Rate\": DEATH_RATE,\n",
    "}\n",
    "df.rename(columns=name_dict, inplace=True)\n",
    "df.info()"
   ]
  },
  {
   "cell_type": "code",
   "execution_count": 8,
   "id": "2946ec88-db57-4d18-8559-cbf0cfa5d1ef",
   "metadata": {},
   "outputs": [
    {
     "name": "stdout",
     "output_type": "stream",
     "text": [
      "<class 'pandas.core.frame.DataFrame'>\n",
      "Index: 4488 entries, 0 to 10802\n",
      "Data columns (total 4 columns):\n",
      " #   Column      Non-Null Count  Dtype  \n",
      "---  ------      --------------  -----  \n",
      " 0   year        4488 non-null   int64  \n",
      " 1   cause_name  4488 non-null   object \n",
      " 2   state_name  4488 non-null   object \n",
      " 3   death_rate  4488 non-null   float64\n",
      "dtypes: float64(1), int64(1), object(2)\n",
      "memory usage: 175.3+ KB\n"
     ]
    }
   ],
   "source": [
    "mask = (df[YEAR] >= 2010) & (df[STATE_NAME] != 'United States')\n",
    "df = df[mask]\n",
    "df.info()"
   ]
  },
  {
   "cell_type": "code",
   "execution_count": 9,
   "id": "04c261d9-2bdf-40a7-af81-818c2978ab96",
   "metadata": {},
   "outputs": [
    {
     "data": {
      "text/html": [
       "<div>\n",
       "<style scoped>\n",
       "    .dataframe tbody tr th:only-of-type {\n",
       "        vertical-align: middle;\n",
       "    }\n",
       "\n",
       "    .dataframe tbody tr th {\n",
       "        vertical-align: top;\n",
       "    }\n",
       "\n",
       "    .dataframe thead th {\n",
       "        text-align: right;\n",
       "    }\n",
       "</style>\n",
       "<table border=\"1\" class=\"dataframe\">\n",
       "  <thead>\n",
       "    <tr style=\"text-align: right;\">\n",
       "      <th></th>\n",
       "      <th>state_name</th>\n",
       "      <th>cause_name</th>\n",
       "      <th>death_rate</th>\n",
       "    </tr>\n",
       "  </thead>\n",
       "  <tbody>\n",
       "    <tr>\n",
       "      <th>0</th>\n",
       "      <td>Alabama</td>\n",
       "      <td>All causes</td>\n",
       "      <td>924.6125</td>\n",
       "    </tr>\n",
       "    <tr>\n",
       "      <th>1</th>\n",
       "      <td>Alabama</td>\n",
       "      <td>Alzheimer's disease</td>\n",
       "      <td>35.2625</td>\n",
       "    </tr>\n",
       "    <tr>\n",
       "      <th>2</th>\n",
       "      <td>Alabama</td>\n",
       "      <td>CLRD</td>\n",
       "      <td>55.5750</td>\n",
       "    </tr>\n",
       "    <tr>\n",
       "      <th>3</th>\n",
       "      <td>Alabama</td>\n",
       "      <td>Cancer</td>\n",
       "      <td>180.5125</td>\n",
       "    </tr>\n",
       "    <tr>\n",
       "      <th>4</th>\n",
       "      <td>Alabama</td>\n",
       "      <td>Diabetes</td>\n",
       "      <td>22.6875</td>\n",
       "    </tr>\n",
       "    <tr>\n",
       "      <th>...</th>\n",
       "      <td>...</td>\n",
       "      <td>...</td>\n",
       "      <td>...</td>\n",
       "    </tr>\n",
       "    <tr>\n",
       "      <th>556</th>\n",
       "      <td>Wyoming</td>\n",
       "      <td>Influenza and pneumonia</td>\n",
       "      <td>17.5750</td>\n",
       "    </tr>\n",
       "    <tr>\n",
       "      <th>557</th>\n",
       "      <td>Wyoming</td>\n",
       "      <td>Kidney disease</td>\n",
       "      <td>11.7625</td>\n",
       "    </tr>\n",
       "    <tr>\n",
       "      <th>558</th>\n",
       "      <td>Wyoming</td>\n",
       "      <td>Stroke</td>\n",
       "      <td>33.2625</td>\n",
       "    </tr>\n",
       "    <tr>\n",
       "      <th>559</th>\n",
       "      <td>Wyoming</td>\n",
       "      <td>Suicide</td>\n",
       "      <td>24.6750</td>\n",
       "    </tr>\n",
       "    <tr>\n",
       "      <th>560</th>\n",
       "      <td>Wyoming</td>\n",
       "      <td>Unintentional injuries</td>\n",
       "      <td>58.7000</td>\n",
       "    </tr>\n",
       "  </tbody>\n",
       "</table>\n",
       "<p>561 rows × 3 columns</p>\n",
       "</div>"
      ],
      "text/plain": [
       "    state_name               cause_name  death_rate\n",
       "0      Alabama               All causes    924.6125\n",
       "1      Alabama      Alzheimer's disease     35.2625\n",
       "2      Alabama                     CLRD     55.5750\n",
       "3      Alabama                   Cancer    180.5125\n",
       "4      Alabama                 Diabetes     22.6875\n",
       "..         ...                      ...         ...\n",
       "556    Wyoming  Influenza and pneumonia     17.5750\n",
       "557    Wyoming           Kidney disease     11.7625\n",
       "558    Wyoming                   Stroke     33.2625\n",
       "559    Wyoming                  Suicide     24.6750\n",
       "560    Wyoming   Unintentional injuries     58.7000\n",
       "\n",
       "[561 rows x 3 columns]"
      ]
     },
     "execution_count": 9,
     "metadata": {},
     "output_type": "execute_result"
    }
   ],
   "source": [
    "df = df[[STATE_NAME, CAUSE, DEATH_RATE]].groupby([STATE_NAME, CAUSE]).mean().reset_index()\n",
    "df"
   ]
  },
  {
   "cell_type": "markdown",
   "id": "6fac84d0-6aa9-4fbe-b279-bc1567bb8d30",
   "metadata": {},
   "source": [
    "Nonemployer Statistics provides annual statistics on U.S. businesses with no paid employees or payroll at a detailed geography and industry level.\n",
    "\n",
    "Statistics are available on businesses that have no paid employment or payroll, are subject to federal income taxes, and have receipts of $1,000 or more ($1 or more for the Construction sector). The data are available for approximately 450 NAICS industries at the national, state, county, metropolitan statistical area, and combined statistical area geography levels. The majority of NAICS industries are included.\n",
    "\n",
    "https://www.census.gov/data/developers/data-sets/nonemp-api.2017.html#list-tab-1358655114\n",
    "\n",
    "https://www.census.gov/data/developers/data-sets/nonemp-api.html\n",
    "https://api.census.gov/data/2017/nonemp/variables.html\n",
    "\n",
    "https://www2.census.gov/programs-surveys/nonemployer-statistics/technical-documentation/record-layouts/state-record-layout/state_record_layout_2017.txt"
   ]
  },
  {
   "attachments": {},
   "cell_type": "markdown",
   "id": "49cce56f-b701-4e66-8715-07b758321fa8",
   "metadata": {},
   "source": [
    "## Definitions\n",
    "* LFO = Legal form of organization\n",
    "* NAICS2017_LABEL = type of business\n",
    "* NAME = geo areas, including states\n",
    "* NESTAB = Number of nonemployer establishments\n",
    "* NRCPTOT = Nonemployer sales, value of shipments, or revenue ($1,000)\n",
    "* RCPSZES_LABEL = Separates establishments into groups by sales/receipts, including \"All establishments\""
   ]
  },
  {
   "cell_type": "code",
   "execution_count": 10,
   "id": "5a40e8dd-83ba-4df7-a76f-0a3cdc553ed5",
   "metadata": {},
   "outputs": [],
   "source": [
    "CENSUS_API_KEY = \"35b2edd7f868b6d6f79e5988091d0f8df6ffbd2a\""
   ]
  },
  {
   "cell_type": "code",
   "execution_count": 11,
   "id": "569c1e04",
   "metadata": {},
   "outputs": [],
   "source": [
    "STATE_KEY = \"state_key\"\n",
    "POPULATION = \"population\"\n",
    "KEY = \"key\"\n",
    "CENSUS_DEMOGRAPHICS_URL = \"https://api.census.gov/data/2019/pep/charagegroups\"\n",
    "param_dict = {'get': 'NAME,POP', 'for': 'state:*', KEY: CENSUS_API_KEY}"
   ]
  },
  {
   "cell_type": "code",
   "execution_count": 14,
   "id": "12ac2d14-fe82-411e-96e2-9fa05eacff11",
   "metadata": {},
   "outputs": [],
   "source": [
    "response = requests.get(CENSUS_DEMOGRAPHICS_URL, params=param_dict)"
   ]
  },
  {
   "cell_type": "code",
   "execution_count": 16,
   "id": "02a4271c-55d7-4838-8536-63780386a4d9",
   "metadata": {},
   "outputs": [
    {
     "name": "stdout",
     "output_type": "stream",
     "text": [
      "<class 'pandas.core.frame.DataFrame'>\n",
      "RangeIndex: 52 entries, 0 to 51\n",
      "Data columns (total 3 columns):\n",
      " #   Column  Non-Null Count  Dtype \n",
      "---  ------  --------------  ----- \n",
      " 0   NAME    52 non-null     object\n",
      " 1   POP     52 non-null     object\n",
      " 2   state   52 non-null     object\n",
      "dtypes: object(3)\n",
      "memory usage: 1.3+ KB\n"
     ]
    }
   ],
   "source": [
    "result_list = response.json()  # The return from the API call is a list of lists, with first item being the column names\n",
    "column_name_list = result_list.pop(0)\n",
    "states_df = pd.DataFrame(result_list, columns=column_name_list)\n",
    "states_df.info()"
   ]
  },
  {
   "cell_type": "code",
   "execution_count": 17,
   "id": "69882787-ef56-42bf-9947-cd2308e65f19",
   "metadata": {},
   "outputs": [
    {
     "name": "stdout",
     "output_type": "stream",
     "text": [
      "<class 'pandas.core.frame.DataFrame'>\n",
      "RangeIndex: 52 entries, 0 to 51\n",
      "Data columns (total 3 columns):\n",
      " #   Column      Non-Null Count  Dtype \n",
      "---  ------      --------------  ----- \n",
      " 0   state_name  52 non-null     object\n",
      " 1   population  52 non-null     int64 \n",
      " 2   state_key   52 non-null     int64 \n",
      "dtypes: int64(2), object(1)\n",
      "memory usage: 1.3+ KB\n"
     ]
    }
   ],
   "source": [
    "name_dict = {\n",
    "    \"NAME\": STATE_NAME,\n",
    "    \"POP\": POPULATION,\n",
    "    \"state\": STATE_KEY,\n",
    "}\n",
    "states_df.rename(columns=name_dict, inplace=True)\n",
    "states_df[POPULATION] = states_df[POPULATION].astype(int)\n",
    "states_df[STATE_KEY] = states_df[STATE_KEY].astype(int)\n",
    "states_df.info()"
   ]
  },
  {
   "cell_type": "code",
   "execution_count": 20,
   "id": "88f211ef-4ef9-4a44-8af5-654cdc309be0",
   "metadata": {},
   "outputs": [
    {
     "data": {
      "text/plain": [
       "331433217"
      ]
     },
     "execution_count": 20,
     "metadata": {},
     "output_type": "execute_result"
    }
   ],
   "source": [
    "states_df[POPULATION].sum()  # Expected value ~330 million"
   ]
  },
  {
   "cell_type": "code",
   "execution_count": 21,
   "id": "69faba59-30a1-4e68-8dad-ee0058a073a8",
   "metadata": {},
   "outputs": [
    {
     "name": "stdout",
     "output_type": "stream",
     "text": [
      "<class 'pandas.core.frame.DataFrame'>\n",
      "RangeIndex: 561 entries, 0 to 560\n",
      "Data columns (total 5 columns):\n",
      " #   Column      Non-Null Count  Dtype  \n",
      "---  ------      --------------  -----  \n",
      " 0   state_name  561 non-null    object \n",
      " 1   cause_name  561 non-null    object \n",
      " 2   death_rate  561 non-null    float64\n",
      " 3   population  561 non-null    int64  \n",
      " 4   state_key   561 non-null    int64  \n",
      "dtypes: float64(1), int64(2), object(2)\n",
      "memory usage: 22.0+ KB\n"
     ]
    }
   ],
   "source": [
    "df = df.merge(states_df, on=STATE_NAME, how=\"inner\")\n",
    "df.info()"
   ]
  },
  {
   "cell_type": "code",
   "execution_count": 22,
   "id": "fd46f45e-1130-415f-b81b-8a08e666d1a7",
   "metadata": {},
   "outputs": [],
   "source": [
    "NESTAB = \"NESTAB\"\n",
    "NRCPTOT = \"NRCPTOT\"\n",
    "LFO = \"LFO\"\n",
    "NAICS2017 = \"NAICS2017\"\n",
    "\n",
    "CENSUS_NONEMPLOYER_URL = \"https://api.census.gov/data/2017/nonemp\"\n",
    "param_dict = {'get': ','.join((LFO, NESTAB, NRCPTOT)), 'for': 'state:*', NAICS2017: '*', KEY: CENSUS_API_KEY}"
   ]
  },
  {
   "cell_type": "code",
   "execution_count": 23,
   "id": "31dd1be3",
   "metadata": {},
   "outputs": [],
   "source": [
    "response = requests.get(CENSUS_NONEMPLOYER_URL, params=param_dict)"
   ]
  },
  {
   "cell_type": "code",
   "execution_count": 24,
   "id": "63362bab-53fd-4c07-914a-c588a9aece6b",
   "metadata": {},
   "outputs": [],
   "source": [
    "with open(\"/tmp/data\", \"w\", newline=\"\") as writer:\n",
    "    writer.write(response.text)\n"
   ]
  },
  {
   "cell_type": "code",
   "execution_count": 381,
   "id": "0eb3f13f-f2e0-45e8-a7c6-05bcda7c61af",
   "metadata": {},
   "outputs": [
    {
     "name": "stdout",
     "output_type": "stream",
     "text": [
      "<class 'pandas.core.frame.DataFrame'>\n",
      "RangeIndex: 109381 entries, 0 to 109380\n",
      "Data columns (total 5 columns):\n",
      " #   Column     Non-Null Count   Dtype \n",
      "---  ------     --------------   ----- \n",
      " 0   LFO        109381 non-null  object\n",
      " 1   NESTAB     109381 non-null  object\n",
      " 2   NRCPTOT    109381 non-null  object\n",
      " 3   NAICS2017  109381 non-null  object\n",
      " 4   state      109381 non-null  object\n",
      "dtypes: object(5)\n",
      "memory usage: 4.2+ MB\n"
     ]
    }
   ],
   "source": [
    "result_list = response.json()  # The return from the API call is a list of lists, with first item being the column names\n",
    "column_name_list = result_list.pop(0)\n",
    "business_df = pd.DataFrame(result_list, columns=column_name_list)\n",
    "business_df.info()"
   ]
  },
  {
   "cell_type": "code",
   "execution_count": 384,
   "id": "ace76d7d-b4e2-4a1f-9cf5-1acd01689780",
   "metadata": {},
   "outputs": [
    {
     "data": {
      "text/plain": [
       "array(['00', '11', '113', '114', '1141', '11411', '1142', '11421', '115',\n",
       "       '1151', '11511', '1152', '11521', '1153', '11531', '21', '211',\n",
       "       '2111', '21112', '21113', '212', '2121', '21211', '2122', '2123',\n",
       "       '213', '2131', '21311', '22', '221', '23', '236', '2361', '2362',\n",
       "       '237', '2371', '2372', '23721', '2373', '23731', '2379', '23799',\n",
       "       '238', '2381', '2382', '23821', '23822', '23829', '2383', '2389',\n",
       "       '31-33', '311', '3111', '31111', '3112', '3113', '3114', '3115',\n",
       "       '3116', '31161', '31171', '3117', '3119', '3118', '312', '313',\n",
       "       '314', '315', '316', '3161', '31611', '3162', '31621', '3169',\n",
       "       '31699', '321', '322', '323', '3231', '324', '3241', '325', '3251',\n",
       "       '3252', '3253', '3254', '32541', '3256', '3255', '3259', '326',\n",
       "       '327', '3271', '3272', '32721', '3273', '3274', '3279', '331',\n",
       "       '332', '333', '334', '335', '336', '337', '339', '3391', '33911',\n",
       "       '3399', '42', '423', '4231', '4232', '4233', '4234', '4235',\n",
       "       '4236', '4237', '4238', '4239', '42391', '42393', '42392', '42394',\n",
       "       '42399', '424', '4241', '4242', '42421', '4243', '4244', '4245',\n",
       "       '4246', '4247', '4248', '4249', '42491', '42492', '42493', '42494',\n",
       "       '42495', '42499', '425', '4251', '42511', '42512', '44-45', '441',\n",
       "       '4411', '44112', '4412', '44121', '44122', '441222', '441228',\n",
       "       '4413', '442', '4421', '44211', '4422', '443', '4431', '44314',\n",
       "       '443141', '443142', '444', '4441', '44411', '44412', '44413',\n",
       "       '44419', '4442', '445', '4451', '4452', '44521', '44522', '44523',\n",
       "       '44529', '4453', '44531', '446', '4461', '44611', '44612', '44613',\n",
       "       '44619', '447', '4471', '448', '4481', '44811', '44812', '44813',\n",
       "       '44814', '44815', '44819', '4482', '44821', '4483', '44831',\n",
       "       '44832', '451', '4511', '45111', '45112', '45113', '45114', '4512',\n",
       "       '45121', '451211', '451212', '452', '453', '4531', '45311', '4532',\n",
       "       '45321', '45322', '4533', '45331', '4539', '45391', '45392',\n",
       "       '45393', '45399', '454', '4541', '45411', '4542', '45421', '4543',\n",
       "       '45431', '45439', '48-49', '481', '483', '484', '4841', '48411',\n",
       "       '48412', '4842', '485', '4851', '48511', '4852', '48521', '4853',\n",
       "       '4854', '48541', '4855', '48551', '4859', '48599', '486', '487',\n",
       "       '488', '492', '493', '4931', '51', '511', '512', '5121', '5122',\n",
       "       '515', '517', '518', '5182', '51821', '519', '5191', '52', '522',\n",
       "       '5221', '5222', '5223', '523', '5231', '52311', '52312', '52313',\n",
       "       '52314', '5232', '52321', '5239', '524', '5241', '5242', '52421',\n",
       "       '52429', '53', '531', '5311', '5312', '53121', '5313', '53131',\n",
       "       '53132', '53139', '532', '5321', '5322', '53221', '53228',\n",
       "       '532281', '532282', '532283', '532284', '532289', '5323', '53231',\n",
       "       '5324', '533', '5331', '53311', '54', '541', '5411', '5412',\n",
       "       '54121', '541211', '541213', '541214', '541219', '5413', '54131',\n",
       "       '54132', '54133', '54134', '54135', '54136', '54137', '54138',\n",
       "       '5414', '5415', '54151', '5416', '5417', '5418', '5419', '54191',\n",
       "       '54192', '54193', '54194', '54199', '56', '561', '5611', '56111',\n",
       "       '5612', '56121', '5613', '5614', '56141', '56142', '56143',\n",
       "       '56144', '56145', '56149', '5615', '5616', '5617', '56171',\n",
       "       '56172', '56173', '56174', '56179', '5619', '562', '61', '611',\n",
       "       '62', '621', '6211', '62111', '621111', '621112', '6212', '62121',\n",
       "       '6213', '62131', '62132', '62133', '62134', '62139', '621391',\n",
       "       '621399', '6214', '6215', '62151', '6216', '62161', '6219', '623',\n",
       "       '624', '6241', '6242', '6243', '62431', '6244', '62441', '71',\n",
       "       '711', '7111', '7112', '71121', '7113', '7114', '71141', '7115',\n",
       "       '71151', '712', '7121', '713', '7131', '7132', '7139', '72', '721',\n",
       "       '7211', '7212', '72121', '7213', '72131', '722', '7223', '7224',\n",
       "       '72241', '7225', '72251', '722511', '722513', '722514', '722515',\n",
       "       '81', '811', '8111', '81111', '81112', '81119', '8112', '81121',\n",
       "       '8113', '81131', '8114', '81141', '81142', '81143', '81149', '812',\n",
       "       '8121', '81211', '812111', '812112', '812113', '81219', '8122',\n",
       "       '81221', '81222', '8123', '81231', '81232', '81233', '8129',\n",
       "       '81291', '81292', '81293', '81299', '813'], dtype=object)"
      ]
     },
     "execution_count": 384,
     "metadata": {},
     "output_type": "execute_result"
    }
   ],
   "source": [
    "LEGAL_FORM_ENCODING_DICT = {\n",
    "    \"001\": \"All\",\n",
    "    \"9101\": \"C Corp\",\n",
    "    \"9111\": \"S Corp\",\n",
    "    \"920\": \"Individual Proprietor\",\n",
    "    \"930\": \"Partnership\",\n",
    "}\n",
    "business_df[\"NAICS2017\"].unique()"
   ]
  },
  {
   "cell_type": "code",
   "execution_count": 349,
   "id": "5eb58f0d-bce5-42d0-b738-c0f56ef5034a",
   "metadata": {},
   "outputs": [
    {
     "name": "stdout",
     "output_type": "stream",
     "text": [
      "<class 'pandas.core.frame.DataFrame'>\n",
      "RangeIndex: 109381 entries, 0 to 109380\n",
      "Data columns (total 5 columns):\n",
      " #   Column                Non-Null Count   Dtype \n",
      "---  ------                --------------   ----- \n",
      " 0   state_key             109381 non-null  object\n",
      " 1   legal_form            109381 non-null  object\n",
      " 2   business_type         109381 non-null  object\n",
      " 3   establishment_count   109381 non-null  object\n",
      " 4   revenue_in_thousands  109381 non-null  object\n",
      "dtypes: object(5)\n",
      "memory usage: 4.2+ MB\n"
     ]
    }
   ],
   "source": [
    "LEGAL_FORM = \"legal_form\"\n",
    "BUSINESS_TYPE = \"business_type\"\n",
    "ESTABLISHMENT_COUNT = \"establishment_count\"\n",
    "REVENUE_IN_THOUSANDS = \"revenue_in_thousands\"\n",
    "REVENUE_CATEGORY = \"revenue_category\"\n",
    "name_dict = {\n",
    "    \"state\": STATE_KEY,\n",
    "    \"NAICS2017\": BUSINESS_TYPE,\n",
    "    \"LFO\": LEGAL_FORM,\n",
    "    \"NESTAB\": ESTABLISHMENT_COUNT,\n",
    "    \"NRCPTOT\": REVENUE_IN_THOUSANDS,\n",
    "}\n",
    "business_df.rename(columns=name_dict, inplace=True)\n",
    "business_df = business_df.reindex([STATE_KEY, LEGAL_FORM, BUSINESS_TYPE, ESTABLISHMENT_COUNT, REVENUE_IN_THOUSANDS], axis=1)\n",
    "business_df.info()"
   ]
  },
  {
   "cell_type": "code",
   "execution_count": 350,
   "id": "bd76d07e-805e-4093-9133-ffc4a4500876",
   "metadata": {},
   "outputs": [
    {
     "name": "stdout",
     "output_type": "stream",
     "text": [
      "<class 'pandas.core.frame.DataFrame'>\n",
      "RangeIndex: 109381 entries, 0 to 109380\n",
      "Data columns (total 5 columns):\n",
      " #   Column                Non-Null Count   Dtype \n",
      "---  ------                --------------   ----- \n",
      " 0   state_key             109381 non-null  int64 \n",
      " 1   legal_form            109381 non-null  object\n",
      " 2   business_type         109381 non-null  object\n",
      " 3   establishment_count   109381 non-null  int64 \n",
      " 4   revenue_in_thousands  109381 non-null  int64 \n",
      "dtypes: int64(3), object(2)\n",
      "memory usage: 4.2+ MB\n"
     ]
    }
   ],
   "source": [
    "for column_name in ESTABLISHMENT_COUNT, REVENUE_IN_THOUSANDS, STATE_KEY:\n",
    "    business_df[column_name] = business_df[column_name].astype(int)\n",
    "business_df.info()"
   ]
  },
  {
   "cell_type": "code",
   "execution_count": 351,
   "id": "fc98a212-c7b8-49f0-bb85-80a7d721f599",
   "metadata": {},
   "outputs": [
    {
     "data": {
      "text/html": [
       "<div>\n",
       "<style scoped>\n",
       "    .dataframe tbody tr th:only-of-type {\n",
       "        vertical-align: middle;\n",
       "    }\n",
       "\n",
       "    .dataframe tbody tr th {\n",
       "        vertical-align: top;\n",
       "    }\n",
       "\n",
       "    .dataframe thead th {\n",
       "        text-align: right;\n",
       "    }\n",
       "</style>\n",
       "<table border=\"1\" class=\"dataframe\">\n",
       "  <thead>\n",
       "    <tr style=\"text-align: right;\">\n",
       "      <th></th>\n",
       "      <th>state_key</th>\n",
       "      <th>legal_form</th>\n",
       "      <th>business_type</th>\n",
       "      <th>establishment_count</th>\n",
       "      <th>revenue_in_thousands</th>\n",
       "    </tr>\n",
       "  </thead>\n",
       "  <tbody>\n",
       "    <tr>\n",
       "      <th>0</th>\n",
       "      <td>28</td>\n",
       "      <td>001</td>\n",
       "      <td>00</td>\n",
       "      <td>219596</td>\n",
       "      <td>8889009</td>\n",
       "    </tr>\n",
       "    <tr>\n",
       "      <th>1</th>\n",
       "      <td>28</td>\n",
       "      <td>9101</td>\n",
       "      <td>00</td>\n",
       "      <td>1750</td>\n",
       "      <td>206357</td>\n",
       "    </tr>\n",
       "    <tr>\n",
       "      <th>2</th>\n",
       "      <td>28</td>\n",
       "      <td>9111</td>\n",
       "      <td>00</td>\n",
       "      <td>6527</td>\n",
       "      <td>848178</td>\n",
       "    </tr>\n",
       "    <tr>\n",
       "      <th>3</th>\n",
       "      <td>28</td>\n",
       "      <td>920</td>\n",
       "      <td>00</td>\n",
       "      <td>198380</td>\n",
       "      <td>6220549</td>\n",
       "    </tr>\n",
       "    <tr>\n",
       "      <th>4</th>\n",
       "      <td>28</td>\n",
       "      <td>930</td>\n",
       "      <td>00</td>\n",
       "      <td>12939</td>\n",
       "      <td>1613925</td>\n",
       "    </tr>\n",
       "    <tr>\n",
       "      <th>...</th>\n",
       "      <td>...</td>\n",
       "      <td>...</td>\n",
       "      <td>...</td>\n",
       "      <td>...</td>\n",
       "      <td>...</td>\n",
       "    </tr>\n",
       "    <tr>\n",
       "      <th>109376</th>\n",
       "      <td>26</td>\n",
       "      <td>001</td>\n",
       "      <td>813</td>\n",
       "      <td>5972</td>\n",
       "      <td>86303</td>\n",
       "    </tr>\n",
       "    <tr>\n",
       "      <th>109377</th>\n",
       "      <td>26</td>\n",
       "      <td>9101</td>\n",
       "      <td>813</td>\n",
       "      <td>135</td>\n",
       "      <td>13364</td>\n",
       "    </tr>\n",
       "    <tr>\n",
       "      <th>109378</th>\n",
       "      <td>26</td>\n",
       "      <td>9111</td>\n",
       "      <td>813</td>\n",
       "      <td>19</td>\n",
       "      <td>2159</td>\n",
       "    </tr>\n",
       "    <tr>\n",
       "      <th>109379</th>\n",
       "      <td>26</td>\n",
       "      <td>920</td>\n",
       "      <td>813</td>\n",
       "      <td>5803</td>\n",
       "      <td>69991</td>\n",
       "    </tr>\n",
       "    <tr>\n",
       "      <th>109380</th>\n",
       "      <td>26</td>\n",
       "      <td>930</td>\n",
       "      <td>813</td>\n",
       "      <td>15</td>\n",
       "      <td>789</td>\n",
       "    </tr>\n",
       "  </tbody>\n",
       "</table>\n",
       "<p>109381 rows × 5 columns</p>\n",
       "</div>"
      ],
      "text/plain": [
       "        state_key legal_form business_type  establishment_count  \\\n",
       "0              28        001            00               219596   \n",
       "1              28       9101            00                 1750   \n",
       "2              28       9111            00                 6527   \n",
       "3              28        920            00               198380   \n",
       "4              28        930            00                12939   \n",
       "...           ...        ...           ...                  ...   \n",
       "109376         26        001           813                 5972   \n",
       "109377         26       9101           813                  135   \n",
       "109378         26       9111           813                   19   \n",
       "109379         26        920           813                 5803   \n",
       "109380         26        930           813                   15   \n",
       "\n",
       "        revenue_in_thousands  \n",
       "0                    8889009  \n",
       "1                     206357  \n",
       "2                     848178  \n",
       "3                    6220549  \n",
       "4                    1613925  \n",
       "...                      ...  \n",
       "109376                 86303  \n",
       "109377                 13364  \n",
       "109378                  2159  \n",
       "109379                 69991  \n",
       "109380                   789  \n",
       "\n",
       "[109381 rows x 5 columns]"
      ]
     },
     "execution_count": 351,
     "metadata": {},
     "output_type": "execute_result"
    }
   ],
   "source": [
    "business_df"
   ]
  },
  {
   "cell_type": "code",
   "execution_count": 352,
   "id": "a3693149-7c76-4701-843f-0fbafacb66e8",
   "metadata": {},
   "outputs": [
    {
     "data": {
      "text/html": [
       "<div>\n",
       "<style scoped>\n",
       "    .dataframe tbody tr th:only-of-type {\n",
       "        vertical-align: middle;\n",
       "    }\n",
       "\n",
       "    .dataframe tbody tr th {\n",
       "        vertical-align: top;\n",
       "    }\n",
       "\n",
       "    .dataframe thead th {\n",
       "        text-align: right;\n",
       "    }\n",
       "</style>\n",
       "<table border=\"1\" class=\"dataframe\">\n",
       "  <thead>\n",
       "    <tr style=\"text-align: right;\">\n",
       "      <th></th>\n",
       "      <th>state_key</th>\n",
       "      <th>legal_form</th>\n",
       "      <th>business_type</th>\n",
       "      <th>establishment_count</th>\n",
       "      <th>revenue_in_thousands</th>\n",
       "    </tr>\n",
       "  </thead>\n",
       "  <tbody>\n",
       "  </tbody>\n",
       "</table>\n",
       "</div>"
      ],
      "text/plain": [
       "Empty DataFrame\n",
       "Columns: [state_key, legal_form, business_type, establishment_count, revenue_in_thousands]\n",
       "Index: []"
      ]
     },
     "execution_count": 352,
     "metadata": {},
     "output_type": "execute_result"
    }
   ],
   "source": [
    "mask = business_df[[STATE_KEY, BUSINESS_TYPE, LEGAL_FORM]].duplicated()\n",
    "business_df[mask]"
   ]
  },
  {
   "cell_type": "markdown",
   "id": "4e7826d2-7d8f-439c-9287-1d7b67aa599e",
   "metadata": {},
   "source": [
    "Verify this data does not have holes,\n",
    "meaning verify every combination of legal_form/business_type exists for every state.\n",
    "If something is missing, add it with zero for the establishment_count and revenue_in_thousands."
   ]
  },
  {
   "cell_type": "code",
   "execution_count": 353,
   "id": "b978c0a1-4e00-4944-9d36-bc7b1546a09e",
   "metadata": {},
   "outputs": [
    {
     "name": "stdout",
     "output_type": "stream",
     "text": [
      "119,850 possible combinations, for example:\n",
      "(40, '21113', '9101')\n",
      "(37, '44612', '001')\n",
      "(41, '21311', '9101')\n",
      "(23, '5615', '930')\n",
      "(5, '2381', '9101')\n",
      "(56, '7114', '930')\n",
      "(32, '5322', '930')\n",
      "(39, '5611', '9101')\n",
      "(41, '522', '9101')\n",
      "(40, '221', '001')\n",
      "(47, '4246', '930')\n",
      "(11, '6219', '001')\n"
     ]
    }
   ],
   "source": [
    "from itertools import product\n",
    "state_list = business_df[STATE_KEY].unique()\n",
    "business_type_list = business_df[BUSINESS_TYPE].unique()\n",
    "legal_form_list = business_df[LEGAL_FORM].unique()\n",
    "wanted_combinations_set = set(product(state_list, business_type_list, legal_form_list))\n",
    "print(f\"{len(wanted_combinations_set):,} possible combinations, for example:\")\n",
    "for i, item in enumerate(wanted_combinations_set):\n",
    "    print(item)\n",
    "    if i > 10:\n",
    "        break\n"
   ]
  },
  {
   "cell_type": "code",
   "execution_count": 354,
   "id": "10a5f7e1-2612-4c98-8e39-ef9b8dedc639",
   "metadata": {},
   "outputs": [
    {
     "name": "stdout",
     "output_type": "stream",
     "text": [
      "109,381 existing combinations, for example:\n",
      "(40, '21113', '9101')\n",
      "(37, '44612', '001')\n",
      "(41, '21311', '9101')\n",
      "(23, '5615', '930')\n",
      "(5, '2381', '9101')\n",
      "(56, '7114', '930')\n",
      "(32, '5322', '930')\n",
      "(39, '5611', '9101')\n",
      "(41, '522', '9101')\n",
      "(40, '221', '001')\n",
      "(47, '4246', '930')\n",
      "(11, '6219', '001')\n"
     ]
    }
   ],
   "source": [
    "existing_combinations_set = set()\n",
    "for item in business_df[[STATE_KEY, BUSINESS_TYPE, LEGAL_FORM]].to_records(index=False):\n",
    "    existing_combinations_set.add(tuple(item))\n",
    "print(f\"{len(existing_combinations_set):,} existing combinations, for example:\")\n",
    "for i, item in enumerate(existing_combinations_set):\n",
    "    print(item)\n",
    "    if i > 10:\n",
    "        break"
   ]
  },
  {
   "cell_type": "code",
   "execution_count": 355,
   "id": "0028b38e-6cd7-4ef9-b15f-28344d628305",
   "metadata": {},
   "outputs": [
    {
     "name": "stdout",
     "output_type": "stream",
     "text": [
      "10,469 missing combinations, for example:\n",
      "(27, '324', '9101')\n",
      "(46, '451212', '9111')\n",
      "(28, '2121', '9101')\n",
      "(50, '3161', '930')\n",
      "(33, '7224', '9111')\n",
      "(45, '2121', '930')\n",
      "(46, '44531', '9101')\n",
      "(46, '3114', '9101')\n",
      "(2, '81221', '9101')\n",
      "(31, '7213', '9101')\n",
      "(15, '48541', '930')\n",
      "(54, '487', '9101')\n"
     ]
    }
   ],
   "source": [
    "missing_combinations_set = wanted_combinations_set - existing_combinations_set\n",
    "print(f\"{len(missing_combinations_set):,} missing combinations, for example:\")\n",
    "for i, item in enumerate(missing_combinations_set):\n",
    "    print(item)\n",
    "    if i > 10:\n",
    "        break"
   ]
  },
  {
   "cell_type": "code",
   "execution_count": 356,
   "id": "97634e1c-7d73-44ce-b438-577ebf0033ef",
   "metadata": {},
   "outputs": [
    {
     "data": {
      "text/plain": [
       "[[27, '324', '9101', 0, 0],\n",
       " [46, '451212', '9111', 0, 0],\n",
       " [28, '2121', '9101', 0, 0],\n",
       " [50, '3161', '930', 0, 0],\n",
       " [33, '7224', '9111', 0, 0],\n",
       " [45, '2121', '930', 0, 0],\n",
       " [46, '44531', '9101', 0, 0],\n",
       " [46, '3114', '9101', 0, 0],\n",
       " [2, '81221', '9101', 0, 0],\n",
       " [31, '7213', '9101', 0, 0]]"
      ]
     },
     "execution_count": 356,
     "metadata": {},
     "output_type": "execute_result"
    }
   ],
   "source": [
    "missing_data = [list(combo) + [0, 0] for combo in missing_combinations_set]\n",
    "missing_data[:10]"
   ]
  },
  {
   "cell_type": "code",
   "execution_count": 357,
   "id": "b7df6cda-1534-4f8d-a65a-4a85a7cd66e9",
   "metadata": {},
   "outputs": [
    {
     "name": "stdout",
     "output_type": "stream",
     "text": [
      "<class 'pandas.core.frame.DataFrame'>\n",
      "RangeIndex: 10469 entries, 0 to 10468\n",
      "Data columns (total 5 columns):\n",
      " #   Column                Non-Null Count  Dtype \n",
      "---  ------                --------------  ----- \n",
      " 0   state_key             10469 non-null  int64 \n",
      " 1   legal_form            10469 non-null  object\n",
      " 2   business_type         10469 non-null  object\n",
      " 3   establishment_count   10469 non-null  int64 \n",
      " 4   revenue_in_thousands  10469 non-null  int64 \n",
      "dtypes: int64(3), object(2)\n",
      "memory usage: 409.1+ KB\n"
     ]
    }
   ],
   "source": [
    "missing_df = pd.DataFrame.from_records(missing_data)\n",
    "missing_df.columns = [STATE_KEY, LEGAL_FORM, BUSINESS_TYPE, ESTABLISHMENT_COUNT, REVENUE_IN_THOUSANDS]\n",
    "missing_df.info()"
   ]
  },
  {
   "cell_type": "code",
   "execution_count": 358,
   "id": "5961ab27-970b-4c33-9e36-75b28ecd94a9",
   "metadata": {},
   "outputs": [
    {
     "name": "stdout",
     "output_type": "stream",
     "text": [
      "<class 'pandas.core.frame.DataFrame'>\n",
      "RangeIndex: 119850 entries, 0 to 119849\n",
      "Data columns (total 5 columns):\n",
      " #   Column                Non-Null Count   Dtype \n",
      "---  ------                --------------   ----- \n",
      " 0   state_key             119850 non-null  int64 \n",
      " 1   legal_form            119850 non-null  object\n",
      " 2   business_type         119850 non-null  object\n",
      " 3   establishment_count   119850 non-null  int64 \n",
      " 4   revenue_in_thousands  119850 non-null  int64 \n",
      "dtypes: int64(3), object(2)\n",
      "memory usage: 4.6+ MB\n"
     ]
    }
   ],
   "source": [
    "business_df = pd.concat([business_df, missing_df], ignore_index=True)\n",
    "business_df.info()"
   ]
  },
  {
   "cell_type": "code",
   "execution_count": 359,
   "id": "21cfa2c8-271a-47d9-87c3-55f86cf7023e",
   "metadata": {},
   "outputs": [
    {
     "name": "stdout",
     "output_type": "stream",
     "text": [
      "<class 'pandas.core.frame.DataFrame'>\n",
      "RangeIndex: 1318350 entries, 0 to 1318349\n",
      "Data columns (total 8 columns):\n",
      " #   Column                Non-Null Count    Dtype  \n",
      "---  ------                --------------    -----  \n",
      " 0   cause_name            1318350 non-null  object \n",
      " 1   state_name            1318350 non-null  object \n",
      " 2   population            1318350 non-null  int64  \n",
      " 3   legal_form            1318350 non-null  object \n",
      " 4   business_type         1318350 non-null  object \n",
      " 5   establishment_count   1318350 non-null  int64  \n",
      " 6   revenue_in_thousands  1318350 non-null  int64  \n",
      " 7   death_rate            1318350 non-null  float64\n",
      "dtypes: float64(1), int64(3), object(4)\n",
      "memory usage: 80.5+ MB\n"
     ]
    }
   ],
   "source": [
    "df = df.merge(business_df, on=STATE_KEY)\n",
    "df.drop(columns=[STATE_KEY], inplace=True)\n",
    "df = df.reindex([CAUSE, STATE_NAME, POPULATION, LEGAL_FORM, BUSINESS_TYPE, ESTABLISHMENT_COUNT, REVENUE_IN_THOUSANDS, DEATH_RATE], axis=1)\n",
    "df.info()"
   ]
  },
  {
   "cell_type": "code",
   "execution_count": 367,
   "id": "54e2eecd-2674-4b14-8e04-310ff51523cd",
   "metadata": {},
   "outputs": [
    {
     "data": {
      "text/plain": [
       "('legal_form', 'business_type')"
      ]
     },
     "execution_count": 367,
     "metadata": {},
     "output_type": "execute_result"
    }
   ],
   "source": [
    "LEGAL_FORM, BUSINESS_TYPE"
   ]
  },
  {
   "cell_type": "code",
   "execution_count": 364,
   "id": "cc8725f7-552c-4a53-8d3e-cdd26690ecdc",
   "metadata": {},
   "outputs": [
    {
     "name": "stdout",
     "output_type": "stream",
     "text": [
      "<class 'pandas.core.frame.DataFrame'>\n",
      "Index: 119850 entries, 11750 to 1306599\n",
      "Data columns (total 7 columns):\n",
      " #   Column                Non-Null Count   Dtype  \n",
      "---  ------                --------------   -----  \n",
      " 0   state_name            119850 non-null  object \n",
      " 1   population            119850 non-null  int64  \n",
      " 2   legal_form            119850 non-null  object \n",
      " 3   business_type         119850 non-null  object \n",
      " 4   establishment_count   119850 non-null  int64  \n",
      " 5   revenue_in_thousands  119850 non-null  int64  \n",
      " 6   death_rate            119850 non-null  float64\n",
      "dtypes: float64(1), int64(3), object(3)\n",
      "memory usage: 7.3+ MB\n"
     ]
    }
   ],
   "source": [
    "frames_by_cause_dict = dict()\n",
    "for cause_name in df[CAUSE].unique():\n",
    "    mask = (df[CAUSE] == cause_name)\n",
    "    new_df = df[mask].copy()\n",
    "    new_df.drop(columns=[CAUSE], inplace=True)\n",
    "    frames_by_cause_dict[cause_name] = new_df\n",
    "frames_by_cause_dict[\"Heart disease\"].info()"
   ]
  }
 ],
 "metadata": {
  "kernelspec": {
   "display_name": "Python 3 (ipykernel)",
   "language": "python",
   "name": "python3"
  },
  "language_info": {
   "codemirror_mode": {
    "name": "ipython",
    "version": 3
   },
   "file_extension": ".py",
   "mimetype": "text/x-python",
   "name": "python",
   "nbconvert_exporter": "python",
   "pygments_lexer": "ipython3",
   "version": "3.12.2"
  }
 },
 "nbformat": 4,
 "nbformat_minor": 5
}

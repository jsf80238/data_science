{
 "cells": [
  {
   "cell_type": "code",
   "execution_count": 13,
   "id": "e67f818c-dbcd-43f0-aa9e-66ec933b29e3",
   "metadata": {},
   "outputs": [],
   "source": [
    "import csv\n",
    "import datetime\n",
    "import os\n",
    "import pickle\n",
    "import subprocess\n",
    "# Imports above are standard library\n",
    "# Imports below are 3rd-party\n",
    "import numpy as np\n",
    "import pandas as pd\n",
    "import requests\n",
    "import seaborn as sns\n",
    "from matplotlib import pyplot as plt\n",
    "from sklearn.datasets import make_blobs\n",
    "from sklearn.ensemble import RandomForestClassifier\n",
    "from sklearn.linear_model import LinearRegression, LogisticRegression\n",
    "from sklearn.metrics import RocCurveDisplay, ConfusionMatrixDisplay, recall_score, precision_score, silhouette_score, f1_score, accuracy_score, roc_auc_score, confusion_matrix, ConfusionMatrixDisplay\n",
    "from sklearn.model_selection import train_test_split, PredefinedSplit, GridSearchCV\n",
    "from sklearn.naive_bayes import GaussianNB, BernoulliNB, CategoricalNB, ComplementNB, MultinomialNB\n",
    "from sklearn.preprocessing import StandardScaler, MinMaxScaler\n",
    "from sklearn.tree import DecisionTreeClassifier, plot_tree\n",
    "from statsmodels.api import qqplot\n",
    "from statsmodels.formula.api import ols\n",
    "from statsmodels.stats.multicomp import pairwise_tukeyhsd\n",
    "from statsmodels.stats.outliers_influence import variance_inflation_factor\n",
    "import scipy.stats as stats\n",
    "import statsmodels.api as sm\n",
    "from xgboost import XGBClassifier, plot_importance"
   ]
  },
  {
   "cell_type": "markdown",
   "id": "def83ef6-4c79-4407-a0f9-8dc00943c27d",
   "metadata": {},
   "source": [
    "## Kaggle API\n",
    "You will need your own API key, which you can get by following instructions at https://github.com/Kaggle/kaggle-api/blob/main/docs/README.md"
   ]
  },
  {
   "cell_type": "code",
   "execution_count": 3,
   "id": "f591ff6f-5abc-4e54-bed5-2eebb3490f58",
   "metadata": {},
   "outputs": [
    {
     "data": {
      "text/plain": [
       "'ref,title,size,lastUpdated,downloadCount,voteCount,usabilityRating\\r\\ncdc/nchs-death-rates-and-causes-'"
      ]
     },
     "execution_count": 3,
     "metadata": {},
     "output_type": "execute_result"
    }
   ],
   "source": [
    "os.environ[\"KAGGLE_USERNAME\"] = \"jsf80238\"\n",
    "os.environ[\"KAGGLE_KEY\"] = \"4036359324650e1c13adfc7ba87ff90e\"\n",
    "import kaggle  # The import itself uses your KAGGLE_KEY, that's why the import is not at the top. Really.\n",
    "\n",
    "dataset_name = \"NCHS - Death Rates and Causes of Death\"\n",
    "command = \"kaggle datasets list --csv --search\".split()\n",
    "#command.append(\"NCHS - Death Rates and Causes of Death\")\n",
    "result = subprocess.run(command + [dataset_name], capture_output=True)\n",
    "data = result.stdout.decode(encoding=\"utf-8\")\n",
    "data[:100]"
   ]
  },
  {
   "cell_type": "code",
   "execution_count": 4,
   "id": "a0a577a2-ab05-43d5-9812-bab0d41f1c20",
   "metadata": {},
   "outputs": [
    {
     "name": "stdout",
     "output_type": "stream",
     "text": [
      "{'ref': 'cdc/nchs-death-rates-and-causes-of-death', 'title': 'NCHS - Death Rates and Causes of Death', 'size': '3MB', 'lastUpdated': '2019-12-28 01:24:17', 'downloadCount': '1540', 'voteCount': '14', 'usabilityRating': '0.7647059'}\n"
     ]
    },
    {
     "data": {
      "text/plain": [
       "'cdc/nchs-death-rates-and-causes-of-death'"
      ]
     },
     "execution_count": 4,
     "metadata": {},
     "output_type": "execute_result"
    }
   ],
   "source": [
    "csvreader = csv.DictReader(data.splitlines())\n",
    "for row in csvreader:\n",
    "    if row[\"title\"] == dataset_name:\n",
    "        print(row)\n",
    "        dataset_ref = row['ref']\n",
    "        break\n",
    "dataset_ref"
   ]
  },
  {
   "cell_type": "code",
   "execution_count": 5,
   "id": "ac93e08b-fdc3-4938-9f13-2692e9741789",
   "metadata": {},
   "outputs": [
    {
     "name": "stdout",
     "output_type": "stream",
     "text": [
      "Downloading nchs-leading-causes-of-death-united-states.csv to /home/jason/PycharmProjects/data_science/notebooks\n",
      "\n",
      "\n",
      "100%|██████████| 834k/834k [00:00<00:00, 3.18MB/s]\n",
      "\n",
      ".ipynb_checkpoints\n",
      "death_rate.ipynb\n",
      "nchs-age-adjusted-death-rates-for-selected-major-causes-of-death.csv\n",
      "nchs-leading-causes-of-death-united-states.csv\n",
      "socrata_metadata_nchs-age-adjusted-death-rates-for-selected-major-causes-of-death.json\n",
      "socrata_metadata_nchs-death-rates-and-life-expectancy-at-birth.json\n",
      "socrata_metadata_nchs-leading-causes-of-death-united-states.json\n",
      "socrata_metadata_nchs-potentially-excess-deaths-from-the-five-leading-causes-of-death.json\n",
      "socrata_metadata_nchs-top-five-leading-causes-of-death-united-states-1990-1950-2000.json\n"
     ]
    }
   ],
   "source": [
    "dataset_ref = \"cdc/nchs-death-rates-and-causes-of-death\"\n",
    "file_name = \"nchs-leading-causes-of-death-united-states.csv\"\n",
    "command = f\"kaggle datasets download --unzip --force --file {file_name} {dataset_ref}\".split()\n",
    "result = subprocess.run(command, capture_output=True)\n",
    "stdout = result.stdout.decode(encoding=\"utf-8\")\n",
    "stderr = result.stderr.decode(encoding=\"utf-8\")\n",
    "print(stdout)\n",
    "print(stderr)\n",
    "print(os.linesep.join(sorted(os.listdir(\".\"))))"
   ]
  },
  {
   "cell_type": "markdown",
   "id": "facde2e7-3d33-4fbb-a894-9046d484816f",
   "metadata": {},
   "source": [
    "## Kaggle workaround\n",
    "If you were unable to download the cause-of-death file you can also grab it from my GitHub repo:\n"
   ]
  },
  {
   "cell_type": "code",
   "execution_count": 126,
   "id": "416561e6-d646-4647-aec4-e4928df4972d",
   "metadata": {},
   "outputs": [
    {
     "name": "stdout",
     "output_type": "stream",
     "text": [
      "<class 'pandas.core.frame.DataFrame'>\n",
      "RangeIndex: 10868 entries, 0 to 10867\n",
      "Data columns (total 6 columns):\n",
      " #   Column                   Non-Null Count  Dtype  \n",
      "---  ------                   --------------  -----  \n",
      " 0   Year                     10868 non-null  int64  \n",
      " 1   113 Cause Name           10868 non-null  object \n",
      " 2   Cause Name               10868 non-null  object \n",
      " 3   State                    10868 non-null  object \n",
      " 4   Deaths                   10868 non-null  int64  \n",
      " 5   Age-adjusted Death Rate  10868 non-null  float64\n",
      "dtypes: float64(1), int64(2), object(3)\n",
      "memory usage: 509.6+ KB\n"
     ]
    }
   ],
   "source": [
    "df = pd.read_csv(file_name)\n",
    "df.info()"
   ]
  },
  {
   "cell_type": "code",
   "execution_count": 127,
   "id": "aec5f724-c58a-4e57-8d25-bb6d3862298f",
   "metadata": {},
   "outputs": [
    {
     "name": "stdout",
     "output_type": "stream",
     "text": [
      "<class 'pandas.core.frame.DataFrame'>\n",
      "RangeIndex: 10868 entries, 0 to 10867\n",
      "Data columns (total 4 columns):\n",
      " #   Column      Non-Null Count  Dtype  \n",
      "---  ------      --------------  -----  \n",
      " 0   year        10868 non-null  int64  \n",
      " 1   cause_name  10868 non-null  object \n",
      " 2   state_name  10868 non-null  object \n",
      " 3   death_rate  10868 non-null  float64\n",
      "dtypes: float64(1), int64(1), object(2)\n",
      "memory usage: 339.8+ KB\n"
     ]
    }
   ],
   "source": [
    "YEAR = \"year\"\n",
    "CAUSE = \"cause_name\"\n",
    "STATE_NAME = \"state_name\"\n",
    "DEATH_RATE = \"death_rate\"\n",
    "df.drop(columns=[\"113 Cause Name\", \"Deaths\"], inplace=True)\n",
    "name_dict = {\n",
    "    \"Year\": YEAR,\n",
    "    \"Cause Name\": CAUSE,\n",
    "    \"State\": STATE_NAME,\n",
    "    \"Age-adjusted Death Rate\": DEATH_RATE,\n",
    "}\n",
    "df.rename(columns=name_dict, inplace=True)\n",
    "df.info()"
   ]
  },
  {
   "cell_type": "code",
   "execution_count": 128,
   "id": "2946ec88-db57-4d18-8559-cbf0cfa5d1ef",
   "metadata": {},
   "outputs": [
    {
     "name": "stdout",
     "output_type": "stream",
     "text": [
      "<class 'pandas.core.frame.DataFrame'>\n",
      "Index: 4488 entries, 0 to 10802\n",
      "Data columns (total 4 columns):\n",
      " #   Column      Non-Null Count  Dtype  \n",
      "---  ------      --------------  -----  \n",
      " 0   year        4488 non-null   int64  \n",
      " 1   cause_name  4488 non-null   object \n",
      " 2   state_name  4488 non-null   object \n",
      " 3   death_rate  4488 non-null   float64\n",
      "dtypes: float64(1), int64(1), object(2)\n",
      "memory usage: 175.3+ KB\n"
     ]
    }
   ],
   "source": [
    "mask = (df[YEAR] >= 2010) & (df[STATE_NAME] != 'United States')\n",
    "df = df[mask]\n",
    "df.info()"
   ]
  },
  {
   "cell_type": "code",
   "execution_count": 129,
   "id": "04c261d9-2bdf-40a7-af81-818c2978ab96",
   "metadata": {},
   "outputs": [
    {
     "data": {
      "text/html": [
       "<div>\n",
       "<style scoped>\n",
       "    .dataframe tbody tr th:only-of-type {\n",
       "        vertical-align: middle;\n",
       "    }\n",
       "\n",
       "    .dataframe tbody tr th {\n",
       "        vertical-align: top;\n",
       "    }\n",
       "\n",
       "    .dataframe thead th {\n",
       "        text-align: right;\n",
       "    }\n",
       "</style>\n",
       "<table border=\"1\" class=\"dataframe\">\n",
       "  <thead>\n",
       "    <tr style=\"text-align: right;\">\n",
       "      <th></th>\n",
       "      <th>state_name</th>\n",
       "      <th>cause_name</th>\n",
       "      <th>death_rate</th>\n",
       "    </tr>\n",
       "  </thead>\n",
       "  <tbody>\n",
       "    <tr>\n",
       "      <th>0</th>\n",
       "      <td>Alabama</td>\n",
       "      <td>All causes</td>\n",
       "      <td>924.6125</td>\n",
       "    </tr>\n",
       "    <tr>\n",
       "      <th>1</th>\n",
       "      <td>Alabama</td>\n",
       "      <td>Alzheimer's disease</td>\n",
       "      <td>35.2625</td>\n",
       "    </tr>\n",
       "    <tr>\n",
       "      <th>2</th>\n",
       "      <td>Alabama</td>\n",
       "      <td>CLRD</td>\n",
       "      <td>55.5750</td>\n",
       "    </tr>\n",
       "    <tr>\n",
       "      <th>3</th>\n",
       "      <td>Alabama</td>\n",
       "      <td>Cancer</td>\n",
       "      <td>180.5125</td>\n",
       "    </tr>\n",
       "    <tr>\n",
       "      <th>4</th>\n",
       "      <td>Alabama</td>\n",
       "      <td>Diabetes</td>\n",
       "      <td>22.6875</td>\n",
       "    </tr>\n",
       "    <tr>\n",
       "      <th>...</th>\n",
       "      <td>...</td>\n",
       "      <td>...</td>\n",
       "      <td>...</td>\n",
       "    </tr>\n",
       "    <tr>\n",
       "      <th>556</th>\n",
       "      <td>Wyoming</td>\n",
       "      <td>Influenza and pneumonia</td>\n",
       "      <td>17.5750</td>\n",
       "    </tr>\n",
       "    <tr>\n",
       "      <th>557</th>\n",
       "      <td>Wyoming</td>\n",
       "      <td>Kidney disease</td>\n",
       "      <td>11.7625</td>\n",
       "    </tr>\n",
       "    <tr>\n",
       "      <th>558</th>\n",
       "      <td>Wyoming</td>\n",
       "      <td>Stroke</td>\n",
       "      <td>33.2625</td>\n",
       "    </tr>\n",
       "    <tr>\n",
       "      <th>559</th>\n",
       "      <td>Wyoming</td>\n",
       "      <td>Suicide</td>\n",
       "      <td>24.6750</td>\n",
       "    </tr>\n",
       "    <tr>\n",
       "      <th>560</th>\n",
       "      <td>Wyoming</td>\n",
       "      <td>Unintentional injuries</td>\n",
       "      <td>58.7000</td>\n",
       "    </tr>\n",
       "  </tbody>\n",
       "</table>\n",
       "<p>561 rows × 3 columns</p>\n",
       "</div>"
      ],
      "text/plain": [
       "    state_name               cause_name  death_rate\n",
       "0      Alabama               All causes    924.6125\n",
       "1      Alabama      Alzheimer's disease     35.2625\n",
       "2      Alabama                     CLRD     55.5750\n",
       "3      Alabama                   Cancer    180.5125\n",
       "4      Alabama                 Diabetes     22.6875\n",
       "..         ...                      ...         ...\n",
       "556    Wyoming  Influenza and pneumonia     17.5750\n",
       "557    Wyoming           Kidney disease     11.7625\n",
       "558    Wyoming                   Stroke     33.2625\n",
       "559    Wyoming                  Suicide     24.6750\n",
       "560    Wyoming   Unintentional injuries     58.7000\n",
       "\n",
       "[561 rows x 3 columns]"
      ]
     },
     "execution_count": 129,
     "metadata": {},
     "output_type": "execute_result"
    }
   ],
   "source": [
    "df = df[[STATE_NAME, CAUSE, DEATH_RATE]].groupby([STATE_NAME, CAUSE]).mean().reset_index()\n",
    "df"
   ]
  },
  {
   "cell_type": "markdown",
   "id": "6fac84d0-6aa9-4fbe-b279-bc1567bb8d30",
   "metadata": {},
   "source": [
    "## Census data\n",
    "Nonemployer Statistics provides annual statistics on U.S. businesses with no paid employees or payroll at a detailed geography and industry level.\n",
    "\n",
    "Statistics are available on businesses that have no paid employment or payroll, are subject to federal income taxes, and have receipts of $1,000 or more ($1 or more for the Construction sector). The data are available for approximately 450 NAICS industries at the national, state, county, metropolitan statistical area, and combined statistical area geography levels. The majority of NAICS industries are included.\n",
    "\n",
    "https://www.census.gov/data/developers/data-sets/nonemp-api.2017.html#list-tab-1358655114\n",
    "\n",
    "https://www.census.gov/data/developers/data-sets/nonemp-api.html\n",
    "https://api.census.gov/data/2017/nonemp/variables.html\n",
    "\n",
    "https://www2.census.gov/programs-surveys/nonemployer-statistics/technical-documentation/record-layouts/state-record-layout/state_record_layout_2017.txt\n",
    "\n",
    "### Definitions\n",
    "* LFO = Legal form of organization\n",
    "* NAICS2017_LABEL = type of business\n",
    "* NAME = geo areas, including states\n",
    "* NESTAB = Number of nonemployer establishments\n",
    "* NRCPTOT = Nonemployer sales, value of shipments, or revenue ($1,000)\n",
    "* RCPSZES_LABEL = Separates establishments into groups by sales/receipts, including \"All establishments\""
   ]
  },
  {
   "cell_type": "code",
   "execution_count": 130,
   "id": "5a40e8dd-83ba-4df7-a76f-0a3cdc553ed5",
   "metadata": {},
   "outputs": [],
   "source": [
    "CENSUS_API_KEY = \"35b2edd7f868b6d6f79e5988091d0f8df6ffbd2a\""
   ]
  },
  {
   "cell_type": "code",
   "execution_count": 131,
   "id": "569c1e04",
   "metadata": {},
   "outputs": [],
   "source": [
    "STATE_KEY = \"state_key\"\n",
    "POPULATION = \"population\"\n",
    "KEY = \"key\"\n",
    "CENSUS_DEMOGRAPHICS_URL = \"https://api.census.gov/data/2019/pep/charagegroups\"\n",
    "param_dict = {'get': 'NAME,POP', 'for': 'state:*', KEY: CENSUS_API_KEY}"
   ]
  },
  {
   "cell_type": "code",
   "execution_count": 132,
   "id": "12ac2d14-fe82-411e-96e2-9fa05eacff11",
   "metadata": {},
   "outputs": [],
   "source": [
    "response = requests.get(CENSUS_DEMOGRAPHICS_URL, params=param_dict)"
   ]
  },
  {
   "cell_type": "code",
   "execution_count": 133,
   "id": "02a4271c-55d7-4838-8536-63780386a4d9",
   "metadata": {},
   "outputs": [
    {
     "name": "stdout",
     "output_type": "stream",
     "text": [
      "<class 'pandas.core.frame.DataFrame'>\n",
      "RangeIndex: 52 entries, 0 to 51\n",
      "Data columns (total 3 columns):\n",
      " #   Column  Non-Null Count  Dtype \n",
      "---  ------  --------------  ----- \n",
      " 0   NAME    52 non-null     object\n",
      " 1   POP     52 non-null     object\n",
      " 2   state   52 non-null     object\n",
      "dtypes: object(3)\n",
      "memory usage: 1.3+ KB\n"
     ]
    }
   ],
   "source": [
    "result_list = response.json()  # The return from the API call is a list of lists, with first item being the column names\n",
    "column_name_list = result_list.pop(0)\n",
    "states_df = pd.DataFrame(result_list, columns=column_name_list)\n",
    "states_df.info()"
   ]
  },
  {
   "cell_type": "code",
   "execution_count": 134,
   "id": "69882787-ef56-42bf-9947-cd2308e65f19",
   "metadata": {},
   "outputs": [
    {
     "name": "stdout",
     "output_type": "stream",
     "text": [
      "<class 'pandas.core.frame.DataFrame'>\n",
      "RangeIndex: 52 entries, 0 to 51\n",
      "Data columns (total 3 columns):\n",
      " #   Column      Non-Null Count  Dtype \n",
      "---  ------      --------------  ----- \n",
      " 0   state_name  52 non-null     object\n",
      " 1   population  52 non-null     int64 \n",
      " 2   state_key   52 non-null     int64 \n",
      "dtypes: int64(2), object(1)\n",
      "memory usage: 1.3+ KB\n"
     ]
    }
   ],
   "source": [
    "name_dict = {\n",
    "    \"NAME\": STATE_NAME,\n",
    "    \"POP\": POPULATION,\n",
    "    \"state\": STATE_KEY,\n",
    "}\n",
    "states_df.rename(columns=name_dict, inplace=True)\n",
    "states_df[POPULATION] = states_df[POPULATION].astype(int)\n",
    "states_df[STATE_KEY] = states_df[STATE_KEY].astype(int)\n",
    "states_df.info()"
   ]
  },
  {
   "cell_type": "code",
   "execution_count": 135,
   "id": "88f211ef-4ef9-4a44-8af5-654cdc309be0",
   "metadata": {},
   "outputs": [
    {
     "data": {
      "text/plain": [
       "331433217"
      ]
     },
     "execution_count": 135,
     "metadata": {},
     "output_type": "execute_result"
    }
   ],
   "source": [
    "states_df[POPULATION].sum()  # Expected value ~330 million"
   ]
  },
  {
   "cell_type": "code",
   "execution_count": 136,
   "id": "69faba59-30a1-4e68-8dad-ee0058a073a8",
   "metadata": {},
   "outputs": [
    {
     "name": "stdout",
     "output_type": "stream",
     "text": [
      "<class 'pandas.core.frame.DataFrame'>\n",
      "RangeIndex: 561 entries, 0 to 560\n",
      "Data columns (total 5 columns):\n",
      " #   Column      Non-Null Count  Dtype  \n",
      "---  ------      --------------  -----  \n",
      " 0   state_name  561 non-null    object \n",
      " 1   cause_name  561 non-null    object \n",
      " 2   death_rate  561 non-null    float64\n",
      " 3   population  561 non-null    int64  \n",
      " 4   state_key   561 non-null    int64  \n",
      "dtypes: float64(1), int64(2), object(2)\n",
      "memory usage: 22.0+ KB\n"
     ]
    }
   ],
   "source": [
    "df = df.merge(states_df, on=STATE_NAME, how=\"inner\")\n",
    "df.info()"
   ]
  },
  {
   "cell_type": "code",
   "execution_count": 137,
   "id": "fd46f45e-1130-415f-b81b-8a08e666d1a7",
   "metadata": {},
   "outputs": [],
   "source": [
    "NESTAB = \"NESTAB\"\n",
    "NRCPTOT = \"NRCPTOT\"\n",
    "LFO = \"LFO\"\n",
    "NAICS2017 = \"NAICS2017\"\n",
    "\n",
    "CENSUS_NONEMPLOYER_URL = \"https://api.census.gov/data/2017/nonemp\"\n",
    "param_dict = {'get': ','.join((LFO, NESTAB, NRCPTOT)), 'for': 'state:*', NAICS2017: '*', KEY: CENSUS_API_KEY}"
   ]
  },
  {
   "cell_type": "code",
   "execution_count": 138,
   "id": "31dd1be3",
   "metadata": {},
   "outputs": [],
   "source": [
    "# This cell may take a minute or two\n",
    "response = requests.get(CENSUS_NONEMPLOYER_URL, params=param_dict)"
   ]
  },
  {
   "cell_type": "code",
   "execution_count": 139,
   "id": "0eb3f13f-f2e0-45e8-a7c6-05bcda7c61af",
   "metadata": {},
   "outputs": [
    {
     "name": "stdout",
     "output_type": "stream",
     "text": [
      "<class 'pandas.core.frame.DataFrame'>\n",
      "RangeIndex: 109381 entries, 0 to 109380\n",
      "Data columns (total 5 columns):\n",
      " #   Column     Non-Null Count   Dtype \n",
      "---  ------     --------------   ----- \n",
      " 0   LFO        109381 non-null  object\n",
      " 1   NESTAB     109381 non-null  object\n",
      " 2   NRCPTOT    109381 non-null  object\n",
      " 3   NAICS2017  109381 non-null  object\n",
      " 4   state      109381 non-null  object\n",
      "dtypes: object(5)\n",
      "memory usage: 4.2+ MB\n"
     ]
    }
   ],
   "source": [
    "result_list = response.json()  # The return from the API call is a list of lists, with first item being the column names\n",
    "column_name_list = result_list.pop(0)\n",
    "business_df = pd.DataFrame(result_list, columns=column_name_list)\n",
    "business_df.info()"
   ]
  },
  {
   "cell_type": "markdown",
   "id": "28a1dca2-6fdd-4623-b299-31b54d365e9b",
   "metadata": {},
   "source": [
    "## Census codes\n",
    "I've gone to the trouble of downloading these.\n",
    "* North American Industry Classification System (aka NAIC)\n",
    "  * [Original](https://www.census.gov/naics/?58967?yearbck=2017)\n",
    "  * [Used version](https://github.com/jsf80238/data_science/blob/main/data_files/naics_codes.csv)\n",
    "* Legal Form of Organization\n",
    "  * [Original](https://www2.census.gov/programs-surveys/abs/technical-documentation/api/NESD-Technical-Employer-and-Nonemployer-API-5242022Final.pdf)\n",
    "  * [Used version](https://github.com/jsf80238/data_science/blob/main/data_files/legal_form_codes.csv)"
   ]
  },
  {
   "cell_type": "code",
   "execution_count": 140,
   "id": "5eb58f0d-bce5-42d0-b738-c0f56ef5034a",
   "metadata": {},
   "outputs": [
    {
     "name": "stdout",
     "output_type": "stream",
     "text": [
      "<class 'pandas.core.frame.DataFrame'>\n",
      "RangeIndex: 109381 entries, 0 to 109380\n",
      "Data columns (total 5 columns):\n",
      " #   Column                Non-Null Count   Dtype \n",
      "---  ------                --------------   ----- \n",
      " 0   state_key             109381 non-null  object\n",
      " 1   legal_form            109381 non-null  object\n",
      " 2   business_type         109381 non-null  object\n",
      " 3   establishment_count   109381 non-null  object\n",
      " 4   revenue_in_thousands  109381 non-null  object\n",
      "dtypes: object(5)\n",
      "memory usage: 4.2+ MB\n"
     ]
    }
   ],
   "source": [
    "LEGAL_FORM = \"legal_form\"\n",
    "BUSINESS_TYPE = \"business_type\"\n",
    "ESTABLISHMENT_COUNT = \"establishment_count\"\n",
    "REVENUE_IN_THOUSANDS = \"revenue_in_thousands\"\n",
    "REVENUE_CATEGORY = \"revenue_category\"\n",
    "name_dict = {\n",
    "    \"state\": STATE_KEY,\n",
    "    \"NAICS2017\": BUSINESS_TYPE,\n",
    "    \"LFO\": LEGAL_FORM,\n",
    "    \"NESTAB\": ESTABLISHMENT_COUNT,\n",
    "    \"NRCPTOT\": REVENUE_IN_THOUSANDS,\n",
    "}\n",
    "business_df.rename(columns=name_dict, inplace=True)\n",
    "business_df = business_df.reindex([STATE_KEY, LEGAL_FORM, BUSINESS_TYPE, ESTABLISHMENT_COUNT, REVENUE_IN_THOUSANDS], axis=1)\n",
    "business_df.info()"
   ]
  },
  {
   "cell_type": "code",
   "execution_count": 141,
   "id": "bd76d07e-805e-4093-9133-ffc4a4500876",
   "metadata": {},
   "outputs": [
    {
     "name": "stdout",
     "output_type": "stream",
     "text": [
      "<class 'pandas.core.frame.DataFrame'>\n",
      "RangeIndex: 109381 entries, 0 to 109380\n",
      "Data columns (total 5 columns):\n",
      " #   Column                Non-Null Count   Dtype \n",
      "---  ------                --------------   ----- \n",
      " 0   state_key             109381 non-null  int64 \n",
      " 1   legal_form            109381 non-null  object\n",
      " 2   business_type         109381 non-null  object\n",
      " 3   establishment_count   109381 non-null  int64 \n",
      " 4   revenue_in_thousands  109381 non-null  int64 \n",
      "dtypes: int64(3), object(2)\n",
      "memory usage: 4.2+ MB\n"
     ]
    }
   ],
   "source": [
    "for column_name in ESTABLISHMENT_COUNT, REVENUE_IN_THOUSANDS, STATE_KEY:\n",
    "    business_df[column_name] = business_df[column_name].astype(int)\n",
    "business_df.info()"
   ]
  },
  {
   "cell_type": "code",
   "execution_count": 142,
   "id": "fc98a212-c7b8-49f0-bb85-80a7d721f599",
   "metadata": {},
   "outputs": [
    {
     "data": {
      "text/html": [
       "<div>\n",
       "<style scoped>\n",
       "    .dataframe tbody tr th:only-of-type {\n",
       "        vertical-align: middle;\n",
       "    }\n",
       "\n",
       "    .dataframe tbody tr th {\n",
       "        vertical-align: top;\n",
       "    }\n",
       "\n",
       "    .dataframe thead th {\n",
       "        text-align: right;\n",
       "    }\n",
       "</style>\n",
       "<table border=\"1\" class=\"dataframe\">\n",
       "  <thead>\n",
       "    <tr style=\"text-align: right;\">\n",
       "      <th></th>\n",
       "      <th>state_key</th>\n",
       "      <th>legal_form</th>\n",
       "      <th>business_type</th>\n",
       "      <th>establishment_count</th>\n",
       "      <th>revenue_in_thousands</th>\n",
       "    </tr>\n",
       "  </thead>\n",
       "  <tbody>\n",
       "    <tr>\n",
       "      <th>0</th>\n",
       "      <td>28</td>\n",
       "      <td>001</td>\n",
       "      <td>00</td>\n",
       "      <td>219596</td>\n",
       "      <td>8889009</td>\n",
       "    </tr>\n",
       "    <tr>\n",
       "      <th>1</th>\n",
       "      <td>28</td>\n",
       "      <td>9101</td>\n",
       "      <td>00</td>\n",
       "      <td>1750</td>\n",
       "      <td>206357</td>\n",
       "    </tr>\n",
       "    <tr>\n",
       "      <th>2</th>\n",
       "      <td>28</td>\n",
       "      <td>9111</td>\n",
       "      <td>00</td>\n",
       "      <td>6527</td>\n",
       "      <td>848178</td>\n",
       "    </tr>\n",
       "    <tr>\n",
       "      <th>3</th>\n",
       "      <td>28</td>\n",
       "      <td>920</td>\n",
       "      <td>00</td>\n",
       "      <td>198380</td>\n",
       "      <td>6220549</td>\n",
       "    </tr>\n",
       "    <tr>\n",
       "      <th>4</th>\n",
       "      <td>28</td>\n",
       "      <td>930</td>\n",
       "      <td>00</td>\n",
       "      <td>12939</td>\n",
       "      <td>1613925</td>\n",
       "    </tr>\n",
       "    <tr>\n",
       "      <th>...</th>\n",
       "      <td>...</td>\n",
       "      <td>...</td>\n",
       "      <td>...</td>\n",
       "      <td>...</td>\n",
       "      <td>...</td>\n",
       "    </tr>\n",
       "    <tr>\n",
       "      <th>109376</th>\n",
       "      <td>26</td>\n",
       "      <td>001</td>\n",
       "      <td>813</td>\n",
       "      <td>5972</td>\n",
       "      <td>86303</td>\n",
       "    </tr>\n",
       "    <tr>\n",
       "      <th>109377</th>\n",
       "      <td>26</td>\n",
       "      <td>9101</td>\n",
       "      <td>813</td>\n",
       "      <td>135</td>\n",
       "      <td>13364</td>\n",
       "    </tr>\n",
       "    <tr>\n",
       "      <th>109378</th>\n",
       "      <td>26</td>\n",
       "      <td>9111</td>\n",
       "      <td>813</td>\n",
       "      <td>19</td>\n",
       "      <td>2159</td>\n",
       "    </tr>\n",
       "    <tr>\n",
       "      <th>109379</th>\n",
       "      <td>26</td>\n",
       "      <td>920</td>\n",
       "      <td>813</td>\n",
       "      <td>5803</td>\n",
       "      <td>69991</td>\n",
       "    </tr>\n",
       "    <tr>\n",
       "      <th>109380</th>\n",
       "      <td>26</td>\n",
       "      <td>930</td>\n",
       "      <td>813</td>\n",
       "      <td>15</td>\n",
       "      <td>789</td>\n",
       "    </tr>\n",
       "  </tbody>\n",
       "</table>\n",
       "<p>109381 rows × 5 columns</p>\n",
       "</div>"
      ],
      "text/plain": [
       "        state_key legal_form business_type  establishment_count  \\\n",
       "0              28        001            00               219596   \n",
       "1              28       9101            00                 1750   \n",
       "2              28       9111            00                 6527   \n",
       "3              28        920            00               198380   \n",
       "4              28        930            00                12939   \n",
       "...           ...        ...           ...                  ...   \n",
       "109376         26        001           813                 5972   \n",
       "109377         26       9101           813                  135   \n",
       "109378         26       9111           813                   19   \n",
       "109379         26        920           813                 5803   \n",
       "109380         26        930           813                   15   \n",
       "\n",
       "        revenue_in_thousands  \n",
       "0                    8889009  \n",
       "1                     206357  \n",
       "2                     848178  \n",
       "3                    6220549  \n",
       "4                    1613925  \n",
       "...                      ...  \n",
       "109376                 86303  \n",
       "109377                 13364  \n",
       "109378                  2159  \n",
       "109379                 69991  \n",
       "109380                   789  \n",
       "\n",
       "[109381 rows x 5 columns]"
      ]
     },
     "execution_count": 142,
     "metadata": {},
     "output_type": "execute_result"
    }
   ],
   "source": [
    "business_df"
   ]
  },
  {
   "cell_type": "markdown",
   "id": "1d3796ba-766b-42c1-b03c-31692141ccdd",
   "metadata": {},
   "source": [
    "## Check for duplicate rows"
   ]
  },
  {
   "cell_type": "code",
   "execution_count": 143,
   "id": "a3693149-7c76-4701-843f-0fbafacb66e8",
   "metadata": {},
   "outputs": [
    {
     "data": {
      "text/html": [
       "<div>\n",
       "<style scoped>\n",
       "    .dataframe tbody tr th:only-of-type {\n",
       "        vertical-align: middle;\n",
       "    }\n",
       "\n",
       "    .dataframe tbody tr th {\n",
       "        vertical-align: top;\n",
       "    }\n",
       "\n",
       "    .dataframe thead th {\n",
       "        text-align: right;\n",
       "    }\n",
       "</style>\n",
       "<table border=\"1\" class=\"dataframe\">\n",
       "  <thead>\n",
       "    <tr style=\"text-align: right;\">\n",
       "      <th></th>\n",
       "      <th>state_key</th>\n",
       "      <th>legal_form</th>\n",
       "      <th>business_type</th>\n",
       "      <th>establishment_count</th>\n",
       "      <th>revenue_in_thousands</th>\n",
       "    </tr>\n",
       "  </thead>\n",
       "  <tbody>\n",
       "  </tbody>\n",
       "</table>\n",
       "</div>"
      ],
      "text/plain": [
       "Empty DataFrame\n",
       "Columns: [state_key, legal_form, business_type, establishment_count, revenue_in_thousands]\n",
       "Index: []"
      ]
     },
     "execution_count": 143,
     "metadata": {},
     "output_type": "execute_result"
    }
   ],
   "source": [
    "mask = business_df[[STATE_KEY, BUSINESS_TYPE, LEGAL_FORM]].duplicated()\n",
    "business_df[mask]"
   ]
  },
  {
   "cell_type": "markdown",
   "id": "4e7826d2-7d8f-439c-9287-1d7b67aa599e",
   "metadata": {},
   "source": [
    "## Check for holes\n",
    "Verify this data does not have holes, meaning verify every combination of legal_form/business_type exists for every state.\n",
    "\n",
    "If something is missing, add it with zero for the establishment_count and revenue_in_thousands."
   ]
  },
  {
   "cell_type": "code",
   "execution_count": 144,
   "id": "b978c0a1-4e00-4944-9d36-bc7b1546a09e",
   "metadata": {},
   "outputs": [
    {
     "name": "stdout",
     "output_type": "stream",
     "text": [
      "119,850 possible combinations, for example:\n",
      "(19, '9101', '511')\n",
      "(12, '9101', '621111')\n",
      "(20, '920', '237')\n",
      "(29, '9101', '4241')\n",
      "(44, '930', '6216')\n",
      "(23, '001', '3241')\n",
      "(33, '9111', '56141')\n",
      "(18, '9101', '54136')\n",
      "(10, '930', '445')\n",
      "(19, '920', '54134')\n",
      "(50, '9101', '722511')\n",
      "(33, '001', '339')\n"
     ]
    }
   ],
   "source": [
    "from itertools import product\n",
    "state_list = business_df[STATE_KEY].unique()\n",
    "legal_form_list = business_df[LEGAL_FORM].unique()\n",
    "business_type_list = business_df[BUSINESS_TYPE].unique()\n",
    "wanted_combinations_set = set(product(state_list, legal_form_list, business_type_list))\n",
    "print(f\"{len(wanted_combinations_set):,} possible combinations, for example:\")\n",
    "for i, item in enumerate(wanted_combinations_set):\n",
    "    print(item)\n",
    "    if i > 10:\n",
    "        break\n"
   ]
  },
  {
   "cell_type": "code",
   "execution_count": 145,
   "id": "10a5f7e1-2612-4c98-8e39-ef9b8dedc639",
   "metadata": {},
   "outputs": [
    {
     "name": "stdout",
     "output_type": "stream",
     "text": [
      "109,381 existing combinations, for example:\n",
      "(19, '9101', '511')\n",
      "(12, '9101', '621111')\n",
      "(20, '920', '237')\n",
      "(29, '9101', '4241')\n",
      "(23, '001', '3241')\n",
      "(10, '930', '445')\n",
      "(19, '920', '54134')\n",
      "(50, '9101', '722511')\n",
      "(33, '001', '339')\n",
      "(22, '920', '53228')\n",
      "(25, '001', '4247')\n",
      "(31, '930', '81222')\n"
     ]
    }
   ],
   "source": [
    "existing_combinations_set = set()\n",
    "for item in business_df[[STATE_KEY, LEGAL_FORM, BUSINESS_TYPE]].to_records(index=False):\n",
    "    existing_combinations_set.add(tuple(item))\n",
    "print(f\"{len(existing_combinations_set):,} existing combinations, for example:\")\n",
    "for i, item in enumerate(existing_combinations_set):\n",
    "    print(item)\n",
    "    if i > 10:\n",
    "        break"
   ]
  },
  {
   "cell_type": "code",
   "execution_count": 146,
   "id": "0028b38e-6cd7-4ef9-b15f-28344d628305",
   "metadata": {},
   "outputs": [
    {
     "name": "stdout",
     "output_type": "stream",
     "text": [
      "10,469 missing combinations, for example:\n",
      "(15, '930', '532281')\n",
      "(21, '930', '621391')\n",
      "(15, '9101', '21311')\n",
      "(44, '9101', '331')\n",
      "(44, '930', '6216')\n",
      "(38, '9101', '45114')\n",
      "(33, '9111', '56141')\n",
      "(15, '9101', '1151')\n",
      "(18, '9101', '54136')\n",
      "(41, '9111', '81293')\n",
      "(35, '920', '53311')\n",
      "(22, '9101', '44613')\n"
     ]
    }
   ],
   "source": [
    "missing_combinations_set = wanted_combinations_set - existing_combinations_set\n",
    "print(f\"{len(missing_combinations_set):,} missing combinations, for example:\")\n",
    "for i, item in enumerate(missing_combinations_set):\n",
    "    print(item)\n",
    "    if i > 10:\n",
    "        break"
   ]
  },
  {
   "cell_type": "code",
   "execution_count": 147,
   "id": "97634e1c-7d73-44ce-b438-577ebf0033ef",
   "metadata": {},
   "outputs": [
    {
     "data": {
      "text/plain": [
       "[[15, '930', '532281', 0, 0],\n",
       " [21, '930', '621391', 0, 0],\n",
       " [15, '9101', '21311', 0, 0],\n",
       " [44, '9101', '331', 0, 0],\n",
       " [44, '930', '6216', 0, 0],\n",
       " [38, '9101', '45114', 0, 0],\n",
       " [33, '9111', '56141', 0, 0],\n",
       " [15, '9101', '1151', 0, 0],\n",
       " [18, '9101', '54136', 0, 0],\n",
       " [41, '9111', '81293', 0, 0]]"
      ]
     },
     "execution_count": 147,
     "metadata": {},
     "output_type": "execute_result"
    }
   ],
   "source": [
    "missing_data = [list(combo) + [0, 0] for combo in missing_combinations_set]\n",
    "missing_data[:10]"
   ]
  },
  {
   "cell_type": "code",
   "execution_count": 148,
   "id": "b7df6cda-1534-4f8d-a65a-4a85a7cd66e9",
   "metadata": {},
   "outputs": [
    {
     "name": "stdout",
     "output_type": "stream",
     "text": [
      "<class 'pandas.core.frame.DataFrame'>\n",
      "RangeIndex: 10469 entries, 0 to 10468\n",
      "Data columns (total 5 columns):\n",
      " #   Column                Non-Null Count  Dtype \n",
      "---  ------                --------------  ----- \n",
      " 0   state_key             10469 non-null  int64 \n",
      " 1   legal_form            10469 non-null  object\n",
      " 2   business_type         10469 non-null  object\n",
      " 3   establishment_count   10469 non-null  int64 \n",
      " 4   revenue_in_thousands  10469 non-null  int64 \n",
      "dtypes: int64(3), object(2)\n",
      "memory usage: 409.1+ KB\n"
     ]
    }
   ],
   "source": [
    "missing_df = pd.DataFrame.from_records(missing_data)\n",
    "missing_df.columns = [STATE_KEY, LEGAL_FORM, BUSINESS_TYPE, ESTABLISHMENT_COUNT, REVENUE_IN_THOUSANDS]\n",
    "missing_df.info()"
   ]
  },
  {
   "cell_type": "code",
   "execution_count": 149,
   "id": "5961ab27-970b-4c33-9e36-75b28ecd94a9",
   "metadata": {},
   "outputs": [
    {
     "name": "stdout",
     "output_type": "stream",
     "text": [
      "<class 'pandas.core.frame.DataFrame'>\n",
      "RangeIndex: 119850 entries, 0 to 119849\n",
      "Data columns (total 5 columns):\n",
      " #   Column                Non-Null Count   Dtype \n",
      "---  ------                --------------   ----- \n",
      " 0   state_key             119850 non-null  int64 \n",
      " 1   legal_form            119850 non-null  object\n",
      " 2   business_type         119850 non-null  object\n",
      " 3   establishment_count   119850 non-null  int64 \n",
      " 4   revenue_in_thousands  119850 non-null  int64 \n",
      "dtypes: int64(3), object(2)\n",
      "memory usage: 4.6+ MB\n"
     ]
    }
   ],
   "source": [
    "business_df = pd.concat([business_df, missing_df], ignore_index=True)\n",
    "business_df.info()"
   ]
  },
  {
   "cell_type": "markdown",
   "id": "66f54204-86f6-4a5f-bf40-3a0e5c722261",
   "metadata": {},
   "source": [
    "## Holes have been filled"
   ]
  },
  {
   "cell_type": "code",
   "execution_count": 150,
   "id": "21cfa2c8-271a-47d9-87c3-55f86cf7023e",
   "metadata": {},
   "outputs": [
    {
     "name": "stdout",
     "output_type": "stream",
     "text": [
      "<class 'pandas.core.frame.DataFrame'>\n",
      "RangeIndex: 1318350 entries, 0 to 1318349\n",
      "Data columns (total 8 columns):\n",
      " #   Column                Non-Null Count    Dtype  \n",
      "---  ------                --------------    -----  \n",
      " 0   cause_name            1318350 non-null  object \n",
      " 1   state_name            1318350 non-null  object \n",
      " 2   population            1318350 non-null  int64  \n",
      " 3   legal_form            1318350 non-null  object \n",
      " 4   business_type         1318350 non-null  object \n",
      " 5   establishment_count   1318350 non-null  int64  \n",
      " 6   revenue_in_thousands  1318350 non-null  int64  \n",
      " 7   death_rate            1318350 non-null  float64\n",
      "dtypes: float64(1), int64(3), object(4)\n",
      "memory usage: 80.5+ MB\n"
     ]
    }
   ],
   "source": [
    "df = df.merge(business_df, on=STATE_KEY)\n",
    "df.drop(columns=[STATE_KEY], inplace=True)\n",
    "df = df.reindex([CAUSE, STATE_NAME, POPULATION, LEGAL_FORM, BUSINESS_TYPE, ESTABLISHMENT_COUNT, REVENUE_IN_THOUSANDS, DEATH_RATE], axis=1)\n",
    "df.info()"
   ]
  },
  {
   "cell_type": "markdown",
   "id": "736063de-435c-42df-b6b6-a0f4bc7caade",
   "metadata": {},
   "source": [
    "## Categorization\n",
    "Let's make population, establishment_count, revenue_in_thousands and death_rate categories\n",
    "\n",
    "Distribution plots"
   ]
  },
  {
   "cell_type": "code",
   "execution_count": 155,
   "id": "beab8aba-5b03-485e-9d0f-3566d5623c28",
   "metadata": {},
   "outputs": [],
   "source": [
    "SMALL = \"small\"\n",
    "MEDIUM = \"medium\"\n",
    "LARGE = \"large\"\n",
    "XLARGE = \"x-large\""
   ]
  },
  {
   "cell_type": "code",
   "execution_count": 154,
   "id": "0283731b-a7eb-4a6d-8bf9-faedc785afad",
   "metadata": {},
   "outputs": [
    {
     "data": {
      "text/plain": [
       "0          large\n",
       "1          large\n",
       "2          large\n",
       "3          large\n",
       "4          large\n",
       "           ...  \n",
       "1318345    small\n",
       "1318346    small\n",
       "1318347    small\n",
       "1318348    small\n",
       "1318349    small\n",
       "Name: population, Length: 1318350, dtype: category\n",
       "Categories (4, object): ['small' < 'medium' < 'large' < 'x-large']"
      ]
     },
     "execution_count": 154,
     "metadata": {},
     "output_type": "execute_result"
    }
   ],
   "source": [
    "pd.qcut(df[POPULATION], 4, labels=[SMALL, MEDIUM, LARGE, XLARGE])"
   ]
  },
  {
   "cell_type": "code",
   "execution_count": 163,
   "id": "9c76b563-7598-4234-ae89-aef74a0b3ec6",
   "metadata": {},
   "outputs": [
    {
     "data": {
      "text/plain": [
       "0          (1827.0, 3374050.0]\n",
       "1          (1827.0, 3374050.0]\n",
       "2          (1827.0, 3374050.0]\n",
       "3          (1827.0, 3374050.0]\n",
       "4          (1827.0, 3374050.0]\n",
       "                  ...         \n",
       "1318345          (-0.001, 3.0]\n",
       "1318346          (-0.001, 3.0]\n",
       "1318347          (-0.001, 3.0]\n",
       "1318348          (-0.001, 3.0]\n",
       "1318349          (-0.001, 3.0]\n",
       "Name: establishment_count, Length: 1318350, dtype: category\n",
       "Categories (9, interval[float64, right]): [(-0.001, 3.0] < (3.0, 7.0] < (7.0, 16.0] < (16.0, 34.0] ... (71.0, 165.0] < (165.0, 438.0] < (438.0, 1827.0] < (1827.0, 3374050.0]]"
      ]
     },
     "execution_count": 163,
     "metadata": {},
     "output_type": "execute_result"
    }
   ],
   "source": [
    "pd.qcut(df[ESTABLISHMENT_COUNT], 10, duplicates=\"drop\")"
   ]
  },
  {
   "cell_type": "code",
   "execution_count": 160,
   "id": "440cb219-6fc2-44fe-9641-194beb91ec23",
   "metadata": {},
   "outputs": [
    {
     "data": {
      "text/html": [
       "<div>\n",
       "<style scoped>\n",
       "    .dataframe tbody tr th:only-of-type {\n",
       "        vertical-align: middle;\n",
       "    }\n",
       "\n",
       "    .dataframe tbody tr th {\n",
       "        vertical-align: top;\n",
       "    }\n",
       "\n",
       "    .dataframe thead th {\n",
       "        text-align: right;\n",
       "    }\n",
       "</style>\n",
       "<table border=\"1\" class=\"dataframe\">\n",
       "  <thead>\n",
       "    <tr style=\"text-align: right;\">\n",
       "      <th></th>\n",
       "      <th>cause_name</th>\n",
       "      <th>state_name</th>\n",
       "      <th>population</th>\n",
       "      <th>legal_form</th>\n",
       "      <th>business_type</th>\n",
       "      <th>establishment_count</th>\n",
       "      <th>revenue_in_thousands</th>\n",
       "      <th>death_rate</th>\n",
       "    </tr>\n",
       "  </thead>\n",
       "  <tbody>\n",
       "    <tr>\n",
       "      <th>103401</th>\n",
       "      <td>All causes</td>\n",
       "      <td>California</td>\n",
       "      <td>39512223</td>\n",
       "      <td>001</td>\n",
       "      <td>00</td>\n",
       "      <td>3374050</td>\n",
       "      <td>181655457</td>\n",
       "      <td>626.4250</td>\n",
       "    </tr>\n",
       "    <tr>\n",
       "      <th>105751</th>\n",
       "      <td>Alzheimer's disease</td>\n",
       "      <td>California</td>\n",
       "      <td>39512223</td>\n",
       "      <td>001</td>\n",
       "      <td>00</td>\n",
       "      <td>3374050</td>\n",
       "      <td>181655457</td>\n",
       "      <td>32.5750</td>\n",
       "    </tr>\n",
       "    <tr>\n",
       "      <th>108101</th>\n",
       "      <td>CLRD</td>\n",
       "      <td>California</td>\n",
       "      <td>39512223</td>\n",
       "      <td>001</td>\n",
       "      <td>00</td>\n",
       "      <td>3374050</td>\n",
       "      <td>181655457</td>\n",
       "      <td>34.1750</td>\n",
       "    </tr>\n",
       "    <tr>\n",
       "      <th>110451</th>\n",
       "      <td>Cancer</td>\n",
       "      <td>California</td>\n",
       "      <td>39512223</td>\n",
       "      <td>001</td>\n",
       "      <td>00</td>\n",
       "      <td>3374050</td>\n",
       "      <td>181655457</td>\n",
       "      <td>146.2750</td>\n",
       "    </tr>\n",
       "    <tr>\n",
       "      <th>112801</th>\n",
       "      <td>Diabetes</td>\n",
       "      <td>California</td>\n",
       "      <td>39512223</td>\n",
       "      <td>001</td>\n",
       "      <td>00</td>\n",
       "      <td>3374050</td>\n",
       "      <td>181655457</td>\n",
       "      <td>20.8500</td>\n",
       "    </tr>\n",
       "    <tr>\n",
       "      <th>115151</th>\n",
       "      <td>Heart disease</td>\n",
       "      <td>California</td>\n",
       "      <td>39512223</td>\n",
       "      <td>001</td>\n",
       "      <td>00</td>\n",
       "      <td>3374050</td>\n",
       "      <td>181655457</td>\n",
       "      <td>149.9750</td>\n",
       "    </tr>\n",
       "    <tr>\n",
       "      <th>117501</th>\n",
       "      <td>Influenza and pneumonia</td>\n",
       "      <td>California</td>\n",
       "      <td>39512223</td>\n",
       "      <td>001</td>\n",
       "      <td>00</td>\n",
       "      <td>3374050</td>\n",
       "      <td>181655457</td>\n",
       "      <td>15.3625</td>\n",
       "    </tr>\n",
       "    <tr>\n",
       "      <th>119851</th>\n",
       "      <td>Kidney disease</td>\n",
       "      <td>California</td>\n",
       "      <td>39512223</td>\n",
       "      <td>001</td>\n",
       "      <td>00</td>\n",
       "      <td>3374050</td>\n",
       "      <td>181655457</td>\n",
       "      <td>7.9875</td>\n",
       "    </tr>\n",
       "    <tr>\n",
       "      <th>122201</th>\n",
       "      <td>Stroke</td>\n",
       "      <td>California</td>\n",
       "      <td>39512223</td>\n",
       "      <td>001</td>\n",
       "      <td>00</td>\n",
       "      <td>3374050</td>\n",
       "      <td>181655457</td>\n",
       "      <td>36.1750</td>\n",
       "    </tr>\n",
       "    <tr>\n",
       "      <th>124551</th>\n",
       "      <td>Suicide</td>\n",
       "      <td>California</td>\n",
       "      <td>39512223</td>\n",
       "      <td>001</td>\n",
       "      <td>00</td>\n",
       "      <td>3374050</td>\n",
       "      <td>181655457</td>\n",
       "      <td>10.3375</td>\n",
       "    </tr>\n",
       "    <tr>\n",
       "      <th>126901</th>\n",
       "      <td>Unintentional injuries</td>\n",
       "      <td>California</td>\n",
       "      <td>39512223</td>\n",
       "      <td>001</td>\n",
       "      <td>00</td>\n",
       "      <td>3374050</td>\n",
       "      <td>181655457</td>\n",
       "      <td>29.7875</td>\n",
       "    </tr>\n",
       "  </tbody>\n",
       "</table>\n",
       "</div>"
      ],
      "text/plain": [
       "                     cause_name  state_name  population legal_form  \\\n",
       "103401               All causes  California    39512223        001   \n",
       "105751      Alzheimer's disease  California    39512223        001   \n",
       "108101                     CLRD  California    39512223        001   \n",
       "110451                   Cancer  California    39512223        001   \n",
       "112801                 Diabetes  California    39512223        001   \n",
       "115151            Heart disease  California    39512223        001   \n",
       "117501  Influenza and pneumonia  California    39512223        001   \n",
       "119851           Kidney disease  California    39512223        001   \n",
       "122201                   Stroke  California    39512223        001   \n",
       "124551                  Suicide  California    39512223        001   \n",
       "126901   Unintentional injuries  California    39512223        001   \n",
       "\n",
       "       business_type  establishment_count  revenue_in_thousands  death_rate  \n",
       "103401            00              3374050             181655457    626.4250  \n",
       "105751            00              3374050             181655457     32.5750  \n",
       "108101            00              3374050             181655457     34.1750  \n",
       "110451            00              3374050             181655457    146.2750  \n",
       "112801            00              3374050             181655457     20.8500  \n",
       "115151            00              3374050             181655457    149.9750  \n",
       "117501            00              3374050             181655457     15.3625  \n",
       "119851            00              3374050             181655457      7.9875  \n",
       "122201            00              3374050             181655457     36.1750  \n",
       "124551            00              3374050             181655457     10.3375  \n",
       "126901            00              3374050             181655457     29.7875  "
      ]
     },
     "execution_count": 160,
     "metadata": {},
     "output_type": "execute_result"
    }
   ],
   "source": [
    "df[df[ESTABLISHMENT_COUNT] == 3374050]"
   ]
  },
  {
   "cell_type": "code",
   "execution_count": 152,
   "id": "cc8725f7-552c-4a53-8d3e-cdd26690ecdc",
   "metadata": {},
   "outputs": [
    {
     "name": "stdout",
     "output_type": "stream",
     "text": [
      "<class 'pandas.core.frame.DataFrame'>\n",
      "Index: 119850 entries, 11750 to 1306599\n",
      "Data columns (total 7 columns):\n",
      " #   Column                Non-Null Count   Dtype  \n",
      "---  ------                --------------   -----  \n",
      " 0   state_name            119850 non-null  object \n",
      " 1   population            119850 non-null  int64  \n",
      " 2   legal_form            119850 non-null  object \n",
      " 3   business_type         119850 non-null  object \n",
      " 4   establishment_count   119850 non-null  int64  \n",
      " 5   revenue_in_thousands  119850 non-null  int64  \n",
      " 6   death_rate            119850 non-null  float64\n",
      "dtypes: float64(1), int64(3), object(3)\n",
      "memory usage: 7.3+ MB\n"
     ]
    }
   ],
   "source": [
    "frames_by_cause_dict = dict()\n",
    "for cause_name in df[CAUSE].unique():\n",
    "    mask = (df[CAUSE] == cause_name)\n",
    "    new_df = df[mask].copy()\n",
    "    new_df.drop(columns=[CAUSE], inplace=True)\n",
    "    frames_by_cause_dict[cause_name] = new_df\n",
    "frames_by_cause_dict[\"Heart disease\"].info()"
   ]
  },
  {
   "cell_type": "code",
   "execution_count": null,
   "id": "16eb3ace-35ea-4309-a308-585ebd623858",
   "metadata": {},
   "outputs": [],
   "source": []
  }
 ],
 "metadata": {
  "kernelspec": {
   "display_name": "Python 3 (ipykernel)",
   "language": "python",
   "name": "python3"
  },
  "language_info": {
   "codemirror_mode": {
    "name": "ipython",
    "version": 3
   },
   "file_extension": ".py",
   "mimetype": "text/x-python",
   "name": "python",
   "nbconvert_exporter": "python",
   "pygments_lexer": "ipython3",
   "version": "3.12.2"
  }
 },
 "nbformat": 4,
 "nbformat_minor": 5
}

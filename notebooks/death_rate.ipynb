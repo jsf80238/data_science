{
 "cells": [
  {
   "cell_type": "markdown",
   "id": "affb371e-370f-4056-b590-0c81b8de022c",
   "metadata": {},
   "source": [
    "# Predicting rate of death\n",
    "The CDC [reports](https://www.kaggle.com/datasets/cdc/nchs-death-rates-and-causes-of-death) death rates in all US states due to various causes such as heart disease, Alzheimer's, etc.\n",
    "\n",
    "This notebook is an effort to find the features which predict those rates. I am using [Census Bureau nonemployer establishment data](https://www.census.gov/programs-surveys/nonemployer-statistics/data/datasets.html#:~:text=Nonemployer%20Statistics%20Datasets,-Nonemployer%20Statistics%20(NES&text=NES%20data%20includes%20the%20number,geographic%20area%20and%20industry%20detail.) as my first attempt. A nonemployer estabishment is a business without any employees.\n",
    "\n",
    "Death rates are measured as the number of deaths per 100,000 people.\n",
    "\n",
    "The data is for year 2017.\n",
    "\n",
    "This is a work-in-progress. I have gotten as far as:\n",
    "* Preparing the feature set.\n",
    "* Running a multiple linear regression for heart disease and [reaching a conclusion](#heart_disease_linear_regression_conclusion).\n",
    "\n",
    "My next steps are to apply these models:\n",
    "* Naive Bayes.\n",
    "* Decision trees (with [XGBoost](https://xgboost.readthedocs.io/en/stable/))."
   ]
  },
  {
   "cell_type": "markdown",
   "id": "615dcd35-7a37-4420-ad84-c1ba317c130c",
   "metadata": {},
   "source": [
    "## Data preparation"
   ]
  },
  {
   "cell_type": "code",
   "execution_count": 4,
   "id": "e67f818c-dbcd-43f0-aa9e-66ec933b29e3",
   "metadata": {},
   "outputs": [],
   "source": [
    "import collections\n",
    "import csv\n",
    "import datetime\n",
    "import itertools\n",
    "import math\n",
    "import os\n",
    "import pickle\n",
    "import re\n",
    "import subprocess\n",
    "# Imports above are standard library\n",
    "# Imports below are 3rd-party\n",
    "import numpy as np\n",
    "import pandas as pd\n",
    "import requests\n",
    "import seaborn as sns\n",
    "from matplotlib import pyplot as plt\n",
    "from sklearn.datasets import make_blobs\n",
    "from sklearn.ensemble import RandomForestClassifier\n",
    "from sklearn.linear_model import LinearRegression, LogisticRegression\n",
    "from sklearn.metrics import RocCurveDisplay, ConfusionMatrixDisplay, recall_score, precision_score, silhouette_score, f1_score, accuracy_score, roc_auc_score, confusion_matrix, ConfusionMatrixDisplay\n",
    "from sklearn.model_selection import train_test_split, PredefinedSplit, GridSearchCV\n",
    "from sklearn.naive_bayes import GaussianNB, BernoulliNB, CategoricalNB, ComplementNB, MultinomialNB\n",
    "from sklearn.preprocessing import StandardScaler, MinMaxScaler, OneHotEncoder\n",
    "from sklearn.tree import DecisionTreeClassifier, plot_tree\n",
    "from statsmodels.api import qqplot\n",
    "from statsmodels.formula.api import ols\n",
    "from statsmodels.stats.multicomp import pairwise_tukeyhsd\n",
    "from statsmodels.stats.outliers_influence import variance_inflation_factor\n",
    "import scipy.stats as stats\n",
    "import statsmodels.api as sm\n",
    "from xgboost import XGBClassifier, plot_importance"
   ]
  },
  {
   "cell_type": "markdown",
   "id": "def83ef6-4c79-4407-a0f9-8dc00943c27d",
   "metadata": {},
   "source": [
    "### Cause of death data\n",
    "You can use Kaggle to download this data or [take it from this repo](https://github.com/jsf80238/data_science/blob/main/data_files/nchs-leading-causes-of-death-united-states.csv).\n",
    "\n",
    "#### Kaggle API\n",
    "If you will be downloading from Kaggle you will need your own API key, which you can get by following [these instructions](https://github.com/Kaggle/kaggle-api/blob/main/docs/README.md)."
   ]
  },
  {
   "cell_type": "code",
   "execution_count": 5,
   "id": "042c8a23-103b-4468-96d1-08ae46ffd623",
   "metadata": {},
   "outputs": [],
   "source": [
    "MY_KAGGLE_USERNAME = \"jsf80238\"\n",
    "MY_KAGGLE_KEY = \"your-key-here\"\n",
    "KAGGLE_FILE_NAME = \"nchs-leading-causes-of-death-united-states.csv\"\n",
    "\n",
    "save_file = \"nchs-leading-causes-of-death-united-states.df\"  # For larger downloads saving the dataframe locally can save time between runs"
   ]
  },
  {
   "cell_type": "code",
   "execution_count": 9,
   "id": "f591ff6f-5abc-4e54-bed5-2eebb3490f58",
   "metadata": {},
   "outputs": [],
   "source": [
    "def get_kaggle_dataset_ref() -> str:\n",
    "    os.environ[\"KAGGLE_USERNAME\"] = MY_KAGGLE_USERNAME\n",
    "    os.environ[\"KAGGLE_KEY\"] = MY_KAGGLE_KEY\n",
    "    import kaggle  # The import itself uses your KAGGLE_KEY, that's why the import is not at the top. Really.\n",
    "    \n",
    "    dataset_name = \"NCHS - Death Rates and Causes of Death\"\n",
    "    command = \"kaggle datasets list --csv --search\".split()\n",
    "    #command.append(\"NCHS - Death Rates and Causes of Death\")\n",
    "    result = subprocess.run(command + [dataset_name], capture_output=True)\n",
    "    data = result.stdout.decode(encoding=\"utf-8\")\n",
    "    csvreader = csv.DictReader(data.splitlines())\n",
    "    for row in csvreader:\n",
    "        if row[\"title\"] == dataset_name:\n",
    "            # print(row)\n",
    "            return row[\"ref\"]\n",
    "            break\n",
    "    else:\n",
    "        raise Exception(\"Could not find a matching Kaggle dataset.\")\n"
   ]
  },
  {
   "cell_type": "code",
   "execution_count": 14,
   "id": "19bc043e-7376-48db-8d32-034a6a312906",
   "metadata": {},
   "outputs": [
    {
     "name": "stdout",
     "output_type": "stream",
     "text": [
      "Dataset URL: https://www.kaggle.com/datasets/cdc/nchs-death-rates-and-causes-of-death\n",
      "License(s): other\n",
      "Downloading nchs-leading-causes-of-death-united-states.csv to /home/jason/PycharmProjects/data_science/notebooks\n",
      "\n",
      "\n",
      "100%|██████████| 834k/834k [00:00<00:00, 3.45MB/s]\n",
      "\n",
      "\n",
      "Directory contents:\n",
      ".ipynb_checkpoints\n",
      "death_rate.ipynb\n",
      "death_rate_previous_code.ipynb\n",
      "nchs-age-adjusted-death-rates-for-selected-major-causes-of-death.csv\n",
      "nchs-leading-causes-of-death-united-states.csv\n",
      "socrata_metadata_nchs-age-adjusted-death-rates-for-selected-major-causes-of-death.json\n",
      "socrata_metadata_nchs-death-rates-and-life-expectancy-at-birth.json\n",
      "socrata_metadata_nchs-leading-causes-of-death-united-states.json\n",
      "socrata_metadata_nchs-potentially-excess-deaths-from-the-five-leading-causes-of-death.json\n",
      "socrata_metadata_nchs-top-five-leading-causes-of-death-united-states-1990-1950-2000.json\n",
      "\n",
      "10,868 rows\n"
     ]
    },
    {
     "data": {
      "text/html": [
       "<div>\n",
       "<style scoped>\n",
       "    .dataframe tbody tr th:only-of-type {\n",
       "        vertical-align: middle;\n",
       "    }\n",
       "\n",
       "    .dataframe tbody tr th {\n",
       "        vertical-align: top;\n",
       "    }\n",
       "\n",
       "    .dataframe thead th {\n",
       "        text-align: right;\n",
       "    }\n",
       "</style>\n",
       "<table border=\"1\" class=\"dataframe\">\n",
       "  <thead>\n",
       "    <tr style=\"text-align: right;\">\n",
       "      <th></th>\n",
       "      <th>Year</th>\n",
       "      <th>113 Cause Name</th>\n",
       "      <th>Cause Name</th>\n",
       "      <th>State</th>\n",
       "      <th>Deaths</th>\n",
       "      <th>Age-adjusted Death Rate</th>\n",
       "    </tr>\n",
       "  </thead>\n",
       "  <tbody>\n",
       "    <tr>\n",
       "      <th>0</th>\n",
       "      <td>2012</td>\n",
       "      <td>Nephritis, nephrotic syndrome and nephrosis (N...</td>\n",
       "      <td>Kidney disease</td>\n",
       "      <td>Vermont</td>\n",
       "      <td>21</td>\n",
       "      <td>2.6</td>\n",
       "    </tr>\n",
       "    <tr>\n",
       "      <th>1</th>\n",
       "      <td>2017</td>\n",
       "      <td>Nephritis, nephrotic syndrome and nephrosis (N...</td>\n",
       "      <td>Kidney disease</td>\n",
       "      <td>Vermont</td>\n",
       "      <td>29</td>\n",
       "      <td>3.3</td>\n",
       "    </tr>\n",
       "  </tbody>\n",
       "</table>\n",
       "</div>"
      ],
      "text/plain": [
       "   Year                                     113 Cause Name      Cause Name  \\\n",
       "0  2012  Nephritis, nephrotic syndrome and nephrosis (N...  Kidney disease   \n",
       "1  2017  Nephritis, nephrotic syndrome and nephrosis (N...  Kidney disease   \n",
       "\n",
       "     State  Deaths  Age-adjusted Death Rate  \n",
       "0  Vermont      21                      2.6  \n",
       "1  Vermont      29                      3.3  "
      ]
     },
     "execution_count": 14,
     "metadata": {},
     "output_type": "execute_result"
    }
   ],
   "source": [
    "if os.path.exists(save_file):\n",
    "    with open(save_file, \"rb\") as reader:\n",
    "        df = pickle.load(reader)\n",
    "else:\n",
    "    dataset_ref = get_kaggle_dataset_ref()\n",
    "    command = f\"kaggle datasets download --unzip --force --file {KAGGLE_FILE_NAME} {dataset_ref}\".split()\n",
    "    result = subprocess.run(command, capture_output=True)\n",
    "    stdout = result.stdout.decode(encoding=\"utf-8\")\n",
    "    stderr = result.stderr.decode(encoding=\"utf-8\")\n",
    "    print(stdout)\n",
    "    print(stderr)\n",
    "    print()\n",
    "    print(\"Directory contents:\")\n",
    "    print(os.linesep.join(sorted(os.listdir(\".\"))))\n",
    "    print()\n",
    "    df = pd.read_csv(KAGGLE_FILE_NAME)\n",
    "    with open(save_file, \"wb\") as writer:\n",
    "        pickle.dump(df, writer)\n",
    "\n",
    "print(\"Dataframe details:\")\n",
    "print(f\"{df.shape[0]:,} rows\")\n",
    "df.head(2)"
   ]
  },
  {
   "cell_type": "markdown",
   "id": "04a00e3a-0a40-4723-83e2-6100148bd35e",
   "metadata": {},
   "source": [
    "### Exploratory data analysis\n",
    "Use [data profiling tool](https://github.com/jsf80238/data_science/blob/main/README.md) to do this.\n",
    "\n",
    "Download this dataframe to CSV:\n",
    "```\n",
    "save_file = \"nchs-leading-causes-of-death-united-states.csv\"\n",
    "with open(save_file, \"w\") as writer:\n",
    "    writer.write(df.to_csv(index=False))\n",
    "print(f\"Wrote {os.stat(save_file).st_size} bytes to '{save_file}'.\")\n",
    "```\n",
    "Analyze using the tool.\n",
    "```\n",
    "~/PycharmProjects/data_science $ python data_science/profile_data.py data_files/nchs-leading-causes-of-death-united-states.csv --tar=$HOME\n",
    "```\n",
    "\n",
    "Results below.\n",
    "\n",
    "#### Summary\n",
    "\n",
    "![summary](../images/death_rate/summary.png)\n",
    "\n",
    "Of note above:\n",
    "* Columns C & D tell us we have no nulls.\n",
    "* Cells I2 and J2 tell us we have data from years 1999 to 2017.\n",
    "* Cells E5, I5, J5 and K5 tell us we have all the states plus Washington DC. Actually we have one too many, we'll have to see why that is.\n",
    "* Cells I7 & J7 say there is a very wide range for adjusted death rate, we'll have to see why that is.\n",
    "\n",
    "#### Years\n",
    "\n",
    "![summary](../images/death_rate/year_box.png)\n",
    "\n",
    "(Looks good.)\n",
    "\n",
    "#### Cause (of death)\n",
    "\n",
    "![summary](../images/death_rate/cause_detail.png)\n",
    "\n",
    "(Looks good.)\n",
    "\n",
    "#### Death rate\n",
    "\n",
    "![summary](../images/death_rate/death_rate_box.png)\n",
    "\n",
    "Outliers. See below for what we do with those.\n",
    "\n",
    "#### Duplicate data\n",
    "Next, check for duplicate data."
   ]
  },
  {
   "cell_type": "code",
   "execution_count": 15,
   "id": "54f3016f-ba4c-4e07-8918-d68c789f9e25",
   "metadata": {},
   "outputs": [
    {
     "data": {
      "text/plain": [
       "False    10868\n",
       "Name: count, dtype: int64"
      ]
     },
     "execution_count": 15,
     "metadata": {},
     "output_type": "execute_result"
    }
   ],
   "source": [
    "df.duplicated().value_counts()"
   ]
  },
  {
   "cell_type": "code",
   "execution_count": 16,
   "id": "531b73b1-ffea-465f-8d5d-2a89f4616f8f",
   "metadata": {},
   "outputs": [],
   "source": [
    "### 52 states?"
   ]
  },
  {
   "cell_type": "code",
   "execution_count": 17,
   "id": "81a829eb-8710-4bc4-ab6a-e9fcad3da61b",
   "metadata": {},
   "outputs": [
    {
     "data": {
      "text/html": [
       "<div>\n",
       "<style scoped>\n",
       "    .dataframe tbody tr th:only-of-type {\n",
       "        vertical-align: middle;\n",
       "    }\n",
       "\n",
       "    .dataframe tbody tr th {\n",
       "        vertical-align: top;\n",
       "    }\n",
       "\n",
       "    .dataframe thead th {\n",
       "        text-align: right;\n",
       "    }\n",
       "</style>\n",
       "<table border=\"1\" class=\"dataframe\">\n",
       "  <thead>\n",
       "    <tr style=\"text-align: right;\">\n",
       "      <th></th>\n",
       "      <th>State</th>\n",
       "      <th>count</th>\n",
       "    </tr>\n",
       "  </thead>\n",
       "  <tbody>\n",
       "    <tr>\n",
       "      <th>21</th>\n",
       "      <td>Alabama</td>\n",
       "      <td>209</td>\n",
       "    </tr>\n",
       "    <tr>\n",
       "      <th>39</th>\n",
       "      <td>Alaska</td>\n",
       "      <td>209</td>\n",
       "    </tr>\n",
       "    <tr>\n",
       "      <th>29</th>\n",
       "      <td>Arizona</td>\n",
       "      <td>209</td>\n",
       "    </tr>\n",
       "    <tr>\n",
       "      <th>51</th>\n",
       "      <td>Arkansas</td>\n",
       "      <td>209</td>\n",
       "    </tr>\n",
       "    <tr>\n",
       "      <th>37</th>\n",
       "      <td>California</td>\n",
       "      <td>209</td>\n",
       "    </tr>\n",
       "    <tr>\n",
       "      <th>50</th>\n",
       "      <td>Colorado</td>\n",
       "      <td>209</td>\n",
       "    </tr>\n",
       "    <tr>\n",
       "      <th>43</th>\n",
       "      <td>Connecticut</td>\n",
       "      <td>209</td>\n",
       "    </tr>\n",
       "    <tr>\n",
       "      <th>26</th>\n",
       "      <td>Delaware</td>\n",
       "      <td>209</td>\n",
       "    </tr>\n",
       "    <tr>\n",
       "      <th>1</th>\n",
       "      <td>District of Columbia</td>\n",
       "      <td>209</td>\n",
       "    </tr>\n",
       "    <tr>\n",
       "      <th>40</th>\n",
       "      <td>Florida</td>\n",
       "      <td>209</td>\n",
       "    </tr>\n",
       "    <tr>\n",
       "      <th>11</th>\n",
       "      <td>Georgia</td>\n",
       "      <td>209</td>\n",
       "    </tr>\n",
       "    <tr>\n",
       "      <th>48</th>\n",
       "      <td>Hawaii</td>\n",
       "      <td>209</td>\n",
       "    </tr>\n",
       "    <tr>\n",
       "      <th>42</th>\n",
       "      <td>Idaho</td>\n",
       "      <td>209</td>\n",
       "    </tr>\n",
       "    <tr>\n",
       "      <th>45</th>\n",
       "      <td>Illinois</td>\n",
       "      <td>209</td>\n",
       "    </tr>\n",
       "    <tr>\n",
       "      <th>14</th>\n",
       "      <td>Indiana</td>\n",
       "      <td>209</td>\n",
       "    </tr>\n",
       "    <tr>\n",
       "      <th>32</th>\n",
       "      <td>Iowa</td>\n",
       "      <td>209</td>\n",
       "    </tr>\n",
       "    <tr>\n",
       "      <th>18</th>\n",
       "      <td>Kansas</td>\n",
       "      <td>209</td>\n",
       "    </tr>\n",
       "    <tr>\n",
       "      <th>22</th>\n",
       "      <td>Kentucky</td>\n",
       "      <td>209</td>\n",
       "    </tr>\n",
       "    <tr>\n",
       "      <th>12</th>\n",
       "      <td>Louisiana</td>\n",
       "      <td>209</td>\n",
       "    </tr>\n",
       "    <tr>\n",
       "      <th>6</th>\n",
       "      <td>Maine</td>\n",
       "      <td>209</td>\n",
       "    </tr>\n",
       "    <tr>\n",
       "      <th>49</th>\n",
       "      <td>Maryland</td>\n",
       "      <td>209</td>\n",
       "    </tr>\n",
       "    <tr>\n",
       "      <th>34</th>\n",
       "      <td>Massachusetts</td>\n",
       "      <td>209</td>\n",
       "    </tr>\n",
       "    <tr>\n",
       "      <th>5</th>\n",
       "      <td>Michigan</td>\n",
       "      <td>209</td>\n",
       "    </tr>\n",
       "    <tr>\n",
       "      <th>44</th>\n",
       "      <td>Minnesota</td>\n",
       "      <td>209</td>\n",
       "    </tr>\n",
       "    <tr>\n",
       "      <th>15</th>\n",
       "      <td>Mississippi</td>\n",
       "      <td>209</td>\n",
       "    </tr>\n",
       "    <tr>\n",
       "      <th>23</th>\n",
       "      <td>Missouri</td>\n",
       "      <td>209</td>\n",
       "    </tr>\n",
       "    <tr>\n",
       "      <th>46</th>\n",
       "      <td>Montana</td>\n",
       "      <td>209</td>\n",
       "    </tr>\n",
       "    <tr>\n",
       "      <th>2</th>\n",
       "      <td>Nebraska</td>\n",
       "      <td>209</td>\n",
       "    </tr>\n",
       "    <tr>\n",
       "      <th>27</th>\n",
       "      <td>Nevada</td>\n",
       "      <td>209</td>\n",
       "    </tr>\n",
       "    <tr>\n",
       "      <th>47</th>\n",
       "      <td>New Hampshire</td>\n",
       "      <td>209</td>\n",
       "    </tr>\n",
       "    <tr>\n",
       "      <th>35</th>\n",
       "      <td>New Jersey</td>\n",
       "      <td>209</td>\n",
       "    </tr>\n",
       "    <tr>\n",
       "      <th>4</th>\n",
       "      <td>New Mexico</td>\n",
       "      <td>209</td>\n",
       "    </tr>\n",
       "    <tr>\n",
       "      <th>33</th>\n",
       "      <td>New York</td>\n",
       "      <td>209</td>\n",
       "    </tr>\n",
       "    <tr>\n",
       "      <th>20</th>\n",
       "      <td>North Carolina</td>\n",
       "      <td>209</td>\n",
       "    </tr>\n",
       "    <tr>\n",
       "      <th>36</th>\n",
       "      <td>North Dakota</td>\n",
       "      <td>209</td>\n",
       "    </tr>\n",
       "    <tr>\n",
       "      <th>3</th>\n",
       "      <td>Ohio</td>\n",
       "      <td>209</td>\n",
       "    </tr>\n",
       "    <tr>\n",
       "      <th>7</th>\n",
       "      <td>Oklahoma</td>\n",
       "      <td>209</td>\n",
       "    </tr>\n",
       "    <tr>\n",
       "      <th>28</th>\n",
       "      <td>Oregon</td>\n",
       "      <td>209</td>\n",
       "    </tr>\n",
       "    <tr>\n",
       "      <th>8</th>\n",
       "      <td>Pennsylvania</td>\n",
       "      <td>209</td>\n",
       "    </tr>\n",
       "    <tr>\n",
       "      <th>38</th>\n",
       "      <td>Rhode Island</td>\n",
       "      <td>209</td>\n",
       "    </tr>\n",
       "    <tr>\n",
       "      <th>16</th>\n",
       "      <td>South Carolina</td>\n",
       "      <td>209</td>\n",
       "    </tr>\n",
       "    <tr>\n",
       "      <th>30</th>\n",
       "      <td>South Dakota</td>\n",
       "      <td>209</td>\n",
       "    </tr>\n",
       "    <tr>\n",
       "      <th>10</th>\n",
       "      <td>Tennessee</td>\n",
       "      <td>209</td>\n",
       "    </tr>\n",
       "    <tr>\n",
       "      <th>9</th>\n",
       "      <td>Texas</td>\n",
       "      <td>209</td>\n",
       "    </tr>\n",
       "    <tr>\n",
       "      <th>13</th>\n",
       "      <td>United States</td>\n",
       "      <td>209</td>\n",
       "    </tr>\n",
       "    <tr>\n",
       "      <th>25</th>\n",
       "      <td>Utah</td>\n",
       "      <td>209</td>\n",
       "    </tr>\n",
       "    <tr>\n",
       "      <th>0</th>\n",
       "      <td>Vermont</td>\n",
       "      <td>209</td>\n",
       "    </tr>\n",
       "    <tr>\n",
       "      <th>17</th>\n",
       "      <td>Virginia</td>\n",
       "      <td>209</td>\n",
       "    </tr>\n",
       "    <tr>\n",
       "      <th>31</th>\n",
       "      <td>Washington</td>\n",
       "      <td>209</td>\n",
       "    </tr>\n",
       "    <tr>\n",
       "      <th>24</th>\n",
       "      <td>West Virginia</td>\n",
       "      <td>209</td>\n",
       "    </tr>\n",
       "    <tr>\n",
       "      <th>19</th>\n",
       "      <td>Wisconsin</td>\n",
       "      <td>209</td>\n",
       "    </tr>\n",
       "    <tr>\n",
       "      <th>41</th>\n",
       "      <td>Wyoming</td>\n",
       "      <td>209</td>\n",
       "    </tr>\n",
       "  </tbody>\n",
       "</table>\n",
       "</div>"
      ],
      "text/plain": [
       "                   State  count\n",
       "21               Alabama    209\n",
       "39                Alaska    209\n",
       "29               Arizona    209\n",
       "51              Arkansas    209\n",
       "37            California    209\n",
       "50              Colorado    209\n",
       "43           Connecticut    209\n",
       "26              Delaware    209\n",
       "1   District of Columbia    209\n",
       "40               Florida    209\n",
       "11               Georgia    209\n",
       "48                Hawaii    209\n",
       "42                 Idaho    209\n",
       "45              Illinois    209\n",
       "14               Indiana    209\n",
       "32                  Iowa    209\n",
       "18                Kansas    209\n",
       "22              Kentucky    209\n",
       "12             Louisiana    209\n",
       "6                  Maine    209\n",
       "49              Maryland    209\n",
       "34         Massachusetts    209\n",
       "5               Michigan    209\n",
       "44             Minnesota    209\n",
       "15           Mississippi    209\n",
       "23              Missouri    209\n",
       "46               Montana    209\n",
       "2               Nebraska    209\n",
       "27                Nevada    209\n",
       "47         New Hampshire    209\n",
       "35            New Jersey    209\n",
       "4             New Mexico    209\n",
       "33              New York    209\n",
       "20        North Carolina    209\n",
       "36          North Dakota    209\n",
       "3                   Ohio    209\n",
       "7               Oklahoma    209\n",
       "28                Oregon    209\n",
       "8           Pennsylvania    209\n",
       "38          Rhode Island    209\n",
       "16        South Carolina    209\n",
       "30          South Dakota    209\n",
       "10             Tennessee    209\n",
       "9                  Texas    209\n",
       "13         United States    209\n",
       "25                  Utah    209\n",
       "0                Vermont    209\n",
       "17              Virginia    209\n",
       "31            Washington    209\n",
       "24         West Virginia    209\n",
       "19             Wisconsin    209\n",
       "41               Wyoming    209"
      ]
     },
     "execution_count": 17,
     "metadata": {},
     "output_type": "execute_result"
    }
   ],
   "source": [
    "df[\"State\"].value_counts().reset_index().sort_values(by=[\"State\"])"
   ]
  },
  {
   "cell_type": "markdown",
   "id": "fcbbf6e2-a2db-49e2-93d3-80a3f19b068b",
   "metadata": {},
   "source": [
    "### Adjustments\n",
    "The data includes rows for deaths for the entire United States, we don't want those.\n",
    "\n",
    "Also, in case 2017 was an especially good or bad year, use the average from 2010-2017.\n",
    "\n",
    "Also, drop unneeded columns."
   ]
  },
  {
   "cell_type": "code",
   "execution_count": 18,
   "id": "2946ec88-db57-4d18-8559-cbf0cfa5d1ef",
   "metadata": {},
   "outputs": [
    {
     "name": "stdout",
     "output_type": "stream",
     "text": [
      "<class 'pandas.core.frame.DataFrame'>\n",
      "Index: 4488 entries, 0 to 10802\n",
      "Data columns (total 4 columns):\n",
      " #   Column      Non-Null Count  Dtype  \n",
      "---  ------      --------------  -----  \n",
      " 0   year        4488 non-null   int64  \n",
      " 1   cause       4488 non-null   object \n",
      " 2   state_name  4488 non-null   object \n",
      " 3   death_rate  4488 non-null   float64\n",
      "dtypes: float64(1), int64(1), object(2)\n",
      "memory usage: 175.3+ KB\n"
     ]
    }
   ],
   "source": [
    "name_dict = {\n",
    "    \"Year\": \"year\",\n",
    "    \"Cause Name\": \"cause\",\n",
    "    \"State\": \"state_name\",\n",
    "    \"Age-adjusted Death Rate\": \"death_rate\",\n",
    "}\n",
    "df.rename(columns=name_dict, inplace=True)\n",
    "\n",
    "df.drop(columns=[\"113 Cause Name\", \"Deaths\"], inplace=True)\n",
    "\n",
    "mask = (df[\"year\"] >= 2010) & (df[\"state_name\"] != 'United States')\n",
    "df = df[mask]\n",
    "\n",
    "df.info()"
   ]
  },
  {
   "cell_type": "markdown",
   "id": "da0699e7-38ef-443e-8aa4-218b61c09acd",
   "metadata": {},
   "source": [
    "#### Ultimately we want death rate by state and cause"
   ]
  },
  {
   "cell_type": "code",
   "execution_count": 19,
   "id": "04c261d9-2bdf-40a7-af81-818c2978ab96",
   "metadata": {},
   "outputs": [
    {
     "data": {
      "text/html": [
       "<div>\n",
       "<style scoped>\n",
       "    .dataframe tbody tr th:only-of-type {\n",
       "        vertical-align: middle;\n",
       "    }\n",
       "\n",
       "    .dataframe tbody tr th {\n",
       "        vertical-align: top;\n",
       "    }\n",
       "\n",
       "    .dataframe thead th {\n",
       "        text-align: right;\n",
       "    }\n",
       "</style>\n",
       "<table border=\"1\" class=\"dataframe\">\n",
       "  <thead>\n",
       "    <tr style=\"text-align: right;\">\n",
       "      <th></th>\n",
       "      <th>state_name</th>\n",
       "      <th>cause</th>\n",
       "      <th>death_rate</th>\n",
       "    </tr>\n",
       "  </thead>\n",
       "  <tbody>\n",
       "    <tr>\n",
       "      <th>0</th>\n",
       "      <td>Alabama</td>\n",
       "      <td>All causes</td>\n",
       "      <td>924.6125</td>\n",
       "    </tr>\n",
       "    <tr>\n",
       "      <th>1</th>\n",
       "      <td>Alabama</td>\n",
       "      <td>Alzheimer's disease</td>\n",
       "      <td>35.2625</td>\n",
       "    </tr>\n",
       "    <tr>\n",
       "      <th>2</th>\n",
       "      <td>Alabama</td>\n",
       "      <td>CLRD</td>\n",
       "      <td>55.5750</td>\n",
       "    </tr>\n",
       "    <tr>\n",
       "      <th>3</th>\n",
       "      <td>Alabama</td>\n",
       "      <td>Cancer</td>\n",
       "      <td>180.5125</td>\n",
       "    </tr>\n",
       "    <tr>\n",
       "      <th>4</th>\n",
       "      <td>Alabama</td>\n",
       "      <td>Diabetes</td>\n",
       "      <td>22.6875</td>\n",
       "    </tr>\n",
       "    <tr>\n",
       "      <th>...</th>\n",
       "      <td>...</td>\n",
       "      <td>...</td>\n",
       "      <td>...</td>\n",
       "    </tr>\n",
       "    <tr>\n",
       "      <th>556</th>\n",
       "      <td>Wyoming</td>\n",
       "      <td>Influenza and pneumonia</td>\n",
       "      <td>17.5750</td>\n",
       "    </tr>\n",
       "    <tr>\n",
       "      <th>557</th>\n",
       "      <td>Wyoming</td>\n",
       "      <td>Kidney disease</td>\n",
       "      <td>11.7625</td>\n",
       "    </tr>\n",
       "    <tr>\n",
       "      <th>558</th>\n",
       "      <td>Wyoming</td>\n",
       "      <td>Stroke</td>\n",
       "      <td>33.2625</td>\n",
       "    </tr>\n",
       "    <tr>\n",
       "      <th>559</th>\n",
       "      <td>Wyoming</td>\n",
       "      <td>Suicide</td>\n",
       "      <td>24.6750</td>\n",
       "    </tr>\n",
       "    <tr>\n",
       "      <th>560</th>\n",
       "      <td>Wyoming</td>\n",
       "      <td>Unintentional injuries</td>\n",
       "      <td>58.7000</td>\n",
       "    </tr>\n",
       "  </tbody>\n",
       "</table>\n",
       "<p>561 rows × 3 columns</p>\n",
       "</div>"
      ],
      "text/plain": [
       "    state_name                    cause  death_rate\n",
       "0      Alabama               All causes    924.6125\n",
       "1      Alabama      Alzheimer's disease     35.2625\n",
       "2      Alabama                     CLRD     55.5750\n",
       "3      Alabama                   Cancer    180.5125\n",
       "4      Alabama                 Diabetes     22.6875\n",
       "..         ...                      ...         ...\n",
       "556    Wyoming  Influenza and pneumonia     17.5750\n",
       "557    Wyoming           Kidney disease     11.7625\n",
       "558    Wyoming                   Stroke     33.2625\n",
       "559    Wyoming                  Suicide     24.6750\n",
       "560    Wyoming   Unintentional injuries     58.7000\n",
       "\n",
       "[561 rows x 3 columns]"
      ]
     },
     "execution_count": 19,
     "metadata": {},
     "output_type": "execute_result"
    }
   ],
   "source": [
    "df = df[[\"state_name\", \"cause\", \"death_rate\"]].groupby([\"state_name\", \"cause\"]).mean().reset_index()\n",
    "df"
   ]
  },
  {
   "cell_type": "markdown",
   "id": "65ad03e1-017b-4082-8611-23318c7105bb",
   "metadata": {},
   "source": [
    "### Add a normalized death rate\n",
    "A state may have a higher death rate across-the-board, or may have a higher death rate for particular causes, or both.\n",
    "\n",
    "Divide the death rates for particular causes by the death rate for that state to better isolate particular causes."
   ]
  },
  {
   "cell_type": "code",
   "execution_count": 20,
   "id": "9a2a9ea5-073c-4ea9-a904-869c38e55ed6",
   "metadata": {},
   "outputs": [
    {
     "name": "stdout",
     "output_type": "stream",
     "text": [
      "51 rows\n"
     ]
    },
    {
     "data": {
      "text/html": [
       "<div>\n",
       "<style scoped>\n",
       "    .dataframe tbody tr th:only-of-type {\n",
       "        vertical-align: middle;\n",
       "    }\n",
       "\n",
       "    .dataframe tbody tr th {\n",
       "        vertical-align: top;\n",
       "    }\n",
       "\n",
       "    .dataframe thead th {\n",
       "        text-align: right;\n",
       "    }\n",
       "</style>\n",
       "<table border=\"1\" class=\"dataframe\">\n",
       "  <thead>\n",
       "    <tr style=\"text-align: right;\">\n",
       "      <th></th>\n",
       "      <th>state_name</th>\n",
       "      <th>death_rate</th>\n",
       "    </tr>\n",
       "  </thead>\n",
       "  <tbody>\n",
       "    <tr>\n",
       "      <th>0</th>\n",
       "      <td>Alabama</td>\n",
       "      <td>924.6125</td>\n",
       "    </tr>\n",
       "    <tr>\n",
       "      <th>11</th>\n",
       "      <td>Alaska</td>\n",
       "      <td>739.2125</td>\n",
       "    </tr>\n",
       "  </tbody>\n",
       "</table>\n",
       "</div>"
      ],
      "text/plain": [
       "   state_name  death_rate\n",
       "0     Alabama    924.6125\n",
       "11     Alaska    739.2125"
      ]
     },
     "execution_count": 20,
     "metadata": {},
     "output_type": "execute_result"
    }
   ],
   "source": [
    "death_rate_all_causes = \"death_rate_all_causes\"\n",
    "all_causes = \"All causes\"\n",
    "mask = (df[\"cause\"] == all_causes)\n",
    "by_state_df = df[mask][[\"state_name\", \"death_rate\"]]\n",
    "print(f\"{by_state_df.shape[0]:,} rows\")\n",
    "by_state_df.head(2)"
   ]
  },
  {
   "cell_type": "code",
   "execution_count": 21,
   "id": "53c8b2d6-a5c1-4c7d-b38e-2cabcacd9ed5",
   "metadata": {},
   "outputs": [
    {
     "name": "stdout",
     "output_type": "stream",
     "text": [
      "561 rows\n"
     ]
    },
    {
     "data": {
      "text/html": [
       "<div>\n",
       "<style scoped>\n",
       "    .dataframe tbody tr th:only-of-type {\n",
       "        vertical-align: middle;\n",
       "    }\n",
       "\n",
       "    .dataframe tbody tr th {\n",
       "        vertical-align: top;\n",
       "    }\n",
       "\n",
       "    .dataframe thead th {\n",
       "        text-align: right;\n",
       "    }\n",
       "</style>\n",
       "<table border=\"1\" class=\"dataframe\">\n",
       "  <thead>\n",
       "    <tr style=\"text-align: right;\">\n",
       "      <th></th>\n",
       "      <th>state_name</th>\n",
       "      <th>cause</th>\n",
       "      <th>death_rate</th>\n",
       "      <th>death_rate_normalized</th>\n",
       "    </tr>\n",
       "  </thead>\n",
       "  <tbody>\n",
       "    <tr>\n",
       "      <th>0</th>\n",
       "      <td>Alabama</td>\n",
       "      <td>All causes</td>\n",
       "      <td>924.6125</td>\n",
       "      <td>1.000000</td>\n",
       "    </tr>\n",
       "    <tr>\n",
       "      <th>1</th>\n",
       "      <td>Alabama</td>\n",
       "      <td>Alzheimer's disease</td>\n",
       "      <td>35.2625</td>\n",
       "      <td>0.038138</td>\n",
       "    </tr>\n",
       "  </tbody>\n",
       "</table>\n",
       "</div>"
      ],
      "text/plain": [
       "  state_name                cause  death_rate  death_rate_normalized\n",
       "0    Alabama           All causes    924.6125               1.000000\n",
       "1    Alabama  Alzheimer's disease     35.2625               0.038138"
      ]
     },
     "execution_count": 21,
     "metadata": {},
     "output_type": "execute_result"
    }
   ],
   "source": [
    "df = df.merge(by_state_df, on=\"state_name\", suffixes=(None, \"_all_causes\"))\n",
    "df[\"death_rate_normalized\"] = df[\"death_rate\"] / df[death_rate_all_causes]\n",
    "df.drop(columns=[death_rate_all_causes], inplace=True)\n",
    "print(f\"{df.shape[0]:,} rows\")\n",
    "df.head(2)"
   ]
  },
  {
   "cell_type": "markdown",
   "id": "efda5fb6-a990-41a1-a363-1c8e83814f18",
   "metadata": {},
   "source": [
    "#### We don't need all-causes rows anymore"
   ]
  },
  {
   "cell_type": "code",
   "execution_count": 22,
   "id": "abeb48a5-03b2-446c-9182-48d08216933e",
   "metadata": {},
   "outputs": [
    {
     "name": "stdout",
     "output_type": "stream",
     "text": [
      "510 rows\n"
     ]
    },
    {
     "data": {
      "text/html": [
       "<div>\n",
       "<style scoped>\n",
       "    .dataframe tbody tr th:only-of-type {\n",
       "        vertical-align: middle;\n",
       "    }\n",
       "\n",
       "    .dataframe tbody tr th {\n",
       "        vertical-align: top;\n",
       "    }\n",
       "\n",
       "    .dataframe thead th {\n",
       "        text-align: right;\n",
       "    }\n",
       "</style>\n",
       "<table border=\"1\" class=\"dataframe\">\n",
       "  <thead>\n",
       "    <tr style=\"text-align: right;\">\n",
       "      <th></th>\n",
       "      <th>state_name</th>\n",
       "      <th>cause</th>\n",
       "      <th>death_rate</th>\n",
       "      <th>death_rate_normalized</th>\n",
       "    </tr>\n",
       "  </thead>\n",
       "  <tbody>\n",
       "    <tr>\n",
       "      <th>1</th>\n",
       "      <td>Alabama</td>\n",
       "      <td>Alzheimer's disease</td>\n",
       "      <td>35.2625</td>\n",
       "      <td>0.038138</td>\n",
       "    </tr>\n",
       "    <tr>\n",
       "      <th>2</th>\n",
       "      <td>Alabama</td>\n",
       "      <td>CLRD</td>\n",
       "      <td>55.5750</td>\n",
       "      <td>0.060106</td>\n",
       "    </tr>\n",
       "  </tbody>\n",
       "</table>\n",
       "</div>"
      ],
      "text/plain": [
       "  state_name                cause  death_rate  death_rate_normalized\n",
       "1    Alabama  Alzheimer's disease     35.2625               0.038138\n",
       "2    Alabama                 CLRD     55.5750               0.060106"
      ]
     },
     "execution_count": 22,
     "metadata": {},
     "output_type": "execute_result"
    }
   ],
   "source": [
    "mask = (df[\"cause\"] != all_causes)\n",
    "df = df[mask]\n",
    "print(f\"{df.shape[0]:,} rows\")\n",
    "df.head(2)"
   ]
  },
  {
   "cell_type": "markdown",
   "id": "6fac84d0-6aa9-4fbe-b279-bc1567bb8d30",
   "metadata": {},
   "source": [
    "### Census data: state populations"
   ]
  },
  {
   "cell_type": "code",
   "execution_count": 23,
   "id": "5a40e8dd-83ba-4df7-a76f-0a3cdc553ed5",
   "metadata": {},
   "outputs": [],
   "source": [
    "CENSUS_API_KEY = \"35b2edd7f868b6d6f79e5988091d0f8df6ffbd2a\""
   ]
  },
  {
   "cell_type": "code",
   "execution_count": 24,
   "id": "569c1e04",
   "metadata": {},
   "outputs": [],
   "source": [
    "CENSUS_DEMOGRAPHICS_URL = \"https://api.census.gov/data/2019/pep/charagegroups\"\n",
    "param_dict = {'get': 'NAME,POP', 'for': 'state:*', \"key\": CENSUS_API_KEY}"
   ]
  },
  {
   "cell_type": "code",
   "execution_count": 25,
   "id": "12ac2d14-fe82-411e-96e2-9fa05eacff11",
   "metadata": {},
   "outputs": [],
   "source": [
    "response = requests.get(CENSUS_DEMOGRAPHICS_URL, params=param_dict)"
   ]
  },
  {
   "cell_type": "code",
   "execution_count": 26,
   "id": "02a4271c-55d7-4838-8536-63780386a4d9",
   "metadata": {},
   "outputs": [
    {
     "name": "stdout",
     "output_type": "stream",
     "text": [
      "<class 'pandas.core.frame.DataFrame'>\n",
      "RangeIndex: 52 entries, 0 to 51\n",
      "Data columns (total 3 columns):\n",
      " #   Column  Non-Null Count  Dtype \n",
      "---  ------  --------------  ----- \n",
      " 0   NAME    52 non-null     object\n",
      " 1   POP     52 non-null     object\n",
      " 2   state   52 non-null     object\n",
      "dtypes: object(3)\n",
      "memory usage: 1.3+ KB\n"
     ]
    }
   ],
   "source": [
    "result_list = response.json()  # The return from the API call is a list of lists, with first item being the column names\n",
    "column_name_list = result_list.pop(0)\n",
    "states_df = pd.DataFrame(result_list, columns=column_name_list)\n",
    "states_df.info()"
   ]
  },
  {
   "cell_type": "code",
   "execution_count": 27,
   "id": "69882787-ef56-42bf-9947-cd2308e65f19",
   "metadata": {},
   "outputs": [
    {
     "name": "stdout",
     "output_type": "stream",
     "text": [
      "<class 'pandas.core.frame.DataFrame'>\n",
      "RangeIndex: 52 entries, 0 to 51\n",
      "Data columns (total 3 columns):\n",
      " #   Column      Non-Null Count  Dtype \n",
      "---  ------      --------------  ----- \n",
      " 0   state_name  52 non-null     object\n",
      " 1   population  52 non-null     int64 \n",
      " 2   state_key   52 non-null     int64 \n",
      "dtypes: int64(2), object(1)\n",
      "memory usage: 1.3+ KB\n"
     ]
    }
   ],
   "source": [
    "name_dict = {\n",
    "    \"NAME\": \"state_name\",\n",
    "    \"POP\": \"population\",\n",
    "    \"state\": \"state_key\",\n",
    "}\n",
    "states_df.rename(columns=name_dict, inplace=True)\n",
    "states_df[\"population\"] = states_df[\"population\"].astype(int)\n",
    "states_df[\"state_key\"] = states_df[\"state_key\"].astype(int)\n",
    "states_df.info()"
   ]
  },
  {
   "cell_type": "code",
   "execution_count": 28,
   "id": "88f211ef-4ef9-4a44-8af5-654cdc309be0",
   "metadata": {},
   "outputs": [
    {
     "data": {
      "text/plain": [
       "331433217"
      ]
     },
     "execution_count": 28,
     "metadata": {},
     "output_type": "execute_result"
    }
   ],
   "source": [
    "states_df[\"population\"].sum()  # Expected value ~330 million"
   ]
  },
  {
   "cell_type": "code",
   "execution_count": 29,
   "id": "69faba59-30a1-4e68-8dad-ee0058a073a8",
   "metadata": {},
   "outputs": [
    {
     "name": "stdout",
     "output_type": "stream",
     "text": [
      "<class 'pandas.core.frame.DataFrame'>\n",
      "RangeIndex: 510 entries, 0 to 509\n",
      "Data columns (total 6 columns):\n",
      " #   Column                 Non-Null Count  Dtype  \n",
      "---  ------                 --------------  -----  \n",
      " 0   state_name             510 non-null    object \n",
      " 1   cause                  510 non-null    object \n",
      " 2   death_rate             510 non-null    float64\n",
      " 3   death_rate_normalized  510 non-null    float64\n",
      " 4   population             510 non-null    int64  \n",
      " 5   state_key              510 non-null    int64  \n",
      "dtypes: float64(2), int64(2), object(2)\n",
      "memory usage: 24.0+ KB\n"
     ]
    }
   ],
   "source": [
    "df = df.merge(states_df, on=\"state_name\", how=\"inner\")\n",
    "df.info()"
   ]
  },
  {
   "cell_type": "markdown",
   "id": "427b85c4-b469-4532-b296-394ee760e97e",
   "metadata": {},
   "source": [
    "### Census data: non-employer data\n",
    "Nonemployer Statistics provides annual statistics on U.S. businesses with no paid employees or payroll at a detailed geography and industry level.\n",
    "\n",
    "Statistics are available on businesses that have no paid employment or payroll, are subject to federal income taxes, and have receipts of \\\\$1,000 or more (\\\\$1 or more for the Construction sector). The data are available for approximately 450 NAICS industries at the national, state, county, metropolitan statistical area, and combined statistical area geography levels. The majority of NAICS industries are included.\n",
    "\n",
    "https://www.census.gov/data/developers/data-sets/nonemp-api.2017.html#list-tab-1358655114\n",
    "\n",
    "https://www.census.gov/data/developers/data-sets/nonemp-api.html\n",
    "https://api.census.gov/data/2017/nonemp/variables.html\n",
    "\n",
    "https://www2.census.gov/programs-surveys/nonemployer-statistics/technical-documentation/record-layouts/state-record-layout/state_record_layout_2017.txt\n",
    "\n",
    "#### Definitions\n",
    "* LFO = Legal form of organization\n",
    "* NAICS2017_LABEL = type of business\n",
    "* NAME = geo areas, including states\n",
    "* NESTAB = Number of nonemployer establishments\n",
    "* NRCPTOT = Nonemployer sales, value of shipments, or revenue ($1,000)\n",
    "* RCPSZES_LABEL = Separates establishments into groups by sales/receipts, including \"All establishments\""
   ]
  },
  {
   "cell_type": "code",
   "execution_count": 30,
   "id": "fd46f45e-1130-415f-b81b-8a08e666d1a7",
   "metadata": {},
   "outputs": [],
   "source": [
    "CENSUS_NONEMPLOYER_URL = \"https://api.census.gov/data/2017/nonemp\"\n",
    "param_dict = {'get': ','.join((\"LFO\", \"NESTAB\", \"NRCPTOT\")), 'for': 'state:*', \"NAICS2017\": '*', \"key\": CENSUS_API_KEY}\n",
    "\n",
    "save_file = \"census.df\"  # For larger downloads saving the dataframe locally can save time between runs"
   ]
  },
  {
   "cell_type": "code",
   "execution_count": 34,
   "id": "b614281a-d91c-41f5-9c3b-f86d1cbc9fd9",
   "metadata": {},
   "outputs": [
    {
     "name": "stdout",
     "output_type": "stream",
     "text": [
      "Dataframe details:\n",
      "109,381 rows\n"
     ]
    },
    {
     "data": {
      "text/html": [
       "<div>\n",
       "<style scoped>\n",
       "    .dataframe tbody tr th:only-of-type {\n",
       "        vertical-align: middle;\n",
       "    }\n",
       "\n",
       "    .dataframe tbody tr th {\n",
       "        vertical-align: top;\n",
       "    }\n",
       "\n",
       "    .dataframe thead th {\n",
       "        text-align: right;\n",
       "    }\n",
       "</style>\n",
       "<table border=\"1\" class=\"dataframe\">\n",
       "  <thead>\n",
       "    <tr style=\"text-align: right;\">\n",
       "      <th></th>\n",
       "      <th>LFO</th>\n",
       "      <th>NESTAB</th>\n",
       "      <th>NRCPTOT</th>\n",
       "      <th>NAICS2017</th>\n",
       "      <th>state</th>\n",
       "    </tr>\n",
       "  </thead>\n",
       "  <tbody>\n",
       "    <tr>\n",
       "      <th>0</th>\n",
       "      <td>001</td>\n",
       "      <td>219596</td>\n",
       "      <td>8889009</td>\n",
       "      <td>00</td>\n",
       "      <td>28</td>\n",
       "    </tr>\n",
       "    <tr>\n",
       "      <th>1</th>\n",
       "      <td>9101</td>\n",
       "      <td>1750</td>\n",
       "      <td>206357</td>\n",
       "      <td>00</td>\n",
       "      <td>28</td>\n",
       "    </tr>\n",
       "  </tbody>\n",
       "</table>\n",
       "</div>"
      ],
      "text/plain": [
       "    LFO  NESTAB  NRCPTOT NAICS2017 state\n",
       "0   001  219596  8889009        00    28\n",
       "1  9101    1750   206357        00    28"
      ]
     },
     "execution_count": 34,
     "metadata": {},
     "output_type": "execute_result"
    }
   ],
   "source": [
    "# This cell may take a minute or two if you have not already downloaded the data\n",
    "if os.path.exists(save_file):\n",
    "    with open(save_file, \"rb\") as reader:\n",
    "        business_df = pickle.load(reader)\n",
    "else:\n",
    "    response = requests.get(CENSUS_NONEMPLOYER_URL, params=param_dict)\n",
    "    result_list = response.json()  # The return from the API call is a list of lists, with first item being the column names\n",
    "    column_name_list = result_list.pop(0)\n",
    "    business_df = pd.DataFrame(result_list, columns=column_name_list)\n",
    "    with open(save_file, \"wb\") as writer:\n",
    "        pickle.dump(business_df, writer)\n",
    "\n",
    "print(\"Dataframe details:\")\n",
    "print(f\"{business_df.shape[0]:,} rows\")\n",
    "business_df.head(2)"
   ]
  },
  {
   "cell_type": "markdown",
   "id": "b1cd39b2-d52f-4a4e-922d-3e7de84bcf97",
   "metadata": {},
   "source": [
    "### Exploratory data analysis\n",
    "Download this dataframe to CSV:\n",
    "```\n",
    "save_file = \"nonemployee-data.csv\"\n",
    "with open(save_file, \"w\") as writer:\n",
    "    writer.write(business_df.to_csv(index=False))\n",
    "print(f\"Wrote {os.stat(save_file).st_size} bytes to '{save_file}'.\")\n",
    "```\n",
    "Use the [data profiling tool](https://github.com/jsf80238/data_science/blob/main/README.md).\n",
    "```\n",
    "~/PycharmProjects/data_science $ python data_science/profile_data.py data_files/nonemployee-data.csv --tar=$HOME\n",
    "```\n",
    "\n",
    "Results below.\n",
    "\n",
    "#### Summary\n",
    "\n",
    "![summary](../images/death_rate/non_employer_summary.png)\n",
    "\n",
    "Of note above:\n",
    "* Cell E2 tells us we have 51 states ... might be 50 plus DC, might be 50 plus United States, we'll have to check.\n",
    "* The _largest_, _smallest_, _mean_ and _standard deviation_ measures for the number of establishments and total receipts show abnormally large values.\n",
    "\n",
    "#### State\n",
    "\n",
    "![summary](../images/death_rate/non_employer_state.png)\n",
    "\n",
    "The _value_ column contains the state ID ... refer to [this cell](#states_by_id) for the lookup. We still have to verify we have the correct 51.\n",
    "\n",
    "#### Legal Form of Establishment\n",
    "\n",
    "![summary](../images/death_rate/non_employer_legal_form.png)\n",
    "\n",
    "Roughly an even split, which is not unreasonable. The [lookup table](../data_files/legal_form_codes.csv) tells us we will need to remove the _1.0/All_ rows.\n",
    "\n",
    "#### Number of establishments\n",
    "\n",
    "![summary](../images/death_rate/non_employer_number_of_establishments.png)\n",
    "\n",
    "There are a lot with a value of 0, but probably reasonable that in a given state there might be zero such establishments for certain combinations of legal form and business type (for example, 486110/Pipeline Transportation of Crude Oil in Rhode Island).\n",
    "\n",
    "#### Revenue\n",
    "\n",
    "![summary](../images/death_rate/non_employer_revenue.png)\n",
    "\n",
    "Outliers, will need to investigate that.\n",
    "\n",
    "#### NAICS code\n",
    "\n",
    "![summary](../images/death_rate/non_employer_naics_code.png)\n",
    "\n",
    "The [lookup table](../data_files/naics_codes.csv) tells us the NAICS codes will be 2, 3, 4, 5 or 6 digits depending on the level in the hierarchy, but the pattern breakdown from the actual data shows some codes which are not all digits: `99?99`. We will need to investigate that.\n",
    "\n",
    "#### Duplicate data\n",
    "Next, check for duplicate data."
   ]
  },
  {
   "cell_type": "code",
   "execution_count": null,
   "id": "9d3da1bb-0f55-4dab-b9d2-dbe5a207ce8f",
   "metadata": {},
   "outputs": [],
   "source": [
    "business_df.duplicated().value_counts()"
   ]
  },
  {
   "cell_type": "markdown",
   "id": "b4e56371-b587-4ce8-80d1-e45bebcbb90c",
   "metadata": {},
   "source": [
    "### Cleanup\n",
    "* Give columns better names\n",
    "* Convert numeric-like values to numerics"
   ]
  },
  {
   "cell_type": "code",
   "execution_count": null,
   "id": "5eb58f0d-bce5-42d0-b738-c0f56ef5034a",
   "metadata": {},
   "outputs": [],
   "source": [
    "name_dict = {\n",
    "    \"state\": \"state_key\",\n",
    "    \"NAICS2017\": \"business_type\",\n",
    "    \"LFO\": \"legal_form\",\n",
    "    \"NESTAB\": \"establishment_count\",\n",
    "    \"NRCPTOT\": \"revenue_in_thousands\",\n",
    "}\n",
    "business_df.rename(columns=name_dict, inplace=True)\n",
    "business_df = business_df.reindex([\"state_key\", \"legal_form\", \"business_type\", \"establishment_count\", \"revenue_in_thousands\"], axis=1)\n",
    "\n",
    "for column_name in \"establishment_count\", \"revenue_in_thousands\", \"state_key\":\n",
    "    business_df[column_name] = business_df[column_name].astype(int)\n",
    "business_df.info()"
   ]
  },
  {
   "cell_type": "markdown",
   "id": "2a6bb3f0-cd52-447f-ab26-226dd2e21005",
   "metadata": {},
   "source": [
    "#### Revenue and number of establishments outliers"
   ]
  },
  {
   "cell_type": "code",
   "execution_count": null,
   "id": "4c905b64-6c24-47a1-9ff7-510726ad4392",
   "metadata": {},
   "outputs": [],
   "source": [
    "business_df[\"revenue_in_thousands\"].value_counts().reset_index().sort_values(by=\"revenue_in_thousands\").tail()"
   ]
  },
  {
   "cell_type": "code",
   "execution_count": null,
   "id": "dd89ddf4-48c0-47e0-aa83-056d0e0cead4",
   "metadata": {},
   "outputs": [],
   "source": [
    "mask = (business_df[\"revenue_in_thousands\"] >= 118273287)\n",
    "business_df[mask]"
   ]
  },
  {
   "cell_type": "markdown",
   "id": "3075558e-54c8-4978-81de-d30007ad56ed",
   "metadata": {},
   "source": [
    "#### Eliminate summary rows\n",
    "Rows where the legal_form is '001' or the business_type is '00' are summaries of the other rows, we don't want them."
   ]
  },
  {
   "cell_type": "code",
   "execution_count": null,
   "id": "1af2f8f3-47a4-4272-ac48-3942adc93eb9",
   "metadata": {},
   "outputs": [],
   "source": [
    "mask = (business_df[\"legal_form\"] != \"001\") & (business_df[\"business_type\"] != '00')\n",
    "business_df = business_df[mask]\n",
    "business_df.shape"
   ]
  },
  {
   "cell_type": "markdown",
   "id": "a3d8d7e4-7739-454c-acb7-67359dbe92bd",
   "metadata": {},
   "source": [
    "#### NAICS codes unexpected data\n",
    "Our exploratory data analysis showed rows where the NAICS code (now named _business_type_ was of the form:\n",
    "\n",
    "`digit digit something digit digit`\n",
    "\n",
    "whereas we expected all digits."
   ]
  },
  {
   "cell_type": "code",
   "execution_count": null,
   "id": "cd9d2248-d1d9-43a6-811c-45fc56b456b9",
   "metadata": {},
   "outputs": [],
   "source": [
    "mask = (business_df[\"business_type\"].str.isnumeric())\n",
    "business_df[~mask]"
   ]
  },
  {
   "cell_type": "markdown",
   "id": "445bb732-0509-4f83-ba93-53da0b09cdff",
   "metadata": {},
   "source": [
    "### Census codes\n",
    "It will be helpful for further analysis to be able to view the legal form codes and business type codes as strings rather than codes.\n",
    "\n",
    "I've gone to the trouble of downloading these, because the Census people don't make this information easy to work with (see the Original links below).\n",
    "* North American Industry Classification System (aka NAIC)\n",
    "  * [Original](https://www.census.gov/naics/?58967?yearbck=2017)\n",
    "  * [Version used here](https://github.com/jsf80238/data_science/blob/main/data_files/naics_codes.csv)\n",
    "* Legal Form of Organization\n",
    "  * [Original](https://www2.census.gov/programs-surveys/abs/technical-documentation/api/NESD-Technical-Employer-and-Nonemployer-API-5242022Final.pdf)\n",
    "  * [Version used here](https://github.com/jsf80238/data_science/blob/main/data_files/legal_form_codes.csv)"
   ]
  },
  {
   "cell_type": "code",
   "execution_count": null,
   "id": "3367bfe8-0c97-4af7-a595-aecb94bc4002",
   "metadata": {},
   "outputs": [],
   "source": [
    "def reformat_column_name(s: str) -> str:\n",
    "    s = re.sub(r\"\\W\", \"_\", s)\n",
    "    s = s.replace(\"__\", \"_\")\n",
    "    s = re.sub(r\"_$\", \"\", s)\n",
    "    return s.lower()\n",
    "\n",
    "\n",
    "BUSINESS_TYPE_URL = \"https://raw.githubusercontent.com/jsf80238/data_science/main/data_files/naics_codes.csv\"\n",
    "response = requests.get(BUSINESS_TYPE_URL)\n",
    "line_list = response.text.splitlines()\n",
    "\n",
    "business_type_dict = dict()\n",
    "csvreader = csv.DictReader(line_list)\n",
    "label_for_keys, label_for_values = csvreader.fieldnames\n",
    "for row in csvreader:\n",
    "    nominal_label = row[label_for_values]\n",
    "    improved_label = reformat_column_name(nominal_label)\n",
    "    business_type_dict[row[label_for_keys]] = improved_label\n",
    "\n",
    "\n",
    "LEGAL_FORM_URL = \"https://raw.githubusercontent.com/jsf80238/data_science/main/data_files/legal_form_codes.csv\"\n",
    "response = requests.get(LEGAL_FORM_URL)\n",
    "line_list = response.text.splitlines()\n",
    "\n",
    "legal_form_dict = dict()\n",
    "csvreader = csv.DictReader(line_list)\n",
    "label_for_keys, label_for_values = csvreader.fieldnames\n",
    "for row in csvreader:\n",
    "    nominal_label = row[label_for_values]\n",
    "    improved_label = reformat_column_name(nominal_label)\n",
    "    legal_form_dict[row[label_for_keys]] = improved_label\n"
   ]
  },
  {
   "cell_type": "code",
   "execution_count": null,
   "id": "fac87d7c-5f6f-462e-a3bf-db97a8374334",
   "metadata": {},
   "outputs": [],
   "source": [
    "for key, value in business_type_dict.items():\n",
    "    if \"-\" in key:\n",
    "        print(key, value)\n"
   ]
  },
  {
   "cell_type": "code",
   "execution_count": null,
   "id": "fae64a3b-c38c-46af-8333-7168cd01ebc7",
   "metadata": {},
   "outputs": [],
   "source": [
    "# Verify there are no rows with a code of 31, 32, 33, 44, 45, 48 or 49\n",
    "mask = (business_df[\"business_type\"].isin((31, 32, 33, 44, 45, 48, 49)))\n",
    "business_df[mask].shape"
   ]
  },
  {
   "cell_type": "markdown",
   "id": "f9aaec98-fd35-4780-8f5a-6c8e90551dec",
   "metadata": {},
   "source": [
    "There are none.\n",
    "\n",
    "### Keep only the useful business type rows\n",
    "The Census data contains rows for multiple levels, some of which are summaries of levels below, for example:\n",
    "| Code | Name |\n",
    "| --- | --- |\n",
    "| 11 | Agriculture, Forestry, Fishing and Hunting |\n",
    "| 111 | Crop Production |\n",
    "| 1111 | Oilseed and Grain Farming |\n",
    "| 11111 | Soybean Farming |\n",
    "| 111110 | Soybean Farming |\n",
    "| 11112 | Oilseed (except Soybean) Farming |\n",
    "| 111120 | Oilseed (except Soybean) Farming |\n",
    "| 11113 | Dry Pea and Bean Farming |\n",
    "| 111130 | Dry Pea and Bean Farming |\n",
    "| ... | ... |\n",
    "| 115210 | Support Activities for Animal Production |\n",
    "| 1153 | Support Activities for Forestry |\n",
    "| 11531 | Support Activities for Forestry |\n",
    "| 115310 | Support Activities for Forestry |\n",
    "| 21 | Mining |  Quarrying |  and Oil and Gas Extraction |\n",
    "| 211 | Oil and Gas Extraction |\n",
    "| 2111 | Oil and Gas Extraction |\n",
    "| 21112 | Crude Petroleum Extraction  |\n",
    "\n",
    "Although somewhat arbitrary, the 2-digit codes make the most sense to me.\n",
    "\n",
    "And we need to include codes with dashes, because those will be treated as two-digit codes."
   ]
  },
  {
   "cell_type": "code",
   "execution_count": null,
   "id": "bf6b4067-13c0-4e85-9dd0-2a5c5ffb0a1f",
   "metadata": {},
   "outputs": [],
   "source": [
    "mask = (business_df[\"business_type\"].str.len() == 2) | (business_df[\"business_type\"].str.contains(\"-\"))\n",
    "business_df = business_df[mask]\n",
    "print(business_df.shape)\n",
    "business_df.head(2)"
   ]
  },
  {
   "cell_type": "markdown",
   "id": "34b56c53-afda-4a41-87e2-51c24ceecfd8",
   "metadata": {},
   "source": [
    "#### Check for duplicates"
   ]
  },
  {
   "cell_type": "code",
   "execution_count": null,
   "id": "a3693149-7c76-4701-843f-0fbafacb66e8",
   "metadata": {},
   "outputs": [],
   "source": [
    "mask = business_df[[\"state_key\", \"business_type\", \"legal_form\"]].duplicated()\n",
    "business_df[mask]"
   ]
  },
  {
   "cell_type": "markdown",
   "id": "36053b95-9b49-4f30-8988-33f8de39e3ab",
   "metadata": {},
   "source": [
    "### Check for holes\n",
    "Verify this data does not have holes, meaning verify every combination of legal_form/business_type exists for every state.\n",
    "\n",
    "If something is missing, add it with np.nan for the establishment_count and revenue."
   ]
  },
  {
   "cell_type": "code",
   "execution_count": null,
   "id": "b978c0a1-4e00-4944-9d36-bc7b1546a09e",
   "metadata": {},
   "outputs": [],
   "source": [
    "state_list = business_df[\"state_key\"].unique()\n",
    "legal_form_list = business_df[\"legal_form\"].unique()\n",
    "business_type_list = business_df[\"business_type\"].unique()\n",
    "wanted_combinations_set = set(itertools.product(state_list, legal_form_list, business_type_list))\n",
    "print(f\"{len(wanted_combinations_set):,} possible combinations, for example:\")\n",
    "for i, item in enumerate(wanted_combinations_set):\n",
    "    print(item)\n",
    "    if i > 10:\n",
    "        break\n"
   ]
  },
  {
   "cell_type": "code",
   "execution_count": null,
   "id": "10a5f7e1-2612-4c98-8e39-ef9b8dedc639",
   "metadata": {},
   "outputs": [],
   "source": [
    "existing_combinations_set = set()\n",
    "for item in business_df[[\"state_key\", \"legal_form\", \"business_type\"]].to_records(index=False):\n",
    "    existing_combinations_set.add(tuple(item))\n",
    "print(f\"{len(existing_combinations_set):,} existing combinations, for example:\")\n",
    "for i, item in enumerate(existing_combinations_set):\n",
    "    print(item)\n",
    "    if i > 10:\n",
    "        break"
   ]
  },
  {
   "cell_type": "code",
   "execution_count": null,
   "id": "0028b38e-6cd7-4ef9-b15f-28344d628305",
   "metadata": {},
   "outputs": [],
   "source": [
    "missing_combinations_set = wanted_combinations_set - existing_combinations_set\n",
    "print(f\"{len(missing_combinations_set):,} missing combinations, for example:\")\n",
    "for i, item in enumerate(missing_combinations_set):\n",
    "    print(item)\n",
    "    if i > 10:\n",
    "        break"
   ]
  },
  {
   "cell_type": "code",
   "execution_count": null,
   "id": "97634e1c-7d73-44ce-b438-577ebf0033ef",
   "metadata": {},
   "outputs": [],
   "source": [
    "missing_data = [list(combo) + [np.nan, np.nan] for combo in missing_combinations_set]\n",
    "missing_data[:10]"
   ]
  },
  {
   "cell_type": "code",
   "execution_count": null,
   "id": "b7df6cda-1534-4f8d-a65a-4a85a7cd66e9",
   "metadata": {},
   "outputs": [],
   "source": [
    "missing_df = pd.DataFrame.from_records(missing_data)\n",
    "missing_df.columns = [\"state_key\", \"legal_form\", \"business_type\", \"establishment_count\", \"revenue_in_thousands\"]\n",
    "missing_df"
   ]
  },
  {
   "cell_type": "code",
   "execution_count": null,
   "id": "5961ab27-970b-4c33-9e36-75b28ecd94a9",
   "metadata": {},
   "outputs": [],
   "source": [
    "business_df = pd.concat([business_df, missing_df], ignore_index=True)\n",
    "business_df"
   ]
  },
  {
   "cell_type": "markdown",
   "id": "ace7e194-555a-46d4-87fe-56d0f6d25d30",
   "metadata": {},
   "source": [
    "### Merge cause of death data with business data"
   ]
  },
  {
   "cell_type": "code",
   "execution_count": null,
   "id": "56180cd8-0940-4df4-8b3b-79c646de90f0",
   "metadata": {},
   "outputs": [],
   "source": [
    "df = df.merge(business_df, on=\"state_key\", how=\"inner\")\n",
    "print(f\"{df.shape[0]:,} rows\")\n",
    "df.head(2)"
   ]
  },
  {
   "cell_type": "markdown",
   "id": "7836597a-5e3c-4040-bce3-cd4188525a31",
   "metadata": {},
   "source": [
    "### Adjust for population\n",
    "We would expect the number of establishments and revenue to be higher in more populous states.\n",
    "\n",
    "Adjust."
   ]
  },
  {
   "cell_type": "code",
   "execution_count": null,
   "id": "7fad123f-14fd-48a0-9eb5-af000724a15d",
   "metadata": {
    "scrolled": true
   },
   "outputs": [],
   "source": [
    "df[\"establishments_per_person\"] = df[\"establishment_count\"] / df[\"population\"]\n",
    "df[\"revenue_per_person\"] = df[\"revenue_in_thousands\"] * 1000 / df[\"population\"]\n",
    "df[\"revenue_per_establishment\"] = df[\"revenue_in_thousands\"] * 1000 / df[\"establishment_count\"]\n",
    "print(f\"{df.shape[0]:,} rows\")\n",
    "df.head(2)"
   ]
  },
  {
   "cell_type": "markdown",
   "id": "8352500d-ff27-44cf-81d8-87783278ec59",
   "metadata": {},
   "source": [
    "### Census codes\n",
    "Up to now we've been using the census codes for\n",
    "* business_type (e.g. '111' is \"Crop Production\") ... a/k/a NAIC code\n",
    "* legal_form (e.g. '920' is \"Individual Proprietor\")\n",
    "\n",
    "Convert these to the human-readable label."
   ]
  },
  {
   "cell_type": "code",
   "execution_count": null,
   "id": "6895e538-8d73-44f4-84c2-a2ff1faedbf2",
   "metadata": {},
   "outputs": [],
   "source": [
    "df[\"legal_form\"] = df[\"legal_form\"].apply(lambda x: legal_form_dict.get(x))\n",
    "print(f\"{df.shape[0]:,} rows\")\n",
    "\n",
    "df[\"business_type\"] = df[\"business_type\"].apply(lambda x: business_type_dict.get(x))\n",
    "print(f\"{df.shape[0]:,} rows\")\n",
    "\n",
    "df.head(2)"
   ]
  },
  {
   "cell_type": "markdown",
   "id": "fd6feb41-910c-41f5-b3eb-7ac757dca6a2",
   "metadata": {},
   "source": [
    "### More cleanup\n",
    "* Scale numeric features.\n",
    "* Convert legal_form and business_type to Pandas categories.\n",
    "* Encode the categorical data to 0/1:\n",
    "  * Legal form\n",
    "  * Business type\n",
    "  * Population\n",
    "  * Establishments\n",
    "  * Revenue\n"
   ]
  },
  {
   "cell_type": "markdown",
   "id": "ad9029f7-9d23-4830-b82e-f0b2ced0a4ab",
   "metadata": {},
   "source": [
    "#### Scaling\n",
    "See https://www.simplilearn.com/normalization-vs-standardization-article.\n",
    "* Normalization: centered on 0 with standard deviation of 1 (and no effect on outliers).\n",
    "* Standardization: lowest/highest values become 0 and 1."
   ]
  },
  {
   "cell_type": "code",
   "execution_count": null,
   "id": "8531d372-d5e4-4a44-aa91-0c4061f47236",
   "metadata": {},
   "outputs": [],
   "source": [
    "scaling_df = pd.DataFrame()\n",
    "\n",
    "numeric_column_list = df.select_dtypes(include=[\"float64\", \"int64\"]).columns\n",
    "to_be_scaled_column_list = [x for x in numeric_column_list if not x.startswith(\"death\")]\n",
    "for column_name in to_be_scaled_column_list:\n",
    "        scaling_df[column_name] = df[column_name].copy()\n",
    "\n",
    "scaler = MinMaxScaler()\n",
    "scaling_df = pd.DataFrame(scaler.fit_transform(scaling_df), columns=to_be_scaled_column_list)\n",
    "\n",
    "scaling_df"
   ]
  },
  {
   "cell_type": "markdown",
   "id": "7446d9ec-d81b-45fa-bb2e-3626347c33e4",
   "metadata": {},
   "source": [
    "#### Add scaled columns to master dataframe"
   ]
  },
  {
   "cell_type": "code",
   "execution_count": null,
   "id": "f9d6f689-03bb-455b-bcfa-0c48097fe124",
   "metadata": {},
   "outputs": [],
   "source": [
    "df = df.merge(scaling_df, left_index=True, right_index=True, suffixes=(None, \"_scaled\"))\n",
    "print(f\"{df.shape[0]:,} rows\")\n",
    "df.head(2)"
   ]
  },
  {
   "cell_type": "markdown",
   "id": "352a7a01-b2cd-4fd9-8bde-fc5894fdb9c6",
   "metadata": {},
   "source": [
    "#### Categorization"
   ]
  },
  {
   "cell_type": "raw",
   "id": "2213f0b7-e007-49ff-ace5-eb5e5c5c928d",
   "metadata": {},
   "source": [
    "df[\"legal_form\"] = df[\"legal_form\"].astype(\"category\")\n",
    "df[\"business_type\"] = df[\"business_type\"].astype(\"category\")\n",
    "print(f\"{df.shape[0]:,} rows\")\n",
    "df.head(2)"
   ]
  },
  {
   "cell_type": "markdown",
   "id": "0dd72a2a-5f0b-4360-bf96-ac381dcf12f6",
   "metadata": {},
   "source": [
    "### Create revenue and establishments by legal form and business type\n",
    "For example, suppose we have a row with these values:\n",
    "* `establishments_per_person_scaled` = 0.123\n",
    "* `revenue_per_establishment_scaled` = 0.456\n",
    "* `legal_form` = 'c_corp'\n",
    "* `business_type` = 'chemical_manufacturing'\n",
    "\n",
    "That row will be updated to contain for example these columns (and many more columns for the many different legal forms and business types:\n",
    "| air_transportation_</br>establishments_</br>per_person | air_transportation_</br>revenue_per_</br>establishment | chemical_manufacturing_</br>establishments_</br>per_person | chemical_manufacturing_</br>revenue_per_</br>establishment | gasoline_stations_</br>establishments_</br>per_person | gasoline_stations_</br>revenue_per_</br>establishment | c_corp_</br>establishments_</br>per_person | c_corp_</br>revenue_per_</br>establishment | partnership_</br>establishments_</br>per_person | partnership_</br>revenue_per_</br>establishment | \n",
    "| - | - | - | - | - | - | - | - | - | - |\n",
    "| 0 | 0 | 0.123 | 0.456 | 0 | 0 | 0.123 | 0.456 | 0 | 0 |"
   ]
  },
  {
   "cell_type": "code",
   "execution_count": null,
   "id": "e4929edf-8083-4e56-9e97-1f3a5ac1f964",
   "metadata": {
    "scrolled": true
   },
   "outputs": [],
   "source": [
    "df = pd.get_dummies(df, columns=[\"legal_form\", \"business_type\"], dtype=int)\n",
    "df.head(2)"
   ]
  },
  {
   "cell_type": "markdown",
   "id": "41983a12-2eb7-40f3-a166-63c7435d3b23",
   "metadata": {},
   "source": [
    "#### Add columns"
   ]
  },
  {
   "cell_type": "code",
   "execution_count": null,
   "id": "869e6b11-810f-4111-b428-4ef0461501ff",
   "metadata": {},
   "outputs": [],
   "source": [
    "establishments_per_person = \"establishments_per_person\"\n",
    "revenue_per_establishment = \"revenue_per_establishment\"\n",
    "business_type = \"business_type\"\n",
    "legal_form = \"legal_form\"\n",
    "scaled = \"scaled\"\n",
    "\n",
    "column_list = list(df.columns)\n",
    "legal_form_list = [x for x in column_list if x.startswith(legal_form)]\n",
    "business_type_list = [x for x in column_list if x.startswith(business_type)]"
   ]
  },
  {
   "cell_type": "code",
   "execution_count": null,
   "id": "f6b15a63-d0a8-4af6-971f-cbe87c873b73",
   "metadata": {},
   "outputs": [],
   "source": [
    "for item in legal_form_list:\n",
    "    establishments_column_name = item + \"_\" + establishments_per_person\n",
    "    df[establishments_column_name] = df[establishments_per_person + \"_\" + scaled] * df[item]\n",
    "    revenue_column_name = item + \"_\" + revenue_per_establishment\n",
    "    df[revenue_column_name] = df[revenue_per_establishment + \"_\" + scaled] * df[item]"
   ]
  },
  {
   "cell_type": "code",
   "execution_count": null,
   "id": "d37a1eb6-e224-4337-bddd-79fca51223c6",
   "metadata": {},
   "outputs": [],
   "source": [
    "for item in business_type_list:\n",
    "    establishments_column_name = item + \"_\" + establishments_per_person\n",
    "    df[establishments_column_name] = df[establishments_per_person + \"_\" + scaled] * df[item]\n",
    "    revenue_column_name = item + \"_\" + revenue_per_establishment\n",
    "    df[revenue_column_name] = df[revenue_per_establishment + \"_\" + scaled] * df[item]"
   ]
  },
  {
   "cell_type": "markdown",
   "id": "d9cdf2e6-b244-409e-99a4-38eae1c6029f",
   "metadata": {},
   "source": [
    "#### Performance warning & cleanup\n",
    "We'll take care of the `PerformanceWarning: DataFrame is highly fragmented.` warning in a bit. See https://stackoverflow.com/questions/68292862/performancewarning-dataframe-is-highly-fragmented-this-is-usually-the-result-o.\n",
    "\n",
    "In the meantime, we no longer need the \"dummies\" columns, for example:\n",
    "* legal_form_s_corp\n",
    "* business_type_accommodation"
   ]
  },
  {
   "cell_type": "code",
   "execution_count": null,
   "id": "4b9fefc4-5f1c-4cd8-a41c-46bcb8e1b9c6",
   "metadata": {},
   "outputs": [],
   "source": [
    "columns_to_drop_list = list()\n",
    "for column_name in df.columns:\n",
    "    if column_name.startswith(legal_form) or column_name.startswith(business_type):\n",
    "        if not column_name.endswith(establishments_per_person) and not column_name.endswith(revenue_per_establishment):\n",
    "            columns_to_drop_list.append(column_name)\n",
    "df.drop(columns=columns_to_drop_list, inplace=True)\n",
    "print(df.info())\n",
    "df.head(2)"
   ]
  },
  {
   "cell_type": "code",
   "execution_count": null,
   "id": "f661df37-8151-4c95-8311-9dd47b61542c",
   "metadata": {},
   "outputs": [],
   "source": [
    "# Address performance warning\n",
    "temp_df = df.copy()\n",
    "df = temp_df.copy()\n",
    "del(temp_df)\n",
    "print(f\"{df.shape[0]:,} rows\")\n",
    "df.head(2)"
   ]
  },
  {
   "cell_type": "code",
   "execution_count": null,
   "id": "11c8fdc2-d4e9-4aa8-91ed-6699c6b07719",
   "metadata": {},
   "outputs": [],
   "source": []
  },
  {
   "cell_type": "code",
   "execution_count": null,
   "id": "8f0b1aa3-d312-4406-aa48-92e60145395b",
   "metadata": {},
   "outputs": [],
   "source": [
    "drop_column_list = [\n",
    "    \"state_name\",\n",
    "    \"population\",\n",
    "    \"establishments_per_person\",\n",
    "    \"revenue_per_establishment\",\n",
    "]\n",
    "temp_df = df.copy()\n",
    "temp_df.drop(columns=drop_column_list, inplace=True)\n",
    "lin_reg_df = temp_df.groupby([\"cause\", \"population\", \"death_rate\", \"death_rate_normalized\"]).sum().reset_index()\n",
    "lin_reg_df"
   ]
  },
  {
   "cell_type": "markdown",
   "id": "5345aba5-0d8f-4f2d-be93-c979dbadcf89",
   "metadata": {},
   "source": [
    "### Create different frames for each cause of death\n",
    "The features leading to a higher death rate might be different based on cause of death.\n",
    "\n",
    "We will analyze each separately."
   ]
  },
  {
   "cell_type": "code",
   "execution_count": null,
   "id": "cc8725f7-552c-4a53-8d3e-cdd26690ecdc",
   "metadata": {
    "scrolled": true
   },
   "outputs": [],
   "source": [
    "frames_by_cause_dict = dict()\n",
    "for cause_name in lin_reg_df[\"cause\"].unique():\n",
    "    mask = (lin_reg_df[\"cause\"] == cause_name)\n",
    "    new_df = lin_reg_df[mask].copy()\n",
    "    new_df.drop(columns=[\"cause\"], inplace=True)\n",
    "    frames_by_cause_dict[cause_name] = new_df\n",
    "\n",
    "frames_by_cause_dict[\"Heart disease\"]"
   ]
  },
  {
   "cell_type": "markdown",
   "id": "c6dfa0bb-f4e4-4cbf-8fa8-cf911a566fba",
   "metadata": {},
   "source": [
    "## Linear regression\n",
    "The requirements for linear regression are:\n",
    "* The observations must be independent.\n",
    "  * We're going to assume they were.\n",
    "* Continuous predictors are linearly related to the outcome (linearity).\n",
    "  * We'll find out.\n",
    "* There should be little multicollinearity among independent variables."
   ]
  },
  {
   "cell_type": "markdown",
   "id": "6634b34f-646b-4ac5-b214-2dab66f41a56",
   "metadata": {},
   "source": [
    "#### Multicollinearity\n",
    "Collinearity among indepedent variables is fatal for regression models and not helpful for other models."
   ]
  },
  {
   "cell_type": "code",
   "execution_count": null,
   "id": "7825e30a-86c7-4c83-96ad-964216525459",
   "metadata": {},
   "outputs": [],
   "source": [
    "def is_feature(column_name: str) -> bool:\n",
    "    if column_name.startswith(legal_form):\n",
    "        return True\n",
    "    if column_name.startswith(business_type):\n",
    "        return True\n",
    "    return False\n",
    "\n",
    "def get_non_collinear_features(\n",
    "    frame: pd.DataFrame,\n",
    "    feature_list: list,\n",
    "    threshold: int\n",
    "    ) -> list:\n",
    "    while True:\n",
    "        is_pair_found = False\n",
    "        X = frame[feature_list]\n",
    "        correlation_matrix = X.corr()\n",
    "    \n",
    "        candidate_pair_list = list()\n",
    "        for row in correlation_matrix.itertuples():\n",
    "            row_dict = row._asdict().copy()\n",
    "            a = row_dict.pop(\"Index\")\n",
    "            for key, value in row_dict.items():\n",
    "                if key == a:\n",
    "                    continue  # This is the match with itself with a correlation of 1.0, ignore it\n",
    "                if value > threshold:\n",
    "                    candidate_pair_list.append((a, key))\n",
    "    \n",
    "        counter = collections.Counter()\n",
    "        for column_a, column_b in candidate_pair_list:\n",
    "            is_pair_found = True\n",
    "            counter[column_a] += 1\n",
    "            counter[column_b] += 1\n",
    "    \n",
    "        if is_pair_found:\n",
    "            most_common_column = counter.most_common(1)[0][0]\n",
    "            feature_list.remove(most_common_column)\n",
    "            print(f\"Removed column {most_common_column}.\")\n",
    "        else:\n",
    "            break\n",
    "\n",
    "    return feature_list\n"
   ]
  },
  {
   "cell_type": "markdown",
   "id": "405d2ed4-7554-46d3-9f6f-c53bb80649d1",
   "metadata": {},
   "source": [
    "### Heart Disease\n",
    "Let's see if we can find factors which predict the death rate from heart disease."
   ]
  },
  {
   "cell_type": "code",
   "execution_count": null,
   "id": "b9f45eb4-cdfc-4941-84bd-a76673ea6370",
   "metadata": {},
   "outputs": [],
   "source": [
    "threshold = 0.6  # Set the threshold for collinearity\n",
    "\n",
    "heart_disease_df = frames_by_cause_dict[\"Heart disease\"]\n",
    "\n",
    "candidate_feature_list = [x for x in heart_disease_df.columns if is_feature(x)]\n",
    "non_collinear_feature_list = get_non_collinear_features(\n",
    "    frame=heart_disease_df,\n",
    "    feature_list=candidate_feature_list,\n",
    "    threshold=threshold,\n",
    ")\n",
    "heart_disease_df = heart_disease_df[[\"death_rate\"] + non_collinear_feature_list]\n",
    "correlation_matrix = heart_disease_df.corr()\n",
    "sns.heatmap(correlation_matrix, annot=True, cmap='coolwarm')"
   ]
  },
  {
   "cell_type": "code",
   "execution_count": null,
   "id": "f645bee9-c19a-4c35-8f1d-c1d8ee8dff1a",
   "metadata": {},
   "outputs": [],
   "source": [
    "# Now that we have removed collinearity ...\n",
    "\n",
    "X_column_list = list(heart_disease_df.columns)\n",
    "\n",
    "ols_formula = \"death_rate ~ \"\n",
    "ols_formula += \" + \".join(X_column_list)\n",
    "ordinary_least_square = ols(formula=ols_formula, data=heart_disease_df)\n",
    "ordinary_least_square.fit().summary()"
   ]
  },
  {
   "cell_type": "markdown",
   "id": "aed3b6a8-164c-42d8-b84a-fe680255b83e",
   "metadata": {},
   "source": [
    "### Overfitting/collinearity\n",
    "It looks like we are still somewhat collinear, and we are probably overfitting, let's choose the most promising (based on P-score) five features."
   ]
  },
  {
   "cell_type": "code",
   "execution_count": null,
   "id": "5b1e3deb-59ab-4730-8073-781815d59e45",
   "metadata": {},
   "outputs": [],
   "source": [
    "refined_column_list = [\n",
    "    \"business_type_agriculture_forestry_fishing_and_hunting_revenue_per_establishment\",\n",
    "    \"business_type_mining_quarrying_and_oil_and_gas_extraction_establishments_per_person\",\n",
    "    \"business_type_professional_scientific_and_technical_services_establishments_per_person\",\n",
    "    \"business_type_professional_scientific_and_technical_services_revenue_per_establishment\",\n",
    "    \"business_type_retail_trade_revenue_per_establishment\",\n",
    "]\n",
    "\n",
    "ols_formula = \"death_rate ~ \"\n",
    "ols_formula += \" + \".join(refined_column_list)\n",
    "ordinary_least_square = ols(formula=ols_formula, data=heart_disease_df)\n",
    "model = ordinary_least_square.fit()\n",
    "model.summary()"
   ]
  },
  {
   "cell_type": "markdown",
   "id": "e8db5d7f-0b40-415b-8390-f20812c04e6b",
   "metadata": {},
   "source": [
    "#### Impacts of the selected features"
   ]
  },
  {
   "cell_type": "code",
   "execution_count": null,
   "id": "5492493b-43e6-477a-80b6-13a5d8951155",
   "metadata": {
    "scrolled": true
   },
   "outputs": [],
   "source": [
    "fig, ax = plt.subplots(figsize=(6, 6))\n",
    "for feature in refined_column_list:\n",
    "    sns.regplot(x=feature, y=\"death_rate\", data=heart_disease_df, fit_reg=True, ci=None, ax=ax, label=feature)\n",
    "ax.set(ylabel='y', xlabel='x')\n",
    "ax.legend()"
   ]
  },
  {
   "cell_type": "markdown",
   "id": "29ee6f34-06e6-4fce-955b-56d074a954a6",
   "metadata": {},
   "source": [
    "<a id='heart_disease_linear_regression_conclusion'></a>\n",
    "#### Conclusions\n",
    "I'm going to ignore _business_type_mining_quarrying_and_oil_and_gas_extraction_establishments_per_person_ because the P value was pretty high.\n",
    "\n",
    "- Positive correlation with revenue per professional, scientific and technical services establishment.\n",
    "- Positive correlation with revenue per retail establishment.\n",
    "- Inverse correlation with the revenue per agriculture, forestry, fishing and hunting establishment.\n",
    "- Inverse correlation with the number of nonemployee professional, scientific and technical establishments per person\n",
    "\n",
    "In other words, move to a state with good revenue from professional/scientific/technical services and retail establishments, and maybe avoid states with more revenue from agriculture, forestry, fishing and hunting establishment establishments."
   ]
  },
  {
   "cell_type": "markdown",
   "id": "ddae57fa-87b4-4625-89a4-2ba4bda075e3",
   "metadata": {},
   "source": [
    "#### Verifying assumptions\n",
    "At the beginning we stated assumptions for linear regression, so let's check:\n",
    "* The residuals are at least somewhat normally distributed ...\n",
    "* Our assumption of homoscedasticity is solid"
   ]
  },
  {
   "cell_type": "code",
   "execution_count": null,
   "id": "8d2bcdbf-2016-4022-b281-6c0cdc80a494",
   "metadata": {},
   "outputs": [],
   "source": [
    "residuals = model.resid\n",
    "fig = sns.histplot(residuals)\n",
    "fig.set_xlabel(\"Residual Value\")"
   ]
  },
  {
   "cell_type": "code",
   "execution_count": null,
   "id": "1665bac7-cc76-43cb-82b0-25bfca8c38a3",
   "metadata": {},
   "outputs": [],
   "source": [
    "fig = qqplot(model.resid, line='s')\n",
    "plt.show()"
   ]
  },
  {
   "cell_type": "code",
   "execution_count": null,
   "id": "f04147d1-9ccd-406e-ba55-03cfbb963bcb",
   "metadata": {},
   "outputs": [],
   "source": [
    "fitted_values = model.predict(heart_disease_df)\n",
    "fig = sns.scatterplot(x=fitted_values, y=residuals)\n",
    "fig.axhline(0)  # Reference line\n",
    "\n",
    "fig.set_xlabel(\"Fitted Values\")\n",
    "fig.set_ylabel(\"Residuals\")\n",
    "fig.set_title(\"Homoscedasticity?\")\n",
    "\n",
    "plt.show()"
   ]
  },
  {
   "cell_type": "markdown",
   "id": "3bb46d3d-aa3f-4c2c-861a-1cc22016ee6c",
   "metadata": {},
   "source": [
    "## Bayes analysis"
   ]
  },
  {
   "cell_type": "markdown",
   "id": "e34fbdfb-5645-458b-80e0-75abe449bd30",
   "metadata": {},
   "source": [
    "### Categorization of data\n",
    "Let's make population, establishment_per_person and revenue_per_person categories\n",
    "\n",
    "Distribution plots will help us decide how to make the cuts."
   ]
  },
  {
   "cell_type": "code",
   "execution_count": null,
   "id": "9ea3b09a-a08a-490b-a3ba-411d49527d53",
   "metadata": {
    "scrolled": true
   },
   "outputs": [],
   "source": [
    "for column_name in \"population\", \"establishments_per_person\", \"revenue_per_establishment\":\n",
    "    number_of_observations = df[column_name].nunique()\n",
    "    # Rice's rule\n",
    "    suggested_bin_count = int(math.cbrt(number_of_observations)*2)\n",
    "    print(f\"{suggested_bin_count} for {column_name}.\")\n",
    "    df.hist(column=column_name, bins=suggested_bin_count, figsize=(6, 3))"
   ]
  },
  {
   "cell_type": "markdown",
   "id": "93d69991-d0f0-4600-b82a-173ccf1a4e12",
   "metadata": {},
   "source": [
    "### Binning conclusion\n",
    "Population: 7 cuts based on absolute population\n",
    "\n",
    "Establishments and revenue per establishment: 7 cuts with equal numbers of observations in each bin"
   ]
  },
  {
   "cell_type": "code",
   "execution_count": 227,
   "id": "beab8aba-5b03-485e-9d0f-3566d5623c28",
   "metadata": {},
   "outputs": [
    {
     "name": "stdout",
     "output_type": "stream",
     "text": [
      "population_bin\n",
      "xx-small    24480\n",
      "x-small      7920\n",
      "small        1440\n",
      "medium       1440\n",
      "x-large       720\n",
      "xx-large      720\n",
      "large           0\n",
      "Name: count, dtype: int64\n",
      "establishments_bin\n",
      "xx-small    5240\n",
      "x-small     5240\n",
      "medium      5240\n",
      "x-large     5240\n",
      "small       5230\n",
      "large       5230\n",
      "xx-large    5230\n",
      "Name: count, dtype: int64\n",
      "revenue_per_establishment_bin\n",
      "xx-small    5200\n",
      "small       5200\n",
      "large       5200\n",
      "x-small     5190\n",
      "medium      5190\n",
      "x-large     5190\n",
      "xx-large    5190\n",
      "Name: count, dtype: int64\n",
      "36,720 rows\n"
     ]
    },
    {
     "data": {
      "text/html": [
       "<div>\n",
       "<style scoped>\n",
       "    .dataframe tbody tr th:only-of-type {\n",
       "        vertical-align: middle;\n",
       "    }\n",
       "\n",
       "    .dataframe tbody tr th {\n",
       "        vertical-align: top;\n",
       "    }\n",
       "\n",
       "    .dataframe thead th {\n",
       "        text-align: right;\n",
       "    }\n",
       "</style>\n",
       "<table border=\"1\" class=\"dataframe\">\n",
       "  <thead>\n",
       "    <tr style=\"text-align: right;\">\n",
       "      <th></th>\n",
       "      <th>state_name</th>\n",
       "      <th>cause</th>\n",
       "      <th>death_rate</th>\n",
       "      <th>death_rate_normalized</th>\n",
       "      <th>population</th>\n",
       "      <th>state_key</th>\n",
       "      <th>legal_form</th>\n",
       "      <th>business_type</th>\n",
       "      <th>establishment_count</th>\n",
       "      <th>revenue_in_thousands</th>\n",
       "      <th>establishments_per_person</th>\n",
       "      <th>revenue_per_person</th>\n",
       "      <th>revenue_per_establishment</th>\n",
       "      <th>population_bin</th>\n",
       "      <th>establishments_bin</th>\n",
       "      <th>revenue_per_establishment_bin</th>\n",
       "    </tr>\n",
       "  </thead>\n",
       "  <tbody>\n",
       "    <tr>\n",
       "      <th>0</th>\n",
       "      <td>Alabama</td>\n",
       "      <td>Alzheimer's disease</td>\n",
       "      <td>35.2625</td>\n",
       "      <td>0.038138</td>\n",
       "      <td>4903185</td>\n",
       "      <td>1</td>\n",
       "      <td>9101</td>\n",
       "      <td>11</td>\n",
       "      <td>30.0</td>\n",
       "      <td>4246.0</td>\n",
       "      <td>0.000006</td>\n",
       "      <td>0.865968</td>\n",
       "      <td>141533.333333</td>\n",
       "      <td>xx-small</td>\n",
       "      <td>xx-small</td>\n",
       "      <td>x-large</td>\n",
       "    </tr>\n",
       "    <tr>\n",
       "      <th>1</th>\n",
       "      <td>Alabama</td>\n",
       "      <td>Alzheimer's disease</td>\n",
       "      <td>35.2625</td>\n",
       "      <td>0.038138</td>\n",
       "      <td>4903185</td>\n",
       "      <td>1</td>\n",
       "      <td>9111</td>\n",
       "      <td>11</td>\n",
       "      <td>146.0</td>\n",
       "      <td>27390.0</td>\n",
       "      <td>0.000030</td>\n",
       "      <td>5.586165</td>\n",
       "      <td>187602.739726</td>\n",
       "      <td>xx-small</td>\n",
       "      <td>x-small</td>\n",
       "      <td>xx-large</td>\n",
       "    </tr>\n",
       "  </tbody>\n",
       "</table>\n",
       "</div>"
      ],
      "text/plain": [
       "  state_name                cause  death_rate  death_rate_normalized  \\\n",
       "0    Alabama  Alzheimer's disease     35.2625               0.038138   \n",
       "1    Alabama  Alzheimer's disease     35.2625               0.038138   \n",
       "\n",
       "   population  state_key legal_form business_type  establishment_count  \\\n",
       "0     4903185          1       9101            11                 30.0   \n",
       "1     4903185          1       9111            11                146.0   \n",
       "\n",
       "   revenue_in_thousands  establishments_per_person  revenue_per_person  \\\n",
       "0                4246.0                   0.000006            0.865968   \n",
       "1               27390.0                   0.000030            5.586165   \n",
       "\n",
       "   revenue_per_establishment population_bin establishments_bin  \\\n",
       "0              141533.333333       xx-small           xx-small   \n",
       "1              187602.739726       xx-small            x-small   \n",
       "\n",
       "  revenue_per_establishment_bin  \n",
       "0                       x-large  \n",
       "1                      xx-large  "
      ]
     },
     "execution_count": 227,
     "metadata": {},
     "output_type": "execute_result"
    }
   ],
   "source": [
    "XXSMALL = \"xx-small\"\n",
    "XSMALL = \"x-small\"\n",
    "SMALL = \"small\"\n",
    "MEDIUM = \"medium\"\n",
    "LARGE = \"large\"\n",
    "XLARGE = \"x-large\"\n",
    "XXLARGE = \"xx-large\"\n",
    "\n",
    "df[\"population_bin\"] = pd.cut(df[\"population\"], 7, labels=[XXSMALL, XSMALL, SMALL, MEDIUM, LARGE, XLARGE, XXLARGE])\n",
    "df[\"establishments_bin\"] = pd.qcut(df[\"establishments_per_person\"], 7, labels=[XXSMALL, XSMALL, SMALL, MEDIUM, LARGE, XLARGE, XXLARGE])\n",
    "df[\"revenue_per_establishment_bin\"] = pd.qcut(df[\"revenue_per_establishment\"], 7, labels=[XXSMALL, XSMALL, SMALL, MEDIUM, LARGE, XLARGE, XXLARGE])\n",
    "\n",
    "for column_name in \"population_bin\", \"establishments_bin\", \"revenue_per_establishment_bin\":\n",
    "    print(df[column_name].value_counts())\n",
    "\n",
    "print(f\"{df.shape[0]:,} rows\")\n",
    "df.head(2)"
   ]
  },
  {
   "cell_type": "markdown",
   "id": "697d1e43-3c23-48ce-aaa2-a0ba21738893",
   "metadata": {},
   "source": [
    "### Set establishments and revenue to 0/XXSMALL where currently NaN\n",
    "These did not exist at all in the original data, meaning their true value is zero and  XXSMALL is a good bin/category.\n",
    "\n",
    "Also, delete no-longer-needed columns."
   ]
  },
  {
   "cell_type": "code",
   "execution_count": 228,
   "id": "8d74aaa7-8bf0-4944-83d5-d3bd1300973d",
   "metadata": {},
   "outputs": [
    {
     "name": "stdout",
     "output_type": "stream",
     "text": [
      "36,720 rows\n"
     ]
    },
    {
     "data": {
      "text/html": [
       "<div>\n",
       "<style scoped>\n",
       "    .dataframe tbody tr th:only-of-type {\n",
       "        vertical-align: middle;\n",
       "    }\n",
       "\n",
       "    .dataframe tbody tr th {\n",
       "        vertical-align: top;\n",
       "    }\n",
       "\n",
       "    .dataframe thead th {\n",
       "        text-align: right;\n",
       "    }\n",
       "</style>\n",
       "<table border=\"1\" class=\"dataframe\">\n",
       "  <thead>\n",
       "    <tr style=\"text-align: right;\">\n",
       "      <th></th>\n",
       "      <th>cause</th>\n",
       "      <th>death_rate</th>\n",
       "      <th>death_rate_normalized</th>\n",
       "      <th>population</th>\n",
       "      <th>legal_form</th>\n",
       "      <th>business_type</th>\n",
       "      <th>revenue_in_thousands</th>\n",
       "      <th>establishments_per_person</th>\n",
       "      <th>revenue_per_person</th>\n",
       "      <th>revenue_per_establishment</th>\n",
       "      <th>population_bin</th>\n",
       "      <th>establishments_bin</th>\n",
       "      <th>revenue_per_establishment_bin</th>\n",
       "    </tr>\n",
       "  </thead>\n",
       "  <tbody>\n",
       "    <tr>\n",
       "      <th>0</th>\n",
       "      <td>Alzheimer's disease</td>\n",
       "      <td>35.2625</td>\n",
       "      <td>0.038138</td>\n",
       "      <td>4903185</td>\n",
       "      <td>9101</td>\n",
       "      <td>11</td>\n",
       "      <td>4246.0</td>\n",
       "      <td>0.000006</td>\n",
       "      <td>0.865968</td>\n",
       "      <td>141533.333333</td>\n",
       "      <td>xx-small</td>\n",
       "      <td>xx-small</td>\n",
       "      <td>x-large</td>\n",
       "    </tr>\n",
       "    <tr>\n",
       "      <th>1</th>\n",
       "      <td>Alzheimer's disease</td>\n",
       "      <td>35.2625</td>\n",
       "      <td>0.038138</td>\n",
       "      <td>4903185</td>\n",
       "      <td>9111</td>\n",
       "      <td>11</td>\n",
       "      <td>27390.0</td>\n",
       "      <td>0.000030</td>\n",
       "      <td>5.586165</td>\n",
       "      <td>187602.739726</td>\n",
       "      <td>xx-small</td>\n",
       "      <td>x-small</td>\n",
       "      <td>xx-large</td>\n",
       "    </tr>\n",
       "  </tbody>\n",
       "</table>\n",
       "</div>"
      ],
      "text/plain": [
       "                 cause  death_rate  death_rate_normalized  population  \\\n",
       "0  Alzheimer's disease     35.2625               0.038138     4903185   \n",
       "1  Alzheimer's disease     35.2625               0.038138     4903185   \n",
       "\n",
       "  legal_form business_type  revenue_in_thousands  establishments_per_person  \\\n",
       "0       9101            11                4246.0                   0.000006   \n",
       "1       9111            11               27390.0                   0.000030   \n",
       "\n",
       "   revenue_per_person  revenue_per_establishment population_bin  \\\n",
       "0            0.865968              141533.333333       xx-small   \n",
       "1            5.586165              187602.739726       xx-small   \n",
       "\n",
       "  establishments_bin revenue_per_establishment_bin  \n",
       "0           xx-small                       x-large  \n",
       "1            x-small                      xx-large  "
      ]
     },
     "execution_count": 228,
     "metadata": {},
     "output_type": "execute_result"
    }
   ],
   "source": [
    "df[\"establishments_bin\"] = df[\"establishments_bin\"].fillna(XXSMALL)\n",
    "df[\"revenue_per_establishment_bin\"] = df[\"revenue_per_establishment_bin\"].fillna(XXSMALL)\n",
    "df[\"revenue_per_establishment\"] = df[\"revenue_per_establishment\"].fillna(0)\n",
    "df[\"establishments_per_person\"] = df[\"establishments_per_person\"].fillna(0)\n",
    "\n",
    "df.drop(columns=[\"state_key\", \"state_name\", \"establishment_count\"], inplace=True)\n",
    "\n",
    "print(f\"{df.shape[0]:,} rows\")\n",
    "df.head(2)"
   ]
  },
  {
   "cell_type": "markdown",
   "id": "9ef60b72-fadd-4693-b306-23f41fd9a68c",
   "metadata": {},
   "source": [
    "### Categorize death rates\n",
    "We need to do this for each cause of death, because they are not really comparable to each other."
   ]
  },
  {
   "cell_type": "code",
   "execution_count": 229,
   "id": "831e98b3-ad1f-462d-8c49-8e4442387de8",
   "metadata": {},
   "outputs": [
    {
     "name": "stdout",
     "output_type": "stream",
     "text": [
      "7 for Alzheimer's disease.\n",
      "7 for CLRD.\n",
      "7 for Cancer.\n",
      "7 for Diabetes.\n",
      "7 for Heart disease.\n",
      "7 for Influenza and pneumonia.\n",
      "7 for Kidney disease.\n",
      "7 for Stroke.\n",
      "7 for Suicide.\n",
      "7 for Unintentional injuries.\n"
     ]
    },
    {
     "data": {
      "image/png": "[encoded data removed]",
      "text/plain": [
       "<Figure size 600x300 with 1 Axes>"
      ]
     },
     "metadata": {},
     "output_type": "display_data"
    }
   ],
   "source": [
    "for cause_name in df[\"cause\"].unique():\n",
    "    mask = (df[\"cause\"] == cause_name)\n",
    "    number_of_observations = df[mask][\"death_rate\"].nunique()\n",
    "    # Rice's rule\n",
    "    suggested_bin_count = int(math.cbrt(number_of_observations)*2)\n",
    "    print(f\"{suggested_bin_count} for {cause_name}.\")\n",
    "    df[mask][\"death_rate\"].hist(bins=suggested_bin_count, figsize=(6, 3))"
   ]
  },
  {
   "cell_type": "code",
   "execution_count": 230,
   "id": "85cc865b-aaa2-4af7-9088-aac1d9fc1910",
   "metadata": {
    "scrolled": true
   },
   "outputs": [
    {
     "data": {
      "text/plain": [
       "(36720,)"
      ]
     },
     "execution_count": 230,
     "metadata": {},
     "output_type": "execute_result"
    }
   ],
   "source": [
    "try:\n",
    "    df.drop(columns=[\"death_rate_bin\"], inplace=True)\n",
    "except KeyError:\n",
    "    pass\n",
    "\n",
    "all_labels_df = pd.DataFrame()\n",
    "\n",
    "for cause_name in df[\"cause\"].unique():\n",
    "    mask = (df[\"cause\"] == cause_name)\n",
    "    cause_labels = pd.qcut(df[mask][\"death_rate\"], 7, labels=[XXSMALL, XSMALL, SMALL, MEDIUM, LARGE, XLARGE, XXLARGE])\n",
    "    if all_labels_df.size:\n",
    "        all_labels_df = pd.concat([all_labels_df, cause_labels])\n",
    "    else:\n",
    "        all_labels_df = cause_labels\n",
    "\n",
    "all_labels_df.shape"
   ]
  },
  {
   "cell_type": "code",
   "execution_count": 231,
   "id": "bdeabc00-1542-458c-959e-d9c005a6071a",
   "metadata": {},
   "outputs": [
    {
     "name": "stdout",
     "output_type": "stream",
     "text": [
      "death_rate_bin\n",
      "xx-small    5760\n",
      "medium      5760\n",
      "x-small     5040\n",
      "small       5040\n",
      "large       5040\n",
      "x-large     5040\n",
      "xx-large    5040\n",
      "Name: count, dtype: int64\n",
      "36,720 rows\n"
     ]
    },
    {
     "data": {
      "text/html": [
       "<div>\n",
       "<style scoped>\n",
       "    .dataframe tbody tr th:only-of-type {\n",
       "        vertical-align: middle;\n",
       "    }\n",
       "\n",
       "    .dataframe tbody tr th {\n",
       "        vertical-align: top;\n",
       "    }\n",
       "\n",
       "    .dataframe thead th {\n",
       "        text-align: right;\n",
       "    }\n",
       "</style>\n",
       "<table border=\"1\" class=\"dataframe\">\n",
       "  <thead>\n",
       "    <tr style=\"text-align: right;\">\n",
       "      <th></th>\n",
       "      <th>cause</th>\n",
       "      <th>death_rate</th>\n",
       "      <th>death_rate_normalized</th>\n",
       "      <th>population</th>\n",
       "      <th>legal_form</th>\n",
       "      <th>business_type</th>\n",
       "      <th>revenue_in_thousands</th>\n",
       "      <th>establishments_per_person</th>\n",
       "      <th>revenue_per_person</th>\n",
       "      <th>revenue_per_establishment</th>\n",
       "      <th>population_bin</th>\n",
       "      <th>establishments_bin</th>\n",
       "      <th>revenue_per_establishment_bin</th>\n",
       "      <th>death_rate_bin</th>\n",
       "    </tr>\n",
       "  </thead>\n",
       "  <tbody>\n",
       "    <tr>\n",
       "      <th>0</th>\n",
       "      <td>Alzheimer's disease</td>\n",
       "      <td>35.2625</td>\n",
       "      <td>0.038138</td>\n",
       "      <td>4903185</td>\n",
       "      <td>9101</td>\n",
       "      <td>11</td>\n",
       "      <td>4246.0</td>\n",
       "      <td>0.000006</td>\n",
       "      <td>0.865968</td>\n",
       "      <td>141533.333333</td>\n",
       "      <td>xx-small</td>\n",
       "      <td>xx-small</td>\n",
       "      <td>x-large</td>\n",
       "      <td>x-large</td>\n",
       "    </tr>\n",
       "    <tr>\n",
       "      <th>1</th>\n",
       "      <td>Alzheimer's disease</td>\n",
       "      <td>35.2625</td>\n",
       "      <td>0.038138</td>\n",
       "      <td>4903185</td>\n",
       "      <td>9111</td>\n",
       "      <td>11</td>\n",
       "      <td>27390.0</td>\n",
       "      <td>0.000030</td>\n",
       "      <td>5.586165</td>\n",
       "      <td>187602.739726</td>\n",
       "      <td>xx-small</td>\n",
       "      <td>x-small</td>\n",
       "      <td>xx-large</td>\n",
       "      <td>x-large</td>\n",
       "    </tr>\n",
       "  </tbody>\n",
       "</table>\n",
       "</div>"
      ],
      "text/plain": [
       "                 cause  death_rate  death_rate_normalized  population  \\\n",
       "0  Alzheimer's disease     35.2625               0.038138     4903185   \n",
       "1  Alzheimer's disease     35.2625               0.038138     4903185   \n",
       "\n",
       "  legal_form business_type  revenue_in_thousands  establishments_per_person  \\\n",
       "0       9101            11                4246.0                   0.000006   \n",
       "1       9111            11               27390.0                   0.000030   \n",
       "\n",
       "   revenue_per_person  revenue_per_establishment population_bin  \\\n",
       "0            0.865968              141533.333333       xx-small   \n",
       "1            5.586165              187602.739726       xx-small   \n",
       "\n",
       "  establishments_bin revenue_per_establishment_bin death_rate_bin  \n",
       "0           xx-small                       x-large        x-large  \n",
       "1            x-small                      xx-large        x-large  "
      ]
     },
     "execution_count": 231,
     "metadata": {},
     "output_type": "execute_result"
    }
   ],
   "source": [
    "df = df.merge(all_labels_df, left_index=True, right_index=True, suffixes=(None, \"_bin\"))\n",
    "print(df[\"death_rate_bin\"].value_counts())\n",
    "print(f\"{df.shape[0]:,} rows\")\n",
    "df.head(2)"
   ]
  }
 ],
 "metadata": {
  "kernelspec": {
   "display_name": "Python 3 (ipykernel)",
   "language": "python",
   "name": "python3"
  },
  "language_info": {
   "codemirror_mode": {
    "name": "ipython",
    "version": 3
   },
   "file_extension": ".py",
   "mimetype": "text/x-python",
   "name": "python",
   "nbconvert_exporter": "python",
   "pygments_lexer": "ipython3",
   "version": "3.12.2"
  }
 },
 "nbformat": 4,
 "nbformat_minor": 5
}
